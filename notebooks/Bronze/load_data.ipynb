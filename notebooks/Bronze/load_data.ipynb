{
 "cells": [
  {
   "cell_type": "markdown",
   "metadata": {
    "application/vnd.databricks.v1+cell": {
     "cellMetadata": {},
     "inputWidgets": {},
     "nuid": "ce1c2cac-c81b-4e84-b884-21629a406a00",
     "showTitle": false,
     "tableResultSettingsMap": {},
     "title": ""
    }
   },
   "source": [
    "## This notebook performs the following tasks:\n",
    "\n",
    "1. Load data from parquet files located in the DBFS file system of Databricks. The archives correspond to customers, employees, geographical data of Medellín neighborhoods and specific data in the city.\n",
    "2. Each file is read in a Spark Dataframe.\n",
    "3. The resulting dataframes are written as tables in the Databricks environment, using the 'Overwrite' mode to replace any existing table with the same name. This allows the data to be available for SQL queries and subsequent analysis."
   ]
  },
  {
   "cell_type": "code",
   "execution_count": 0,
   "metadata": {
    "application/vnd.databricks.v1+cell": {
     "cellMetadata": {
      "byteLimit": 2048000,
      "rowLimit": 10000
     },
     "inputWidgets": {},
     "nuid": "06cf1ed3-06e1-41f3-b7d7-79a62b0231bf",
     "showTitle": false,
     "tableResultSettingsMap": {},
     "title": ""
    },
    "microsoft": {
     "language": "python",
     "language_group": "synapse_pyspark"
    }
   },
   "outputs": [],
   "source": [
    "%run ../Transversal/config"
   ]
  },
  {
   "cell_type": "code",
   "execution_count": 0,
   "metadata": {
    "application/vnd.databricks.v1+cell": {
     "cellMetadata": {
      "byteLimit": 2048000,
      "rowLimit": 10000
     },
     "inputWidgets": {},
     "nuid": "6e977a52-872e-4803-be4a-777ff7a7a717",
     "showTitle": false,
     "tableResultSettingsMap": {},
     "title": ""
    },
    "microsoft": {
     "language": "python",
     "language_group": "synapse_pyspark"
    }
   },
   "outputs": [],
   "source": [
    "customers = spark.read.parquet('dbfs:/Volumes/unalwater_v2/default/files/customers.parquet')\n",
    "employees = spark.read.parquet('dbfs:/Volumes/unalwater_v2/default/files/employees.parquet')\n",
    "geodata = spark.read.parquet('dbfs:/Volumes/unalwater_v2/default/files/medellin_neighborhoods.parquet')\n",
    "medellin = spark.read.parquet('dbfs:/Volumes/unalwater_v2/default/files/50001.parquet')"
   ]
  },
  {
   "cell_type": "code",
   "execution_count": 0,
   "metadata": {
    "application/vnd.databricks.v1+cell": {
     "cellMetadata": {
      "byteLimit": 2048000,
      "rowLimit": 10000
     },
     "inputWidgets": {},
     "nuid": "bde5f4cb-4e19-4913-b131-f147433c6f9d",
     "showTitle": false,
     "tableResultSettingsMap": {},
     "title": ""
    },
    "microsoft": {
     "language": "python",
     "language_group": "synapse_pyspark"
    }
   },
   "outputs": [],
   "source": [
    "customers.write.mode('overwrite').saveAsTable(Bronze_Customers)\n",
    "employees.write.mode('overwrite').saveAsTable(Bronze_Employes)\n",
    "geodata.write.mode('overwrite').saveAsTable(Bronze_Geodata)\n",
    "medellin.write.mode('overwrite').saveAsTable(Bronze_Medellin)"
   ]
  }
 ],
 "metadata": {
  "application/vnd.databricks.v1+notebook": {
   "computePreferences": null,
   "dashboards": [],
   "environmentMetadata": null,
   "inputWidgetPreferences": null,
   "language": "python",
   "notebookMetadata": {
    "pythonIndentUnit": 4
   },
   "notebookName": "load_data",
   "widgets": {}
  },
  "dependencies": {
   "lakehouse": {
    "default_lakehouse": "5d727189-ca80-47e8-b94d-a7289df703a2",
    "default_lakehouse_name": "unalwater",
    "default_lakehouse_workspace_id": "19f7c29b-83a9-42bb-812f-ef7bfc71c961",
    "known_lakehouses": [
     {
      "id": "5d727189-ca80-47e8-b94d-a7289df703a2"
     }
    ]
   }
  },
  "kernel_info": {
   "name": "synapse_pyspark"
  },
  "kernelspec": {
   "display_name": "synapse_pyspark",
   "name": "synapse_pyspark"
  },
  "language_info": {
   "name": "python"
  },
  "microsoft": {
   "language": "python",
   "language_group": "synapse_pyspark",
   "ms_spell_check": {
    "ms_spell_check_language": "es"
   }
  },
  "nteract": {
   "version": "nteract-front-end@1.0.0"
  },
  "spark_compute": {
   "compute_id": "/trident/default",
   "session_options": {
    "conf": {
     "spark.synapse.nbs.session.timeout": "1200000"
    }
   }
  }
 },
 "nbformat": 4,
 "nbformat_minor": 0
}
