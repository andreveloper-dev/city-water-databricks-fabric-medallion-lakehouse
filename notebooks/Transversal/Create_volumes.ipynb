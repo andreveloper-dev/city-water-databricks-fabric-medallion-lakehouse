{
 "cells": [
  {
   "cell_type": "markdown",
   "metadata": {
    "application/vnd.databricks.v1+cell": {
     "cellMetadata": {},
     "inputWidgets": {},
     "nuid": "4e44fff6-6084-4c9a-8d45-35f7ae6761f9",
     "showTitle": false,
     "tableResultSettingsMap": {},
     "title": ""
    }
   },
   "source": [
    "# Explanation of the operation of this notebook\n",
    "\n",
    "This notebook is designed to guide the user through a specific workflow, using Databricks tools and functions. Throughout the notebook, code cells and Markdown are presented that explain each step of the process, allowing the interactive execution and documentation of the analysis performed.\n",
    "\n",
    "The main objective is to facilitate the understanding and reproducibility of the analysis, showing both the logic behind each operation and the results obtained. In addition, comments and descriptions are included to clarify the purpose of each section and how it relates to the general workflow of labor.\n",
    "\n",
    "At the end, the user will have a clear vision of the processed data, the applied transformations and the results obtained, all documented in a structured and accessible way in Markdown format."
   ]
  },
  {
   "cell_type": "code",
   "execution_count": 0,
   "metadata": {
    "application/vnd.databricks.v1+cell": {
     "cellMetadata": {},
     "inputWidgets": {},
     "nuid": "84069137-3a52-4cb9-a368-8e8403052eeb",
     "showTitle": false,
     "tableResultSettingsMap": {},
     "title": ""
    }
   },
   "outputs": [],
   "source": [
    "CREATE VOLUME IF NOT EXISTS unalwater_v2.default.checkpoint_BRONZE\n",
    "CREATE VOLUME IF NOT EXISTS unalwater_v2.default.checkpoint_SILVER\n",
    "CREATE VOLUME IF NOT EXISTS unalwater_v2.default.Input\n",
    "CREATE VOLUME IF NOT EXISTS unalwater_v2.default.landing_zone\n",
    "CREATE VOLUME IF NOT EXISTS unalwater_v2.default.tmp"
   ]
  }
 ],
 "metadata": {
  "application/vnd.databricks.v1+notebook": {
   "computePreferences": null,
   "dashboards": [],
   "environmentMetadata": {
    "base_environment": "",
    "environment_version": "2"
   },
   "inputWidgetPreferences": null,
   "language": "sql",
   "notebookMetadata": {
    "pythonIndentUnit": 4
   },
   "notebookName": "Create_volumes",
   "widgets": {}
  },
  "language_info": {
   "name": "sql"
  }
 },
 "nbformat": 4,
 "nbformat_minor": 0
}
