{
 "cells": [
  {
   "cell_type": "markdown",
   "metadata": {
    "application/vnd.databricks.v1+cell": {
     "cellMetadata": {},
     "inputWidgets": {},
     "nuid": "e5a93fc2-bf58-4430-8bb7-a36be7a14d18",
     "showTitle": false,
     "tableResultSettingsMap": {},
     "title": ""
    }
   },
   "source": [
    "# Explanation of the operation of this notebook\n",
    "\n",
    "This notebook is designed to guide the user through a specific workflow, using code cells and Markdown to document and execute processes. Here the objectives, main steps and important considerations for their use are explained. Each section of the notebooks contains clear instructions and practical examples to facilitate understanding and learning."
   ]
  },
  {
   "cell_type": "code",
   "execution_count": 0,
   "metadata": {
    "application/vnd.databricks.v1+cell": {
     "cellMetadata": {
      "byteLimit": 2048000,
      "rowLimit": 10000
     },
     "inputWidgets": {},
     "nuid": "52747e45-2321-477e-83e9-55834d709d31",
     "showTitle": false,
     "tableResultSettingsMap": {},
     "title": ""
    },
    "microsoft": {
     "language": "python",
     "language_group": "synapse_pyspark"
    }
   },
   "outputs": [
    {
     "data": {
      "text/plain": [
       "\u001b[0;31m---------------------------------------------------------------------------\u001b[0m\n",
       "\u001b[0;31mModuleNotFoundError\u001b[0m                       Traceback (most recent call last)\n",
       "File \u001b[0;32m<command-4770404071401114>, line 1\u001b[0m\n",
       "\u001b[0;32m----> 1\u001b[0m \u001b[38;5;28;01mfrom\u001b[39;00m \u001b[38;5;21;01mshapely\u001b[39;00m \u001b[38;5;28;01mimport\u001b[39;00m wkb\n",
       "\u001b[1;32m      2\u001b[0m \u001b[38;5;28;01mimport\u001b[39;00m \u001b[38;5;21;01mgeopandas\u001b[39;00m \u001b[38;5;28;01mas\u001b[39;00m \u001b[38;5;21;01mgpd\u001b[39;00m\n",
       "\u001b[1;32m      4\u001b[0m \u001b[38;5;28;01mdef\u001b[39;00m \u001b[38;5;21mspark_to_geopandas\u001b[39m(df_spark, crs\u001b[38;5;241m=\u001b[39m\u001b[38;5;124m\"\u001b[39m\u001b[38;5;124mEPSG:4326\u001b[39m\u001b[38;5;124m\"\u001b[39m):                                                           \u001b[38;5;66;03m#Definir función en utils.\u001b[39;00m\n",
       "\n",
       "File \u001b[0;32m/databricks/python_shell/lib/dbruntime/autoreload/discoverability/hook.py:71\u001b[0m, in \u001b[0;36mAutoreloadDiscoverabilityHook._patched_import\u001b[0;34m(self, name, *args, **kwargs)\u001b[0m\n",
       "\u001b[1;32m     65\u001b[0m \u001b[38;5;28;01mif\u001b[39;00m \u001b[38;5;129;01mnot\u001b[39;00m \u001b[38;5;28mself\u001b[39m\u001b[38;5;241m.\u001b[39m_should_hint \u001b[38;5;129;01mand\u001b[39;00m (\n",
       "\u001b[1;32m     66\u001b[0m     (module \u001b[38;5;241m:=\u001b[39m sys\u001b[38;5;241m.\u001b[39mmodules\u001b[38;5;241m.\u001b[39mget(absolute_name)) \u001b[38;5;129;01mis\u001b[39;00m \u001b[38;5;129;01mnot\u001b[39;00m \u001b[38;5;28;01mNone\u001b[39;00m \u001b[38;5;129;01mand\u001b[39;00m\n",
       "\u001b[1;32m     67\u001b[0m     (fname \u001b[38;5;241m:=\u001b[39m get_allowed_file_name_or_none(module)) \u001b[38;5;129;01mis\u001b[39;00m \u001b[38;5;129;01mnot\u001b[39;00m \u001b[38;5;28;01mNone\u001b[39;00m \u001b[38;5;129;01mand\u001b[39;00m\n",
       "\u001b[1;32m     68\u001b[0m     (mtime \u001b[38;5;241m:=\u001b[39m os\u001b[38;5;241m.\u001b[39mstat(fname)\u001b[38;5;241m.\u001b[39mst_mtime) \u001b[38;5;241m>\u001b[39m \u001b[38;5;28mself\u001b[39m\u001b[38;5;241m.\u001b[39mlast_mtime_by_modname\u001b[38;5;241m.\u001b[39mget(\n",
       "\u001b[1;32m     69\u001b[0m         absolute_name, \u001b[38;5;28mfloat\u001b[39m(\u001b[38;5;124m\"\u001b[39m\u001b[38;5;124minf\u001b[39m\u001b[38;5;124m\"\u001b[39m)) \u001b[38;5;129;01mand\u001b[39;00m \u001b[38;5;129;01mnot\u001b[39;00m \u001b[38;5;28mself\u001b[39m\u001b[38;5;241m.\u001b[39m_should_hint):\n",
       "\u001b[1;32m     70\u001b[0m     \u001b[38;5;28mself\u001b[39m\u001b[38;5;241m.\u001b[39m_should_hint \u001b[38;5;241m=\u001b[39m \u001b[38;5;28;01mTrue\u001b[39;00m\n",
       "\u001b[0;32m---> 71\u001b[0m module \u001b[38;5;241m=\u001b[39m \u001b[38;5;28mself\u001b[39m\u001b[38;5;241m.\u001b[39m_original_builtins_import(name, \u001b[38;5;241m*\u001b[39margs, \u001b[38;5;241m*\u001b[39m\u001b[38;5;241m*\u001b[39mkwargs)\n",
       "\u001b[1;32m     72\u001b[0m \u001b[38;5;28;01mif\u001b[39;00m (fname \u001b[38;5;241m:=\u001b[39m fname \u001b[38;5;129;01mor\u001b[39;00m get_allowed_file_name_or_none(module)) \u001b[38;5;129;01mis\u001b[39;00m \u001b[38;5;129;01mnot\u001b[39;00m \u001b[38;5;28;01mNone\u001b[39;00m:\n",
       "\u001b[1;32m     73\u001b[0m     mtime \u001b[38;5;241m=\u001b[39m mtime \u001b[38;5;129;01mor\u001b[39;00m os\u001b[38;5;241m.\u001b[39mstat(fname)\u001b[38;5;241m.\u001b[39mst_mtime\n",
       "\n",
       "\u001b[0;31mModuleNotFoundError\u001b[0m: No module named 'shapely'"
      ]
     },
     "metadata": {
      "application/vnd.databricks.v1+output": {
       "addedWidgets": {},
       "arguments": {},
       "datasetInfos": [],
       "jupyterProps": {
        "ename": "ModuleNotFoundError",
        "evalue": "No module named 'shapely'"
       },
       "metadata": {
        "errorSummary": "<span class='ansi-red-fg'>ModuleNotFoundError</span>: No module named 'shapely'"
       },
       "removedWidgets": [],
       "sqlProps": null,
       "stackFrames": [
        "\u001b[0;31m---------------------------------------------------------------------------\u001b[0m",
        "\u001b[0;31mModuleNotFoundError\u001b[0m                       Traceback (most recent call last)",
        "File \u001b[0;32m<command-4770404071401114>, line 1\u001b[0m\n\u001b[0;32m----> 1\u001b[0m \u001b[38;5;28;01mfrom\u001b[39;00m \u001b[38;5;21;01mshapely\u001b[39;00m \u001b[38;5;28;01mimport\u001b[39;00m wkb\n\u001b[1;32m      2\u001b[0m \u001b[38;5;28;01mimport\u001b[39;00m \u001b[38;5;21;01mgeopandas\u001b[39;00m \u001b[38;5;28;01mas\u001b[39;00m \u001b[38;5;21;01mgpd\u001b[39;00m\n\u001b[1;32m      4\u001b[0m \u001b[38;5;28;01mdef\u001b[39;00m \u001b[38;5;21mspark_to_geopandas\u001b[39m(df_spark, crs\u001b[38;5;241m=\u001b[39m\u001b[38;5;124m\"\u001b[39m\u001b[38;5;124mEPSG:4326\u001b[39m\u001b[38;5;124m\"\u001b[39m):                                                           \u001b[38;5;66;03m#Definir función en utils.\u001b[39;00m\n",
        "File \u001b[0;32m/databricks/python_shell/lib/dbruntime/autoreload/discoverability/hook.py:71\u001b[0m, in \u001b[0;36mAutoreloadDiscoverabilityHook._patched_import\u001b[0;34m(self, name, *args, **kwargs)\u001b[0m\n\u001b[1;32m     65\u001b[0m \u001b[38;5;28;01mif\u001b[39;00m \u001b[38;5;129;01mnot\u001b[39;00m \u001b[38;5;28mself\u001b[39m\u001b[38;5;241m.\u001b[39m_should_hint \u001b[38;5;129;01mand\u001b[39;00m (\n\u001b[1;32m     66\u001b[0m     (module \u001b[38;5;241m:=\u001b[39m sys\u001b[38;5;241m.\u001b[39mmodules\u001b[38;5;241m.\u001b[39mget(absolute_name)) \u001b[38;5;129;01mis\u001b[39;00m \u001b[38;5;129;01mnot\u001b[39;00m \u001b[38;5;28;01mNone\u001b[39;00m \u001b[38;5;129;01mand\u001b[39;00m\n\u001b[1;32m     67\u001b[0m     (fname \u001b[38;5;241m:=\u001b[39m get_allowed_file_name_or_none(module)) \u001b[38;5;129;01mis\u001b[39;00m \u001b[38;5;129;01mnot\u001b[39;00m \u001b[38;5;28;01mNone\u001b[39;00m \u001b[38;5;129;01mand\u001b[39;00m\n\u001b[1;32m     68\u001b[0m     (mtime \u001b[38;5;241m:=\u001b[39m os\u001b[38;5;241m.\u001b[39mstat(fname)\u001b[38;5;241m.\u001b[39mst_mtime) \u001b[38;5;241m>\u001b[39m \u001b[38;5;28mself\u001b[39m\u001b[38;5;241m.\u001b[39mlast_mtime_by_modname\u001b[38;5;241m.\u001b[39mget(\n\u001b[1;32m     69\u001b[0m         absolute_name, \u001b[38;5;28mfloat\u001b[39m(\u001b[38;5;124m\"\u001b[39m\u001b[38;5;124minf\u001b[39m\u001b[38;5;124m\"\u001b[39m)) \u001b[38;5;129;01mand\u001b[39;00m \u001b[38;5;129;01mnot\u001b[39;00m \u001b[38;5;28mself\u001b[39m\u001b[38;5;241m.\u001b[39m_should_hint):\n\u001b[1;32m     70\u001b[0m     \u001b[38;5;28mself\u001b[39m\u001b[38;5;241m.\u001b[39m_should_hint \u001b[38;5;241m=\u001b[39m \u001b[38;5;28;01mTrue\u001b[39;00m\n\u001b[0;32m---> 71\u001b[0m module \u001b[38;5;241m=\u001b[39m \u001b[38;5;28mself\u001b[39m\u001b[38;5;241m.\u001b[39m_original_builtins_import(name, \u001b[38;5;241m*\u001b[39margs, \u001b[38;5;241m*\u001b[39m\u001b[38;5;241m*\u001b[39mkwargs)\n\u001b[1;32m     72\u001b[0m \u001b[38;5;28;01mif\u001b[39;00m (fname \u001b[38;5;241m:=\u001b[39m fname \u001b[38;5;129;01mor\u001b[39;00m get_allowed_file_name_or_none(module)) \u001b[38;5;129;01mis\u001b[39;00m \u001b[38;5;129;01mnot\u001b[39;00m \u001b[38;5;28;01mNone\u001b[39;00m:\n\u001b[1;32m     73\u001b[0m     mtime \u001b[38;5;241m=\u001b[39m mtime \u001b[38;5;129;01mor\u001b[39;00m os\u001b[38;5;241m.\u001b[39mstat(fname)\u001b[38;5;241m.\u001b[39mst_mtime\n",
        "\u001b[0;31mModuleNotFoundError\u001b[0m: No module named 'shapely'"
       ],
       "type": "baseError"
      }
     },
     "output_type": "display_data"
    }
   ],
   "source": [
    "from shapely import wkb\n",
    "import geopandas as gpd\n",
    "\n",
    "def spark_to_geopandas(df_spark, crs=\"EPSG:4326\"):\n",
    "\n",
    "    df = df_spark.toPandas()\n",
    "\n",
    "    if isinstance(df['geometry'].iloc[0], bytes):\n",
    "        df['geometry'] = df['geometry'].apply(wkb.loads)\n",
    "\n",
    "    gdf = gpd.GeoDataFrame(df, geometry='geometry')\n",
    "\n",
    "    if gdf.crs is None:\n",
    "        gdf.set_crs(crs, inplace=True)\n",
    "        \n",
    "    return gdf"
   ]
  },
  {
   "cell_type": "code",
   "execution_count": 0,
   "metadata": {
    "application/vnd.databricks.v1+cell": {
     "cellMetadata": {},
     "inputWidgets": {},
     "nuid": "27fdb649-2e9a-4744-88db-3239d1fbff8a",
     "showTitle": false,
     "tableResultSettingsMap": {},
     "title": ""
    },
    "microsoft": {
     "language": "python",
     "language_group": "synapse_pyspark"
    }
   },
   "outputs": [],
   "source": [
    "import pytz\n",
    "\n",
    "horario_colombia = pytz.timezone(\"America/Bogota\")"
   ]
  },
  {
   "cell_type": "code",
   "execution_count": 0,
   "metadata": {
    "application/vnd.databricks.v1+cell": {
     "cellMetadata": {},
     "inputWidgets": {},
     "nuid": "0ccf957f-74a1-4314-838a-840fa32b110a",
     "showTitle": false,
     "tableResultSettingsMap": {},
     "title": ""
    },
    "microsoft": {
     "language": "python",
     "language_group": "synapse_pyspark"
    }
   },
   "outputs": [],
   "source": [
    "from pyspark.sql.functions import col, avg, round\n",
    "\n",
    "def calculate_bias_by_neighborhood(dataset):\n",
    "\n",
    "    bias_by_neighborhood = dataset.groupBy(\"neighborhood\").agg(\n",
    "        avg(\"quantity_products\").alias(\"avg_real\"),\n",
    "        avg(\"prediction\").alias(\"avg_predicted\")\n",
    "    ).withColumn(\n",
    "        \"avg_bias\", col(\"avg_predicted\") - col(\"avg_real\")\n",
    "    ).withColumn(\n",
    "        \"bias_percentage\", round((col(\"avg_bias\") / col(\"avg_real\")), 3)\n",
    "    ).orderBy(\"neighborhood\")\n",
    "\n",
    "    return bias_by_neighborhood"
   ]
  }
 ],
 "metadata": {
  "application/vnd.databricks.v1+notebook": {
   "computePreferences": null,
   "dashboards": [],
   "environmentMetadata": null,
   "inputWidgetPreferences": null,
   "language": "python",
   "notebookMetadata": {
    "mostRecentlyExecutedCommandWithImplicitDF": {
     "commandId": 5434028168003968,
     "dataframes": [
      "_sqldf"
     ]
    },
    "pythonIndentUnit": 4
   },
   "notebookName": "utils",
   "widgets": {}
  },
  "dependencies": {
   "environment": {
    "environmentId": "913dd7af-cd09-411a-93a1-ccfc2c7af3d7",
    "workspaceId": "19f7c29b-83a9-42bb-812f-ef7bfc71c961"
   },
   "lakehouse": {
    "default_lakehouse": "5d727189-ca80-47e8-b94d-a7289df703a2",
    "default_lakehouse_name": "unalwater",
    "default_lakehouse_workspace_id": "19f7c29b-83a9-42bb-812f-ef7bfc71c961",
    "known_lakehouses": [
     {
      "id": "5d727189-ca80-47e8-b94d-a7289df703a2"
     }
    ]
   }
  },
  "kernel_info": {
   "name": "synapse_pyspark"
  },
  "kernelspec": {
   "display_name": "synapse_pyspark",
   "name": "synapse_pyspark"
  },
  "language_info": {
   "name": "python"
  },
  "microsoft": {
   "language": "python",
   "language_group": "synapse_pyspark",
   "ms_spell_check": {
    "ms_spell_check_language": "es"
   }
  },
  "nteract": {
   "version": "nteract-front-end@1.0.0"
  },
  "spark_compute": {
   "compute_id": "/trident/default",
   "session_options": {
    "conf": {
     "spark.synapse.nbs.session.timeout": "1200000"
    }
   }
  }
 },
 "nbformat": 4,
 "nbformat_minor": 0
}
