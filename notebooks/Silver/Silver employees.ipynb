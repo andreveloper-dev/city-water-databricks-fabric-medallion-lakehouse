{
 "cells": [
  {
   "cell_type": "markdown",
   "metadata": {
    "application/vnd.databricks.v1+cell": {
     "cellMetadata": {},
     "inputWidgets": {},
     "nuid": "ec8ec842-5b75-4007-b6a5-0241ca2ed4d8",
     "showTitle": false,
     "tableResultSettingsMap": {},
     "title": ""
    }
   },
   "source": [
    "# Notebook explanation\n",
    "\n",
    "This notebook performs the processing and enrichment of employees of employees and sales orders using PysPark in Databricks. The main steps are described below:\n",
    "\n",
    "1. ** Data load **:  \n",
    "   The `bronze_employes` and` Silver_orders` boards are charged from the Spark catalog as dataframes.\n",
    "\n",
    "2. ** Order processing **:  \n",
    "   - Duplicates of orders are eliminated using the `Order_id` field.\n",
    "   - The `Event_Date` column is converted to Timestamp type and renamed as` approved_date`.\n",
    "   - Orders are grouped by `Employee_id` to calculate:\n",
    "     - Date of the first and last sale.\n",
    "     - Total orders and products sold.\n",
    "     - Minimum and maximum amount of products sold in an order.\n",
    "\n",
    "3. ** Employee enrichment **:  \n",
    "   - The aggregate information of orders is joined with employee data.\n",
    "   - The load date (`Load_date`) and the days from the first sale are added.\n",
    "\n",
    "4. ** Storage **:  \n",
    "   - The resulting Dataframe is saved as a delta table in the specified scheme, overwriting the existing table if applied.\n",
    "\n",
    "This flow allows you to maintain a table of employees enriched with sales metrics, useful for subsequent analysis and reports."
   ]
  },
  {
   "cell_type": "code",
   "execution_count": 0,
   "metadata": {
    "application/vnd.databricks.v1+cell": {
     "cellMetadata": {
      "byteLimit": 2048000,
      "rowLimit": 10000
     },
     "inputWidgets": {},
     "nuid": "d2c9106f-368a-4923-949c-953a71d0a951",
     "showTitle": false,
     "tableResultSettingsMap": {},
     "title": ""
    },
    "microsoft": {
     "language": "python",
     "language_group": "synapse_pyspark"
    }
   },
   "outputs": [],
   "source": [
    "%run ../Transversal/config"
   ]
  },
  {
   "cell_type": "code",
   "execution_count": 0,
   "metadata": {
    "application/vnd.databricks.v1+cell": {
     "cellMetadata": {
      "byteLimit": 2048000,
      "rowLimit": 10000
     },
     "inputWidgets": {},
     "nuid": "24d213b8-6008-467c-8f64-994fe6cb5791",
     "showTitle": false,
     "tableResultSettingsMap": {},
     "title": ""
    },
    "microsoft": {
     "language": "python",
     "language_group": "synapse_pyspark"
    }
   },
   "outputs": [
    {
     "name": "stdout",
     "output_type": "stream",
     "text": [
      "Requirement already satisfied: shapely in /local_disk0/.ephemeral_nfs/cluster_libraries/python/lib/python3.12/site-packages (2.1.1)\n",
      "Requirement already satisfied: numpy>=1.21 in /databricks/python3/lib/python3.12/site-packages (from shapely) (1.26.4)\n",
      "\u001b[43mNote: you may need to restart the kernel using %restart_python or dbutils.library.restartPython() to use updated packages.\u001b[0m\n"
     ]
    },
    {
     "data": {
      "application/vnd.databricks.v1+h3_hint": "",
      "text/plain": []
     },
     "metadata": {},
     "output_type": "display_data"
    }
   ],
   "source": [
    "%run ../Transversal/utils"
   ]
  },
  {
   "cell_type": "code",
   "execution_count": 0,
   "metadata": {
    "application/vnd.databricks.v1+cell": {
     "cellMetadata": {},
     "inputWidgets": {},
     "nuid": "51a0c9b5-a4d0-4713-962d-213028e4d89d",
     "showTitle": false,
     "tableResultSettingsMap": {},
     "title": ""
    },
    "microsoft": {
     "language": "python",
     "language_group": "synapse_pyspark"
    }
   },
   "outputs": [
    {
     "data": {
      "application/vnd.livy.statement-meta+json": {
       "execution_finish_time": "2025-07-28T16:58:24.3722003Z",
       "execution_start_time": "2025-07-28T16:58:10.4462054Z",
       "livy_statement_state": "available",
       "normalized_state": "finished",
       "parent_msg_id": "4d478156-df2e-4219-afff-a7f956f80dfa",
       "queued_time": "2025-07-28T16:56:53.9904101Z",
       "session_id": "5691d1ec-0330-4ace-8a05-90a63cae7660",
       "session_start_time": null,
       "spark_pool": null,
       "state": "finished",
       "statement_id": 10,
       "statement_ids": [
        10
       ]
      },
      "text/plain": [
       "StatementMeta(, 5691d1ec-0330-4ace-8a05-90a63cae7660, 10, Finished, Available, Finished)"
      ]
     },
     "metadata": {},
     "output_type": "display_data"
    }
   ],
   "source": [
    "from datetime import datetime\n",
    "import pytz\n",
    "\n",
    "current_date = datetime.now(horario_colombia).strftime(\"%d/%m/%Y %H:%M:%S\")\n",
    "\n",
    "employees = spark.table(Bronze_Employes)\n",
    "orders = spark.table(Silver_Orders)"
   ]
  },
  {
   "cell_type": "code",
   "execution_count": 0,
   "metadata": {
    "application/vnd.databricks.v1+cell": {
     "cellMetadata": {},
     "inputWidgets": {},
     "nuid": "7cce3b9a-12da-4ea8-8334-880f87e8e25b",
     "showTitle": false,
     "tableResultSettingsMap": {},
     "title": ""
    },
    "collapsed": false,
    "microsoft": {
     "language": "python",
     "language_group": "synapse_pyspark"
    }
   },
   "outputs": [
    {
     "data": {
      "application/vnd.livy.statement-meta+json": {
       "execution_finish_time": "2025-07-28T16:58:24.655915Z",
       "execution_start_time": "2025-07-28T16:58:24.3744697Z",
       "livy_statement_state": "available",
       "normalized_state": "finished",
       "parent_msg_id": "c2b01dc4-cdee-4b45-b4e9-99f30f680fbe",
       "queued_time": "2025-07-28T16:56:54.0580772Z",
       "session_id": "5691d1ec-0330-4ace-8a05-90a63cae7660",
       "session_start_time": null,
       "spark_pool": null,
       "state": "finished",
       "statement_id": 11,
       "statement_ids": [
        11
       ]
      },
      "text/plain": [
       "StatementMeta(, 5691d1ec-0330-4ace-8a05-90a63cae7660, 11, Finished, Available, Finished)"
      ]
     },
     "metadata": {},
     "output_type": "display_data"
    }
   ],
   "source": [
    "from pyspark.sql.functions import to_timestamp, col, min, max, count, sum as _sum, lit, datediff\n",
    "\n",
    "\n",
    "def generate_silver_employees(orders_df, employees_df, table_silver, current_date):\n",
    "\n",
    "    clean_orders_df = orders_df.dropDuplicates([\"order_id\"])\n",
    "    clean_orders_df = clean_orders_df.withColumn(\"approved_date\", to_timestamp(col(\"event_date\"), \"dd/MM/yyyy HH:mm:ss\"))\n",
    "\n",
    "    orders_agg = clean_orders_df.groupBy(\"employee_id\").agg(\n",
    "    min(\"approved_date\").alias(\"first_sale\"),\n",
    "    max(\"approved_date\").alias(\"last_sale\"),\n",
    "    count(\"order_id\").alias(\"total_orders\"),\n",
    "    _sum(\"quantity_products\").alias(\"total_products\"),\n",
    "    min(\"quantity_products\").alias(\"min_quantity_sold\"),\n",
    "    max(\"quantity_products\").alias(\"max_quantity_sold\"))\n",
    "\n",
    "    orders_agg = orders_agg.withColumn(\"load_date\", to_timestamp(lit(current_date), \"dd/MM/yyyy HH:mm:ss\"))\n",
    "    orders_agg = orders_agg.withColumn(\"days_since_first_sale\", datediff(col(\"load_date\"), col(\"first_sale\")))\n",
    "\n",
    "    df_merged = employees_df.join(\n",
    "        orders_agg,\n",
    "        on=\"employee_id\",\n",
    "        how=\"left\")\n",
    "\n",
    "    df_merged.write\\\n",
    "    .format(\"delta\")\\\n",
    "    .mode(\"overwrite\")\\\n",
    "    .option(\"overwriteSchema\", \"true\")\\\n",
    "    .saveAsTable(table_silver)\n",
    "\n",
    "    return df_merged"
   ]
  },
  {
   "cell_type": "code",
   "execution_count": 0,
   "metadata": {
    "advisor": {
     "adviceMetadata": "{\"artifactId\":\"32bd1c1d-500c-4a4d-b847-b8484f7d5e17\",\"activityId\":\"5691d1ec-0330-4ace-8a05-90a63cae7660\",\"applicationId\":\"application_1753721178082_0001\",\"jobGroupId\":\"12\",\"advices\":{\"info\":1}}"
    },
    "application/vnd.databricks.v1+cell": {
     "cellMetadata": {},
     "inputWidgets": {},
     "nuid": "9588206a-b6c8-4213-864c-f6dcfb5ec1d9",
     "showTitle": false,
     "tableResultSettingsMap": {},
     "title": ""
    },
    "microsoft": {
     "language": "python",
     "language_group": "synapse_pyspark"
    }
   },
   "outputs": [
    {
     "data": {
      "application/vnd.livy.statement-meta+json": {
       "execution_finish_time": "2025-07-28T16:58:53.6860173Z",
       "execution_start_time": "2025-07-28T16:58:24.6580728Z",
       "livy_statement_state": "available",
       "normalized_state": "finished",
       "parent_msg_id": "0409dd0b-ad26-4d33-be96-88193d5943ee",
       "queued_time": "2025-07-28T16:56:54.2132981Z",
       "session_id": "5691d1ec-0330-4ace-8a05-90a63cae7660",
       "session_start_time": null,
       "spark_pool": null,
       "state": "finished",
       "statement_id": 12,
       "statement_ids": [
        12
       ]
      },
      "text/plain": [
       "StatementMeta(, 5691d1ec-0330-4ace-8a05-90a63cae7660, 12, Finished, Available, Finished)"
      ]
     },
     "metadata": {},
     "output_type": "display_data"
    },
    {
     "data": {
      "text/plain": [
       "DataFrame[employee_id: bigint, name: string, phone: string, email: string, address: string, comission: double, first_sale: timestamp, last_sale: timestamp, total_orders: bigint, total_products: bigint, min_quantity_sold: int, max_quantity_sold: int, load_date: timestamp, days_since_first_sale: int]"
      ]
     },
     "execution_count": 28,
     "metadata": {},
     "output_type": "execute_result"
    }
   ],
   "source": [
    "generate_silver_employees(\n",
    "    orders_df=orders,\n",
    "    employees_df=employees,\n",
    "    table_silver=Silver_Employees,\n",
    "    current_date=current_date\n",
    ")"
   ]
  }
 ],
 "metadata": {
  "application/vnd.databricks.v1+notebook": {
   "computePreferences": null,
   "dashboards": [],
   "environmentMetadata": null,
   "inputWidgetPreferences": null,
   "language": "python",
   "notebookMetadata": {
    "pythonIndentUnit": 4
   },
   "notebookName": "Silver employees",
   "widgets": {}
  },
  "dependencies": {
   "environment": {
    "environmentId": "913dd7af-cd09-411a-93a1-ccfc2c7af3d7",
    "workspaceId": "19f7c29b-83a9-42bb-812f-ef7bfc71c961"
   },
   "lakehouse": {
    "default_lakehouse": "5d727189-ca80-47e8-b94d-a7289df703a2",
    "default_lakehouse_name": "unalwater",
    "default_lakehouse_workspace_id": "19f7c29b-83a9-42bb-812f-ef7bfc71c961",
    "known_lakehouses": [
     {
      "id": "5d727189-ca80-47e8-b94d-a7289df703a2"
     }
    ]
   }
  },
  "kernel_info": {
   "name": "synapse_pyspark"
  },
  "kernelspec": {
   "display_name": "synapse_pyspark",
   "name": "synapse_pyspark"
  },
  "language_info": {
   "name": "python"
  },
  "microsoft": {
   "language": "python",
   "language_group": "synapse_pyspark",
   "ms_spell_check": {
    "ms_spell_check_language": "es"
   }
  },
  "nteract": {
   "version": "nteract-front-end@1.0.0"
  },
  "spark_compute": {
   "compute_id": "/trident/default",
   "session_options": {
    "conf": {
     "spark.synapse.nbs.session.timeout": "1200000"
    }
   }
  },
  "synapse_widget": {
   "state": {},
   "version": "0.1"
  }
 },
 "nbformat": 4,
 "nbformat_minor": 0
}
