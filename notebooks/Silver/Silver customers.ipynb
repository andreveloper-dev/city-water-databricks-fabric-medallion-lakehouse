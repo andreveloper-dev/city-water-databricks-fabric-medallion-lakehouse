{
 "cells": [
  {
   "cell_type": "markdown",
   "metadata": {
    "application/vnd.databricks.v1+cell": {
     "cellMetadata": {},
     "inputWidgets": {},
     "nuid": "0d3c3f08-ca9e-4071-b23f-1c4ace34a25b",
     "showTitle": false,
     "tableResultSettingsMap": {},
     "title": ""
    }
   },
   "source": [
    "# Explanation of this notebook\n",
    "\n",
    "This notebook is designed to guide the user through a specific process, providing examples, explanations and results. Throughout the notebook, code and text cells are presented that help to understand the concepts and execute the necessary tasks step by step. The objective is to facilitate the learning and practical application of the topics discussed."
   ]
  },
  {
   "cell_type": "code",
   "execution_count": 0,
   "metadata": {
    "application/vnd.databricks.v1+cell": {
     "cellMetadata": {},
     "inputWidgets": {},
     "nuid": "a95b5fa1-4414-43b9-b63b-acd9fe10a192",
     "showTitle": false,
     "tableResultSettingsMap": {},
     "title": ""
    },
    "microsoft": {
     "language": "python",
     "language_group": "synapse_pyspark"
    }
   },
   "outputs": [],
   "source": [
    "%run ../Transversal/config"
   ]
  },
  {
   "cell_type": "code",
   "execution_count": 0,
   "metadata": {
    "application/vnd.databricks.v1+cell": {
     "cellMetadata": {},
     "inputWidgets": {},
     "nuid": "1b95a644-553f-4029-9073-68567b42785c",
     "showTitle": false,
     "tableResultSettingsMap": {},
     "title": ""
    },
    "microsoft": {
     "language": "python",
     "language_group": "synapse_pyspark"
    }
   },
   "outputs": [
    {
     "data": {
      "application/vnd.livy.statement-meta+json": {
       "execution_finish_time": "2025-07-26T14:33:40.4389809Z",
       "execution_start_time": "2025-07-26T14:33:39.6035152Z",
       "livy_statement_state": "available",
       "normalized_state": "finished",
       "parent_msg_id": "3ba2346c-c4f6-438a-9a7b-476df8a10e3a",
       "queued_time": "2025-07-26T14:33:39.6022761Z",
       "session_id": "cbc8c9cb-5296-4c52-9648-b1ba4a95e1b8",
       "session_start_time": null,
       "spark_pool": null,
       "state": "finished",
       "statement_id": 13,
       "statement_ids": [
        13
       ]
      },
      "text/plain": [
       "StatementMeta(, cbc8c9cb-5296-4c52-9648-b1ba4a95e1b8, 13, Finished, Available, Finished)"
      ]
     },
     "metadata": {},
     "output_type": "display_data"
    }
   ],
   "source": [
    "from datetime import datetime\n",
    "import pytz\n",
    "\n",
    "horario_colombia = pytz.timezone(\"America/Bogota\")\n",
    "current_date = datetime.now(horario_colombia).strftime(\"%d/%m/%Y %H:%M:%S\")\n",
    "\n",
    "customers = spark.table(Bronze_Customers)\n",
    "orders = spark.table(Silver_Orders)"
   ]
  },
  {
   "cell_type": "code",
   "execution_count": 0,
   "metadata": {
    "application/vnd.databricks.v1+cell": {
     "cellMetadata": {},
     "inputWidgets": {},
     "nuid": "2e6cb038-873e-48aa-9272-8c10cc087708",
     "showTitle": false,
     "tableResultSettingsMap": {},
     "title": ""
    },
    "microsoft": {
     "language": "python",
     "language_group": "synapse_pyspark"
    }
   },
   "outputs": [
    {
     "data": {
      "application/vnd.livy.statement-meta+json": {
       "execution_finish_time": "2025-07-26T14:33:40.7248158Z",
       "execution_start_time": "2025-07-26T14:33:40.4410867Z",
       "livy_statement_state": "available",
       "normalized_state": "finished",
       "parent_msg_id": "ad2565ef-c2fc-48ac-849e-fd9d1db4fbe1",
       "queued_time": "2025-07-26T14:33:39.6912275Z",
       "session_id": "cbc8c9cb-5296-4c52-9648-b1ba4a95e1b8",
       "session_start_time": null,
       "spark_pool": null,
       "state": "finished",
       "statement_id": 14,
       "statement_ids": [
        14
       ]
      },
      "text/plain": [
       "StatementMeta(, cbc8c9cb-5296-4c52-9648-b1ba4a95e1b8, 14, Finished, Available, Finished)"
      ]
     },
     "metadata": {},
     "output_type": "display_data"
    }
   ],
   "source": [
    "from pyspark.sql.functions import to_timestamp, col, min, max, count, sum as _sum, lit, datediff\n",
    "\n",
    "\n",
    "def generate_silver_customers(orders_df, employees_df, table_silver, current_date):\n",
    "\n",
    "    clean_orders_df = orders_df.dropDuplicates([\"order_id\"])\n",
    "    clean_orders_df = clean_orders_df.withColumn(\"approved_date\", to_timestamp(col(\"event_date\"), \"dd/MM/yyyy HH:mm:ss\"))\n",
    "\n",
    "    orders_agg = clean_orders_df.groupBy(\"customer_id\").agg(\n",
    "    min(\"approved_date\").alias(\"first_purchase\"),\n",
    "    max(\"approved_date\").alias(\"last_purchase\"),\n",
    "    count(\"order_id\").alias(\"total_orders\"),\n",
    "    _sum(\"quantity_products\").alias(\"total_products\"),\n",
    "    min(\"quantity_products\").alias(\"min_quantity_sold\"),\n",
    "    max(\"quantity_products\").alias(\"max_quantity_sold\"))\n",
    "\n",
    "    orders_agg = orders_agg.withColumn(\"load_date\", to_timestamp(lit(current_date), \"dd/MM/yyyy HH:mm:ss\"))\n",
    "    orders_agg = orders_agg.withColumn(\"days_as_customer\", datediff(col(\"load_date\"), col(\"first_purchase\")))\n",
    "\n",
    "    df_merged = employees_df.join(\n",
    "        orders_agg,\n",
    "        on=\"customer_id\",\n",
    "        how=\"inner\")\n",
    "\n",
    "    df_merged.write\\\n",
    "    .format(\"delta\")\\\n",
    "    .mode(\"overwrite\")\\\n",
    "    .option(\"overwriteSchema\", \"true\")\\\n",
    "    .saveAsTable(table_silver)\n",
    "\n",
    "    return df_merged"
   ]
  },
  {
   "cell_type": "code",
   "execution_count": 0,
   "metadata": {
    "advisor": {
     "adviceMetadata": "{\"artifactId\":\"9490c6f4-286b-480e-b7f7-4d6c0aacba3d\",\"activityId\":\"cbc8c9cb-5296-4c52-9648-b1ba4a95e1b8\",\"applicationId\":\"application_1753539286011_0001\",\"jobGroupId\":\"15\",\"advices\":{\"info\":1}}"
    },
    "application/vnd.databricks.v1+cell": {
     "cellMetadata": {},
     "inputWidgets": {},
     "nuid": "c6383682-c760-49cc-ac28-57bbba51a3fb",
     "showTitle": false,
     "tableResultSettingsMap": {},
     "title": ""
    },
    "collapsed": false,
    "microsoft": {
     "language": "python",
     "language_group": "synapse_pyspark"
    }
   },
   "outputs": [
    {
     "data": {
      "application/vnd.livy.statement-meta+json": {
       "execution_finish_time": "2025-07-26T14:33:50.3940444Z",
       "execution_start_time": "2025-07-26T14:33:40.7270742Z",
       "livy_statement_state": "available",
       "normalized_state": "finished",
       "parent_msg_id": "eaa42f84-46ed-4b30-bbf4-e9ac291bd2e7",
       "queued_time": "2025-07-26T14:33:39.7736526Z",
       "session_id": "cbc8c9cb-5296-4c52-9648-b1ba4a95e1b8",
       "session_start_time": null,
       "spark_pool": null,
       "state": "finished",
       "statement_id": 15,
       "statement_ids": [
        15
       ]
      },
      "text/plain": [
       "StatementMeta(, cbc8c9cb-5296-4c52-9648-b1ba4a95e1b8, 15, Finished, Available, Finished)"
      ]
     },
     "metadata": {},
     "output_type": "display_data"
    }
   ],
   "source": [
    "df = generate_silver_customers(\n",
    "    orders_df=orders,\n",
    "    employees_df=customers,\n",
    "    table_silver=Silver_Customers,\n",
    "    current_date=current_date\n",
    ")"
   ]
  }
 ],
 "metadata": {
  "application/vnd.databricks.v1+notebook": {
   "computePreferences": null,
   "dashboards": [],
   "environmentMetadata": null,
   "inputWidgetPreferences": null,
   "language": "python",
   "notebookMetadata": {
    "pythonIndentUnit": 4
   },
   "notebookName": "Silver customers",
   "widgets": {}
  },
  "dependencies": {
   "lakehouse": {
    "default_lakehouse": "5d727189-ca80-47e8-b94d-a7289df703a2",
    "default_lakehouse_name": "unalwater",
    "default_lakehouse_workspace_id": "19f7c29b-83a9-42bb-812f-ef7bfc71c961",
    "known_lakehouses": [
     {
      "id": "5d727189-ca80-47e8-b94d-a7289df703a2"
     }
    ]
   }
  },
  "kernel_info": {
   "name": "synapse_pyspark"
  },
  "kernelspec": {
   "display_name": "synapse_pyspark",
   "name": "synapse_pyspark"
  },
  "language_info": {
   "name": "python"
  },
  "microsoft": {
   "language": "python",
   "language_group": "synapse_pyspark",
   "ms_spell_check": {
    "ms_spell_check_language": "es"
   }
  },
  "nteract": {
   "version": "nteract-front-end@1.0.0"
  },
  "spark_compute": {
   "compute_id": "/trident/default",
   "session_options": {
    "conf": {
     "spark.synapse.nbs.session.timeout": "1200000"
    }
   }
  },
  "synapse_widget": {
   "state": {},
   "version": "0.1"
  }
 },
 "nbformat": 4,
 "nbformat_minor": 0
}
