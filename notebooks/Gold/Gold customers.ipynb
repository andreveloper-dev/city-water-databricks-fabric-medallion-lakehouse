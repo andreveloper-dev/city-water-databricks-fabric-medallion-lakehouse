{
 "cells": [
  {
   "cell_type": "markdown",
   "metadata": {
    "application/vnd.databricks.v1+cell": {
     "cellMetadata": {},
     "inputWidgets": {},
     "nuid": "a8088f5b-c8c9-4891-b6d0-dd8302030ad3",
     "showTitle": false,
     "tableResultSettingsMap": {},
     "title": ""
    }
   },
   "source": [
    "# Notebook explanation\n",
    "\n",
    "This notebook performs the following steps:\n",
    "\n",
    "1. ** Data load **:\n",
    "   - Two data tables are loaded using Spark: `Silver_orders` (orders) and` bronze_geodata` (geodatos).\n",
    "\n",
    "2. ** Geodatos processing **:\n",
    "   - From the geodatos table, the relevant columns are selected and renamed:\n",
    "     - `Identification 'is renamed as` district`.\n",
    "     - `Name` is renamed as` Neighborhood`.\n",
    "     - The `Geometry` column is maintained.\n",
    "\n",
    "3. ** Visualization **:\n",
    "   - The resulting dataframe `Geodata` is displayed to explore processed geographical data."
   ]
  },
  {
   "cell_type": "code",
   "execution_count": 0,
   "metadata": {
    "application/vnd.databricks.v1+cell": {
     "cellMetadata": {
      "byteLimit": 2048000,
      "rowLimit": 10000
     },
     "inputWidgets": {},
     "nuid": "9bfe9a8e-7b8a-443b-b40b-48cae3774415",
     "showTitle": false,
     "tableResultSettingsMap": {},
     "title": ""
    },
    "microsoft": {
     "language": "python",
     "language_group": "synapse_pyspark"
    }
   },
   "outputs": [],
   "source": [
    "%run ../Transversal/config"
   ]
  },
  {
   "cell_type": "code",
   "execution_count": 0,
   "metadata": {
    "application/vnd.databricks.v1+cell": {
     "cellMetadata": {
      "byteLimit": 2048000,
      "rowLimit": 10000
     },
     "inputWidgets": {},
     "nuid": "5d36d90f-d590-4b65-a9c9-28d344a07ed8",
     "showTitle": false,
     "tableResultSettingsMap": {},
     "title": ""
    },
    "microsoft": {
     "language": "python",
     "language_group": "synapse_pyspark"
    }
   },
   "outputs": [
    {
     "name": "stdout",
     "output_type": "stream",
     "text": [
      "Requirement already satisfied: shapely in /local_disk0/.ephemeral_nfs/cluster_libraries/python/lib/python3.12/site-packages (2.1.1)\n",
      "Requirement already satisfied: numpy>=1.21 in /databricks/python3/lib/python3.12/site-packages (from shapely) (1.26.4)\n",
      "\u001b[43mNote: you may need to restart the kernel using %restart_python or dbutils.library.restartPython() to use updated packages.\u001b[0m\n"
     ]
    },
    {
     "data": {
      "application/vnd.databricks.v1+h3_hint": "",
      "text/plain": []
     },
     "metadata": {},
     "output_type": "display_data"
    }
   ],
   "source": [
    "%run ../Transversal/utils"
   ]
  },
  {
   "cell_type": "code",
   "execution_count": 0,
   "metadata": {
    "application/vnd.databricks.v1+cell": {
     "cellMetadata": {
      "byteLimit": 2048000,
      "rowLimit": 10000
     },
     "inputWidgets": {},
     "nuid": "7b3c96f0-3ff1-436c-a3b6-b4d2287bed5c",
     "showTitle": false,
     "tableResultSettingsMap": {},
     "title": ""
    },
    "collapsed": false,
    "microsoft": {
     "language": "python",
     "language_group": "synapse_pyspark"
    }
   },
   "outputs": [],
   "source": [
    "from pyspark.sql.functions import col\n",
    "\n",
    "\n",
    "orders = spark.table(Silver_Orders)\n",
    "\n",
    "geodata = spark.table(Bronze_Geodata)\n",
    "\n",
    "geodata = geodata.select(\n",
    "    col('IDENTIFICACION').alias('district'),\n",
    "    col('NOMBRE').alias('neighborhood'),\n",
    "    'geometry'\n",
    ")\n",
    "\n"
   ]
  },
  {
   "cell_type": "code",
   "execution_count": 0,
   "metadata": {
    "application/vnd.databricks.v1+cell": {
     "cellMetadata": {},
     "inputWidgets": {},
     "nuid": "ffd3692c-b406-4058-b359-896986238a9e",
     "showTitle": false,
     "tableResultSettingsMap": {},
     "title": ""
    }
   },
   "outputs": [
    {
     "data": {
      "text/html": [
       "<style scoped>\n",
       "  .table-result-container {\n",
       "    max-height: 300px;\n",
       "    overflow: auto;\n",
       "  }\n",
       "  table, th, td {\n",
       "    border: 1px solid black;\n",
       "    border-collapse: collapse;\n",
       "  }\n",
       "  th, td {\n",
       "    padding: 5px;\n",
       "  }\n",
       "  th {\n",
       "    text-align: left;\n",
       "  }\n",
       "</style><div class='table-result-container'><table class='table-result'><thead style='background-color: white'><tr><th>district</th><th>neighborhood</th><th>geometry</th></tr></thead><tbody><tr><td>COMUNA 1</td><td>POPULAR</td><td>AQMAAAABAAAABRUAAP4gjeIS41LATwjkBqk3GUDyF9loFONSwLF7UJamNxlA28TbExfjUsA9c7iWpjcZQJmZmjgY41LAUGKdb3k3GUAgnlhdGeNSwLJpE7VZNxlA1YxrqxnjUsBdo5ejPTcZQNdzUw8Z41LAr3iLPxo3GUBl3RM= (truncated)</td></tr><tr><td>COMUNA 2</td><td>SANTA CRUZ</td><td>AQMAAAABAAAAmggAAGYi2nSm41LAr6QzFYQ9GUCg5gT+puNSwBDKokCMPRlA9qDLdafjUsAkDeFikz0ZQIahOMGn41LAR5EC4Zc9GUB+GRawqONSwCz6CL2cPRlAH5nsRKnjUsCBa0hxiz0ZQHcbWrqp41LAlNATzH09GUC+Zb0= (truncated)</td></tr><tr><td>COMUNA 3</td><td>MANRIQUE</td><td>AQMAAAABAAAAIRwAAA18cLG44lLAsEnTTjIlGUCZ2VUNueJSwKbuvj8zJRlAvTmUMrniUsD2VwhSMyUZQAxs90654lLA0/TxXzMlGUBs9hd/ueJSwEp57aMzJRlAAXwPrbniUsBvvK0tNCUZQCi29sK54lLAxsU7uTQlGUBb1OA= (truncated)</td></tr><tr><td>COMUNA 4</td><td>ARANJUEZ</td><td>AQMAAAABAAAA9gMAAMTwg5j841LAGHwxgUAqGUDMJHCd/ONSwJ5FJY1AKhlA4PjUNP3jUsD+7WP8QSoZQFjz8ND+41LAI5uxk0oqGUCFIhtt/+NSwEMN8YJOKhlAoTAT+ADkUsAX0Yt2WCoZQFx3p5QC5FLAWma522IqGUBWp4E= (truncated)</td></tr><tr><td>COMUNA 5</td><td>CASTILLA</td><td>AQMAAAABAAAAUAUAAIZm/cUz5FLAuOju8xxAGUCI4Tn1NORSwPOGGh8hQBlAMdplMzbkUsBS4kWWKUAZQBfbU9A25FLAAQiKhzNAGUCBFElCN+RSwP08ksI/QBlAIlvqmDfkUsBDPEhqSEAZQMx4kAY45FLABRedA1FAGUCrDGM= (truncated)</td></tr><tr><td>COMUNA 6</td><td>DOCE DE OCTUBRE</td><td>AQMAAAABAAAAYw8AAOdLNd7a5FLAUSp1IWQ+GUDG9DYo2+RSwEVu7BJmPhlAi7WYRNvkUsDzLgDBZz4ZQKstXmvc5FLAIQAwHno+GUDhfyCi3ORSwNeaA9Z9PhlANWAy0dzkUsB9g+jogT4ZQG7eaP7c5FLApUMy+4U+GUBIIEU= (truncated)</td></tr><tr><td>COMUNA 7</td><td>ROBLEDO</td><td>AQMAAAABAAAA7SMAAOYqj8HK5VLAfBAT4wYvGUCGWcbHyuVSwJyU358HLxlA+Z+Bz8rlUsDCiomKCC8ZQLu03urK5VLADX7exwsvGUDrin/+yuVSwOP7gRsOLxlArta7/8rlUsB4JgBBDi8ZQNrdAAHL5VLACdB2Zw4vGUBfsbM= (truncated)</td></tr><tr><td>COMUNA 8</td><td>VILLA HERMOSA</td><td>AQMAAAABAAAApyEAALJNRck/41LA75vzC6oMGUDKwg8VQONSwJHHWTCrDBlABcvgVkDjUsAqlN3orQwZQOOMoZpA41LA0I9wgrAMGUBc1GjkQONSwMq90UKyDBlAiIQzMkHjUsABlWUpswwZQNg5Bc5B41LAXxi7QbMMGUC5GO0= (truncated)</td></tr><tr><td>COMUNA 9</td><td>BUENOS AIRES</td><td>AQMAAAABAAAAyCQAAPpZ/oGF41LA7nQ/n+76GEDPXP2uheNSwE2Y+sTy+hhAHNrS54XjUsAFGwpT9voYQImdByOG41LA+oZDlfn6GEA4/vdihuNSwO4Jp4v8+hhAOZ9HpYbjUsAjuQqC//oYQGxAl+eG41LAO95eeAL7GECmoYc= (truncated)</td></tr><tr><td>COMUNA 10</td><td>LA CANDELARIA</td><td>AQMAAAABAAAAfgIAAHg/N98c5FLA5U6K6UYOGUDDhGlKI+RSwFH4G6NWDhlAXdUPUijkUsBtXGL1Yg4ZQO4AtO8v5FLAP+GWrHYOGUAh/+yZN+RSwAxi3IOKDhlAx0oA5TjkUsCzjnBkjQ4ZQHZeP7Y/5FLAAKEUZp4OGUCYZb8= (truncated)</td></tr><tr><td>COMUNA 11</td><td>LAURELES ESTADIO</td><td>AQMAAAABAAAAcQcAAELTEZva5VLAmPfh9ckSGUBL6QG52uVSwPX5YrTLEhlAVONC0drlUsC8D3qVzRIZQCOXjena5VLA4NfmlM8SGUAkkc4B2+VSwL+cYnXREhlAjXVgFNvlUsBpemWX0xIZQDT/SyHb5VLAW864+dUSGUAxblQ= (truncated)</td></tr><tr><td>COMUNA 12</td><td>LA AMÉRICA</td><td>AQMAAAABAAAAzwoAAEdMwGgZ5lLA+EJwkW0WGUCtV1gAGuZSwPQYKAuHFhlAyG37KhrmUsA0kLFDjRYZQMNZW1oa5lLAcCqtX5QWGUDvE5+vGuZSwMaJLJiaFhlAbXKrIxvmUsCJU+fjmhYZQB8aV1cd5lLAbu++hJgWGUCaUtk= (truncated)</td></tr><tr><td>COMUNA 13</td><td>SAN JAVIER</td><td>AQYAAAACAAAAAQMAAAABAAAAGh8AADlf2FBn51LANKwU0GYUGUAqgC4pZ+dSwDemm25uFBlAAaB6/mbnUsBveqcvcRQZQBlSCQVn51LA1WK5RnIUGUDIRX1jZ+dSwFJRhz5uFBlA5stOemfnUsBkwDNFbRQZQHpi4rxn51LAy8I= (truncated)</td></tr><tr><td>COMUNA 14</td><td>EL POBLADO</td><td>AQMAAAABAAAAjhcAAJjWe6Zt5FLAQ/wHoQXoGECc0PSvbeRSwAjj6OEg6BhAmxyjx23kUsCC+rIGNegYQInNvPtt5FLAaIHrdlHoGEBwdFxTbuRSwNhpKK5v6BhAsoz8fW7kUsAyvLs7e+gYQDM4o9Bv5FLAqZhrCMLoGEAVlBo= (truncated)</td></tr><tr><td>COMUNA 16</td><td>BELÉN</td><td>AQMAAAABAAAA0RwAAAdgpYQu51LA5zU7hOb0GEBR8JseL+dSwBGx2Db+9BhAIXBsHjDnUsALrh4rIfUYQIgnVJ4w51LAGU8SKjH1GEAhuVNSMedSwBv0RDw79RhAkA2x2zHnUsCzkWzAQfUYQN99oPwy51LAp2Ujakz1GEBItnM= (truncated)</td></tr><tr><td>CORREGIMIENTO 50</td><td>CORREGIMIENTO DE SAN SEBASTIÁN DE PALMITAS</td><td>AQMAAAABAAAAtRAAAAsNd6Ku6lLAzRIXZuF+GUCJKlQYrupSwJarJAB6fxlAXRMkNK7qUsBqZVKunH8ZQNTXOiew6lLAmodJ985/GUDdEr0gsepSwNe8i5HefxlAt0I4YLTqUsCvJZhr0n8ZQMBgtiu86lLALG0xPJJ/GUDix8M= (truncated)</td></tr><tr><td>CORREGIMIENTO 60</td><td>CORREGIMIENTO DE SAN CRISTÓBAL</td><td>AQYAAAACAAAAAQMAAAABAAAAojkAADXQe/mQ6VLAkLSrdP5SGUBUmu17kelSwC3OHMD+UhlA4BHd75HpUsB1dXjz/1IZQEnEIFqS6VLAaEXIcwFTGUDxqK/0kulSwI30SigEUxlAavaz15PpUsAWGfPbBlMZQOFK3NKU6VLAWuU= (truncated)</td></tr><tr><td>CORREGIMIENTO 70</td><td>CORREGIMIENTO DE ALTAVISTA</td><td>AQMAAAABAAAAmSUAAKsFEk7j6VLAv23NYa8KGUAWqbiL6OlSwFipje3NChlAoJDpMu3pUsAnaZq66QoZQCMU/rTy6VLAqxFHihQLGUAso1y7+ulSwLrHSks6CxlA7Rc8pADqUsAmSFZOOAsZQJiUu60F6lLAGF1VKzELGUAIkRM= (truncated)</td></tr><tr><td>CORREGIMIENTO 90</td><td>CORREGIMIENTO DE SANTA ELENA</td><td>AQMAAAABAAAAq34AAO20Tn+f4FLAOTWLvTEyGUA462nun+BSwKl9zk41MhlACR70cKDgUsBRXaL5OjIZQLPqLxWh4FLApWdFoEAyGUD9c8/MoeBSwFGd7XlHMhlAw29LiaLgUsBMxgbtTjIZQMhFdWej4FLAFoKcD1YyGUCkBkI= (truncated)</td></tr><tr><td>null</td><td>null</td><td>AQYAAAANAAAAAQMAAAABAAAAhgAAAPH6s42941LALJELSP+3GEApWDi0veNSwFuYPvb9txhAHwMEp73jUsC3lsqTALgYQBnXA6e941LAeptEDQS4GEBeYpOnveNSwPdVqSkEuBhANXlAzr3jUsC3oSMXA7gYQJ240FW+41LA7ro= (truncated)</td></tr><tr><td>CORREGIMIENTO 80</td><td>CORREGIMIENTO DE SAN ANTONIO DE PRADO</td><td>AQMAAAABAAAADRUAAMcLO+iY61LA2VMMItwaGUAEwIBJm+tSwNWnWrtFGxlAfQ05v5zrUsCgAZLvcxsZQO8CTMCd61LAvPTYt5MbGUBmBQJWoOtSwB0xGCbRGxlAumLk/aDrUsCdoQq84BsZQIwPK7ij61LAOP/Q3RocGUDuQbI= (truncated)</td></tr><tr><td>null</td><td>null</td><td>AQYAAAAIAAAAAQMAAAABAAAAiwUAAGSn/Xij5lLAdIFIzWgYGUDedFipo+ZSwIB7QM1pGBlAsUdy2KPmUsCiLC42axgZQP3CLQSk5lLA6x0+4WwYGUDpr/QspOZSwC6pDfRuGBlAEB7BUaTmUsAHj9hkcRgZQEgTHnek5lLAT/Y= (truncated)</td></tr><tr><td>COMUNA 15</td><td>GUAYABAL</td><td>AQMAAAABAAAAJAMAAC7lt+q/5VLAsjgH19zGGEAF0Srjv+VSwL6Nwg/dxhhAAp+U/L7lUsAU1c7T48YYQIg0UtW95VLAhaxMX+rGGEBb+xeYveVSwLdUvbrrxhhAeFHkk73lUsCGi7zR68YYQMG2ro+95VLAADKk5+vGGEAhYXA= (truncated)</td></tr></tbody></table></div>"
      ]
     },
     "metadata": {
      "application/vnd.databricks.v1+output": {
       "addedWidgets": {},
       "aggData": [],
       "aggError": "",
       "aggOverflow": false,
       "aggSchema": [],
       "aggSeriesLimitReached": false,
       "aggType": "",
       "arguments": {},
       "columnCustomDisplayInfos": {},
       "data": [
        [
         "COMUNA 1",
         "POPULAR",
         "AQMAAAABAAAABRUAAP4gjeIS41LATwjkBqk3GUDyF9loFONSwLF7UJamNxlA28TbExfjUsA9c7iWpjcZQJmZmjgY41LAUGKdb3k3GUAgnlhdGeNSwLJpE7VZNxlA1YxrqxnjUsBdo5ejPTcZQNdzUw8Z41LAr3iLPxo3GUBl3RM= (truncated)"
        ],
        [
         "COMUNA 2",
         "SANTA CRUZ",
         "AQMAAAABAAAAmggAAGYi2nSm41LAr6QzFYQ9GUCg5gT+puNSwBDKokCMPRlA9qDLdafjUsAkDeFikz0ZQIahOMGn41LAR5EC4Zc9GUB+GRawqONSwCz6CL2cPRlAH5nsRKnjUsCBa0hxiz0ZQHcbWrqp41LAlNATzH09GUC+Zb0= (truncated)"
        ],
        [
         "COMUNA 3",
         "MANRIQUE",
         "AQMAAAABAAAAIRwAAA18cLG44lLAsEnTTjIlGUCZ2VUNueJSwKbuvj8zJRlAvTmUMrniUsD2VwhSMyUZQAxs90654lLA0/TxXzMlGUBs9hd/ueJSwEp57aMzJRlAAXwPrbniUsBvvK0tNCUZQCi29sK54lLAxsU7uTQlGUBb1OA= (truncated)"
        ],
        [
         "COMUNA 4",
         "ARANJUEZ",
         "AQMAAAABAAAA9gMAAMTwg5j841LAGHwxgUAqGUDMJHCd/ONSwJ5FJY1AKhlA4PjUNP3jUsD+7WP8QSoZQFjz8ND+41LAI5uxk0oqGUCFIhtt/+NSwEMN8YJOKhlAoTAT+ADkUsAX0Yt2WCoZQFx3p5QC5FLAWma522IqGUBWp4E= (truncated)"
        ],
        [
         "COMUNA 5",
         "CASTILLA",
         "AQMAAAABAAAAUAUAAIZm/cUz5FLAuOju8xxAGUCI4Tn1NORSwPOGGh8hQBlAMdplMzbkUsBS4kWWKUAZQBfbU9A25FLAAQiKhzNAGUCBFElCN+RSwP08ksI/QBlAIlvqmDfkUsBDPEhqSEAZQMx4kAY45FLABRedA1FAGUCrDGM= (truncated)"
        ],
        [
         "COMUNA 6",
         "DOCE DE OCTUBRE",
         "AQMAAAABAAAAYw8AAOdLNd7a5FLAUSp1IWQ+GUDG9DYo2+RSwEVu7BJmPhlAi7WYRNvkUsDzLgDBZz4ZQKstXmvc5FLAIQAwHno+GUDhfyCi3ORSwNeaA9Z9PhlANWAy0dzkUsB9g+jogT4ZQG7eaP7c5FLApUMy+4U+GUBIIEU= (truncated)"
        ],
        [
         "COMUNA 7",
         "ROBLEDO",
         "AQMAAAABAAAA7SMAAOYqj8HK5VLAfBAT4wYvGUCGWcbHyuVSwJyU358HLxlA+Z+Bz8rlUsDCiomKCC8ZQLu03urK5VLADX7exwsvGUDrin/+yuVSwOP7gRsOLxlArta7/8rlUsB4JgBBDi8ZQNrdAAHL5VLACdB2Zw4vGUBfsbM= (truncated)"
        ],
        [
         "COMUNA 8",
         "VILLA HERMOSA",
         "AQMAAAABAAAApyEAALJNRck/41LA75vzC6oMGUDKwg8VQONSwJHHWTCrDBlABcvgVkDjUsAqlN3orQwZQOOMoZpA41LA0I9wgrAMGUBc1GjkQONSwMq90UKyDBlAiIQzMkHjUsABlWUpswwZQNg5Bc5B41LAXxi7QbMMGUC5GO0= (truncated)"
        ],
        [
         "COMUNA 9",
         "BUENOS AIRES",
         "AQMAAAABAAAAyCQAAPpZ/oGF41LA7nQ/n+76GEDPXP2uheNSwE2Y+sTy+hhAHNrS54XjUsAFGwpT9voYQImdByOG41LA+oZDlfn6GEA4/vdihuNSwO4Jp4v8+hhAOZ9HpYbjUsAjuQqC//oYQGxAl+eG41LAO95eeAL7GECmoYc= (truncated)"
        ],
        [
         "COMUNA 10",
         "LA CANDELARIA",
         "AQMAAAABAAAAfgIAAHg/N98c5FLA5U6K6UYOGUDDhGlKI+RSwFH4G6NWDhlAXdUPUijkUsBtXGL1Yg4ZQO4AtO8v5FLAP+GWrHYOGUAh/+yZN+RSwAxi3IOKDhlAx0oA5TjkUsCzjnBkjQ4ZQHZeP7Y/5FLAAKEUZp4OGUCYZb8= (truncated)"
        ],
        [
         "COMUNA 11",
         "LAURELES ESTADIO",
         "AQMAAAABAAAAcQcAAELTEZva5VLAmPfh9ckSGUBL6QG52uVSwPX5YrTLEhlAVONC0drlUsC8D3qVzRIZQCOXjena5VLA4NfmlM8SGUAkkc4B2+VSwL+cYnXREhlAjXVgFNvlUsBpemWX0xIZQDT/SyHb5VLAW864+dUSGUAxblQ= (truncated)"
        ],
        [
         "COMUNA 12",
         "LA AMÉRICA",
         "AQMAAAABAAAAzwoAAEdMwGgZ5lLA+EJwkW0WGUCtV1gAGuZSwPQYKAuHFhlAyG37KhrmUsA0kLFDjRYZQMNZW1oa5lLAcCqtX5QWGUDvE5+vGuZSwMaJLJiaFhlAbXKrIxvmUsCJU+fjmhYZQB8aV1cd5lLAbu++hJgWGUCaUtk= (truncated)"
        ],
        [
         "COMUNA 13",
         "SAN JAVIER",
         "AQYAAAACAAAAAQMAAAABAAAAGh8AADlf2FBn51LANKwU0GYUGUAqgC4pZ+dSwDemm25uFBlAAaB6/mbnUsBveqcvcRQZQBlSCQVn51LA1WK5RnIUGUDIRX1jZ+dSwFJRhz5uFBlA5stOemfnUsBkwDNFbRQZQHpi4rxn51LAy8I= (truncated)"
        ],
        [
         "COMUNA 14",
         "EL POBLADO",
         "AQMAAAABAAAAjhcAAJjWe6Zt5FLAQ/wHoQXoGECc0PSvbeRSwAjj6OEg6BhAmxyjx23kUsCC+rIGNegYQInNvPtt5FLAaIHrdlHoGEBwdFxTbuRSwNhpKK5v6BhAsoz8fW7kUsAyvLs7e+gYQDM4o9Bv5FLAqZhrCMLoGEAVlBo= (truncated)"
        ],
        [
         "COMUNA 16",
         "BELÉN",
         "AQMAAAABAAAA0RwAAAdgpYQu51LA5zU7hOb0GEBR8JseL+dSwBGx2Db+9BhAIXBsHjDnUsALrh4rIfUYQIgnVJ4w51LAGU8SKjH1GEAhuVNSMedSwBv0RDw79RhAkA2x2zHnUsCzkWzAQfUYQN99oPwy51LAp2Ujakz1GEBItnM= (truncated)"
        ],
        [
         "CORREGIMIENTO 50",
         "CORREGIMIENTO DE SAN SEBASTIÁN DE PALMITAS",
         "AQMAAAABAAAAtRAAAAsNd6Ku6lLAzRIXZuF+GUCJKlQYrupSwJarJAB6fxlAXRMkNK7qUsBqZVKunH8ZQNTXOiew6lLAmodJ985/GUDdEr0gsepSwNe8i5HefxlAt0I4YLTqUsCvJZhr0n8ZQMBgtiu86lLALG0xPJJ/GUDix8M= (truncated)"
        ],
        [
         "CORREGIMIENTO 60",
         "CORREGIMIENTO DE SAN CRISTÓBAL",
         "AQYAAAACAAAAAQMAAAABAAAAojkAADXQe/mQ6VLAkLSrdP5SGUBUmu17kelSwC3OHMD+UhlA4BHd75HpUsB1dXjz/1IZQEnEIFqS6VLAaEXIcwFTGUDxqK/0kulSwI30SigEUxlAavaz15PpUsAWGfPbBlMZQOFK3NKU6VLAWuU= (truncated)"
        ],
        [
         "CORREGIMIENTO 70",
         "CORREGIMIENTO DE ALTAVISTA",
         "AQMAAAABAAAAmSUAAKsFEk7j6VLAv23NYa8KGUAWqbiL6OlSwFipje3NChlAoJDpMu3pUsAnaZq66QoZQCMU/rTy6VLAqxFHihQLGUAso1y7+ulSwLrHSks6CxlA7Rc8pADqUsAmSFZOOAsZQJiUu60F6lLAGF1VKzELGUAIkRM= (truncated)"
        ],
        [
         "CORREGIMIENTO 90",
         "CORREGIMIENTO DE SANTA ELENA",
         "AQMAAAABAAAAq34AAO20Tn+f4FLAOTWLvTEyGUA462nun+BSwKl9zk41MhlACR70cKDgUsBRXaL5OjIZQLPqLxWh4FLApWdFoEAyGUD9c8/MoeBSwFGd7XlHMhlAw29LiaLgUsBMxgbtTjIZQMhFdWej4FLAFoKcD1YyGUCkBkI= (truncated)"
        ],
        [
         null,
         null,
         "AQYAAAANAAAAAQMAAAABAAAAhgAAAPH6s42941LALJELSP+3GEApWDi0veNSwFuYPvb9txhAHwMEp73jUsC3lsqTALgYQBnXA6e941LAeptEDQS4GEBeYpOnveNSwPdVqSkEuBhANXlAzr3jUsC3oSMXA7gYQJ240FW+41LA7ro= (truncated)"
        ],
        [
         "CORREGIMIENTO 80",
         "CORREGIMIENTO DE SAN ANTONIO DE PRADO",
         "AQMAAAABAAAADRUAAMcLO+iY61LA2VMMItwaGUAEwIBJm+tSwNWnWrtFGxlAfQ05v5zrUsCgAZLvcxsZQO8CTMCd61LAvPTYt5MbGUBmBQJWoOtSwB0xGCbRGxlAumLk/aDrUsCdoQq84BsZQIwPK7ij61LAOP/Q3RocGUDuQbI= (truncated)"
        ],
        [
         null,
         null,
         "AQYAAAAIAAAAAQMAAAABAAAAiwUAAGSn/Xij5lLAdIFIzWgYGUDedFipo+ZSwIB7QM1pGBlAsUdy2KPmUsCiLC42axgZQP3CLQSk5lLA6x0+4WwYGUDpr/QspOZSwC6pDfRuGBlAEB7BUaTmUsAHj9hkcRgZQEgTHnek5lLAT/Y= (truncated)"
        ],
        [
         "COMUNA 15",
         "GUAYABAL",
         "AQMAAAABAAAAJAMAAC7lt+q/5VLAsjgH19zGGEAF0Srjv+VSwL6Nwg/dxhhAAp+U/L7lUsAU1c7T48YYQIg0UtW95VLAhaxMX+rGGEBb+xeYveVSwLdUvbrrxhhAeFHkk73lUsCGi7zR68YYQMG2ro+95VLAADKk5+vGGEAhYXA= (truncated)"
        ]
       ],
       "datasetInfos": [],
       "dbfsResultPath": null,
       "isJsonSchema": true,
       "metadata": {},
       "overflow": false,
       "plotOptions": {
        "customPlotOptions": {},
        "displayType": "table",
        "pivotAggregation": null,
        "pivotColumns": null,
        "xColumns": null,
        "yColumns": null
       },
       "removedWidgets": [],
       "schema": [
        {
         "metadata": "{}",
         "name": "district",
         "type": "\"string\""
        },
        {
         "metadata": "{}",
         "name": "neighborhood",
         "type": "\"string\""
        },
        {
         "metadata": "{}",
         "name": "geometry",
         "type": "\"binary\""
        }
       ],
       "type": "table"
      }
     },
     "output_type": "display_data"
    }
   ],
   "source": [
    "display(geodata)"
   ]
  },
  {
   "cell_type": "code",
   "execution_count": 0,
   "metadata": {
    "application/vnd.databricks.v1+cell": {
     "cellMetadata": {
      "byteLimit": 2048000,
      "rowLimit": 10000
     },
     "inputWidgets": {},
     "nuid": "09b37c51-1d93-49b8-8927-8cea7265f4ff",
     "showTitle": false,
     "tableResultSettingsMap": {},
     "title": ""
    },
    "microsoft": {
     "language": "python",
     "language_group": "synapse_pyspark"
    }
   },
   "outputs": [],
   "source": [
    "from pyspark.sql.window import Window\n",
    "from pyspark.sql.functions import to_timestamp, row_number, sum as _sum, dense_rank\n",
    "\n",
    "\n",
    "def customers_location(df_orders, geodata, table_gold):\n",
    "\n",
    "    orders_filtered = df_orders.select('district',\n",
    "                                    'neighborhood',\n",
    "                                    'quantity_products')\n",
    "\n",
    "    orders_grouped = orders_filtered.groupBy(\"district\", \"neighborhood\").agg(\n",
    "    _sum(\"quantity_products\").alias(\"total_products\"))\n",
    "\n",
    "    window_spec = Window.orderBy(col(\"total_products\").desc())\n",
    "    orders_filtered_ranked = orders_grouped.withColumn(\"ranking\", dense_rank().over(window_spec))\n",
    "\n",
    "    orders_with_geom = orders_filtered_ranked.join(\n",
    "    geodata,\n",
    "    on=[\"district\", \"neighborhood\"],\n",
    "    how=\"left\"\n",
    "    )\n",
    "    \n",
    "    gdf_orders = spark_to_geopandas(orders_with_geom)\n",
    "    gdf_orders = gdf_orders.set_crs(\"EPSG:3116\", allow_override=True)\n",
    "    gdf_orders[\"centroid\"] = gdf_orders[\"geometry\"].centroid\n",
    "    gdf_orders = gdf_orders.to_crs(\"EPSG:4326\")\n",
    "    gdf_orders[\"longitude\"] = gdf_orders[\"centroid\"].x\n",
    "    gdf_orders[\"latitude\"] = gdf_orders[\"centroid\"].y\n",
    "\n",
    "    orders_enriched = spark.createDataFrame(gdf_orders.drop(columns=[\"geometry\", \"centroid\"]))\n",
    "    orders_enriched = orders_enriched.orderBy(col(\"ranking\").asc())\n",
    "\n",
    "\n",
    "    orders_enriched.write\\\n",
    "    .format(\"delta\")\\\n",
    "    .mode(\"overwrite\")\\\n",
    "    .option(\"overwriteSchema\", \"true\")\\\n",
    "    .saveAsTable(table_gold)\n",
    "\n",
    "    return orders_enriched"
   ]
  },
  {
   "cell_type": "code",
   "execution_count": 0,
   "metadata": {
    "advisor": {
     "adviceMetadata": "{\"artifactId\":\"ce04d39f-48b3-47f8-970b-18c375d94f7a\",\"activityId\":\"4b27f4cc-941d-470e-bec5-23d572fd7410\",\"applicationId\":\"application_1753658444971_0001\",\"jobGroupId\":\"25\",\"advices\":{\"info\":1}}"
    },
    "application/vnd.databricks.v1+cell": {
     "cellMetadata": {
      "byteLimit": 2048000,
      "rowLimit": 10000
     },
     "inputWidgets": {},
     "nuid": "5a3ce189-9570-4139-8745-c6a5154dc60d",
     "showTitle": false,
     "tableResultSettingsMap": {},
     "title": ""
    },
    "collapsed": false,
    "microsoft": {
     "language": "python",
     "language_group": "synapse_pyspark"
    }
   },
   "outputs": [
    {
     "data": {
      "text/plain": [
       "com.databricks.backend.common.rpc.CommandCancelledException\n",
       "\tat com.databricks.spark.chauffeur.SequenceExecutionState.$anonfun$cancel$5(SequenceExecutionState.scala:132)\n",
       "\tat scala.Option.getOrElse(Option.scala:189)\n",
       "\tat com.databricks.spark.chauffeur.SequenceExecutionState.$anonfun$cancel$3(SequenceExecutionState.scala:132)\n",
       "\tat com.databricks.spark.chauffeur.SequenceExecutionState.$anonfun$cancel$3$adapted(SequenceExecutionState.scala:129)\n",
       "\tat scala.collection.immutable.Range.foreach(Range.scala:158)\n",
       "\tat com.databricks.spark.chauffeur.SequenceExecutionState.cancel(SequenceExecutionState.scala:129)\n",
       "\tat com.databricks.spark.chauffeur.ExecContextState.cancelRunningSequence(ExecContextState.scala:715)\n",
       "\tat com.databricks.spark.chauffeur.ExecContextState.$anonfun$cancel$1(ExecContextState.scala:435)\n",
       "\tat scala.Option.getOrElse(Option.scala:189)\n",
       "\tat com.databricks.spark.chauffeur.ExecContextState.cancel(ExecContextState.scala:435)\n",
       "\tat com.databricks.spark.chauffeur.ExecutionContextManagerV1.cancelExecution(ExecutionContextManagerV1.scala:473)\n",
       "\tat com.databricks.spark.chauffeur.ChauffeurState.$anonfun$process$1(ChauffeurState.scala:750)\n",
       "\tat com.databricks.logging.UsageLogging.$anonfun$recordOperation$1(UsageLogging.scala:510)\n",
       "\tat com.databricks.logging.UsageLogging.executeThunkAndCaptureResultTags$1(UsageLogging.scala:616)\n",
       "\tat com.databricks.logging.UsageLogging.$anonfun$recordOperationWithResultTags$4(UsageLogging.scala:643)\n",
       "\tat com.databricks.logging.AttributionContextTracing.$anonfun$withAttributionContext$1(AttributionContextTracing.scala:49)\n",
       "\tat com.databricks.logging.AttributionContext$.$anonfun$withValue$1(AttributionContext.scala:293)\n",
       "\tat scala.util.DynamicVariable.withValue(DynamicVariable.scala:62)\n",
       "\tat com.databricks.logging.AttributionContext$.withValue(AttributionContext.scala:289)\n",
       "\tat com.databricks.logging.AttributionContextTracing.withAttributionContext(AttributionContextTracing.scala:47)\n",
       "\tat com.databricks.logging.AttributionContextTracing.withAttributionContext$(AttributionContextTracing.scala:44)\n",
       "\tat com.databricks.spark.chauffeur.ChauffeurState.withAttributionContext(ChauffeurState.scala:84)\n",
       "\tat com.databricks.logging.AttributionContextTracing.withAttributionTags(AttributionContextTracing.scala:96)\n",
       "\tat com.databricks.logging.AttributionContextTracing.withAttributionTags$(AttributionContextTracing.scala:77)\n",
       "\tat com.databricks.spark.chauffeur.ChauffeurState.withAttributionTags(ChauffeurState.scala:84)\n",
       "\tat com.databricks.logging.UsageLogging.recordOperationWithResultTags(UsageLogging.scala:611)\n",
       "\tat com.databricks.logging.UsageLogging.recordOperationWithResultTags$(UsageLogging.scala:519)\n",
       "\tat com.databricks.spark.chauffeur.ChauffeurState.recordOperationWithResultTags(ChauffeurState.scala:84)\n",
       "\tat com.databricks.logging.UsageLogging.recordOperation(UsageLogging.scala:511)\n",
       "\tat com.databricks.logging.UsageLogging.recordOperation$(UsageLogging.scala:475)\n",
       "\tat com.databricks.spark.chauffeur.ChauffeurState.recordOperation(ChauffeurState.scala:84)\n",
       "\tat com.databricks.spark.chauffeur.ChauffeurState.process(ChauffeurState.scala:728)\n",
       "\tat com.databricks.spark.chauffeur.Chauffeur$$anon$1$$anonfun$receive$1.handleDriverRequest$1(Chauffeur.scala:911)\n",
       "\tat com.databricks.spark.chauffeur.Chauffeur$$anon$1$$anonfun$receive$1.$anonfun$applyOrElse$4(Chauffeur.scala:937)\n",
       "\tat com.databricks.logging.UsageLogging.executeThunkAndCaptureResultTags$1(UsageLogging.scala:616)\n",
       "\tat com.databricks.logging.UsageLogging.$anonfun$recordOperationWithResultTags$4(UsageLogging.scala:643)\n",
       "\tat com.databricks.logging.AttributionContextTracing.$anonfun$withAttributionContext$1(AttributionContextTracing.scala:49)\n",
       "\tat com.databricks.logging.AttributionContext$.$anonfun$withValue$1(AttributionContext.scala:293)\n",
       "\tat scala.util.DynamicVariable.withValue(DynamicVariable.scala:62)\n",
       "\tat com.databricks.logging.AttributionContext$.withValue(AttributionContext.scala:289)\n",
       "\tat com.databricks.logging.AttributionContextTracing.withAttributionContext(AttributionContextTracing.scala:47)\n",
       "\tat com.databricks.logging.AttributionContextTracing.withAttributionContext$(AttributionContextTracing.scala:44)\n",
       "\tat com.databricks.rpc.ServerBackend.withAttributionContext(ServerBackend.scala:22)\n",
       "\tat com.databricks.logging.AttributionContextTracing.withAttributionTags(AttributionContextTracing.scala:96)\n",
       "\tat com.databricks.logging.AttributionContextTracing.withAttributionTags$(AttributionContextTracing.scala:77)\n",
       "\tat com.databricks.rpc.ServerBackend.withAttributionTags(ServerBackend.scala:22)\n",
       "\tat com.databricks.logging.UsageLogging.recordOperationWithResultTags(UsageLogging.scala:611)\n",
       "\tat com.databricks.logging.UsageLogging.recordOperationWithResultTags$(UsageLogging.scala:519)\n",
       "\tat com.databricks.rpc.ServerBackend.recordOperationWithResultTags(ServerBackend.scala:22)\n",
       "\tat com.databricks.spark.chauffeur.Chauffeur$$anon$1$$anonfun$receive$1.handleDriverRequestWithUsageLogging$1(Chauffeur.scala:936)\n",
       "\tat com.databricks.spark.chauffeur.Chauffeur$$anon$1$$anonfun$receive$1.applyOrElse(Chauffeur.scala:991)\n",
       "\tat com.databricks.spark.chauffeur.Chauffeur$$anon$1$$anonfun$receive$1.applyOrElse(Chauffeur.scala:776)\n",
       "\tat com.databricks.rpc.ServerBackend.$anonfun$internalReceive0$2(ServerBackend.scala:174)\n",
       "\tat com.databricks.rpc.ServerBackend$$anonfun$commonReceive$1.applyOrElse(ServerBackend.scala:200)\n",
       "\tat com.databricks.rpc.ServerBackend$$anonfun$commonReceive$1.applyOrElse(ServerBackend.scala:200)\n",
       "\tat com.databricks.rpc.ServerBackend.internalReceive0(ServerBackend.scala:171)\n",
       "\tat com.databricks.rpc.ServerBackend.$anonfun$internalReceive$1(ServerBackend.scala:147)\n",
       "\tat com.databricks.logging.UsageLogging.$anonfun$recordOperation$1(UsageLogging.scala:510)\n",
       "\tat com.databricks.logging.UsageLogging.executeThunkAndCaptureResultTags$1(UsageLogging.scala:616)\n",
       "\tat com.databricks.logging.UsageLogging.$anonfun$recordOperationWithResultTags$4(UsageLogging.scala:643)\n",
       "\tat com.databricks.logging.AttributionContextTracing.$anonfun$withAttributionContext$1(AttributionContextTracing.scala:49)\n",
       "\tat com.databricks.logging.AttributionContext$.$anonfun$withValue$1(AttributionContext.scala:293)\n",
       "\tat scala.util.DynamicVariable.withValue(DynamicVariable.scala:62)\n",
       "\tat com.databricks.logging.AttributionContext$.withValue(AttributionContext.scala:289)\n",
       "\tat com.databricks.logging.AttributionContextTracing.withAttributionContext(AttributionContextTracing.scala:47)\n",
       "\tat com.databricks.logging.AttributionContextTracing.withAttributionContext$(AttributionContextTracing.scala:44)\n",
       "\tat com.databricks.rpc.ServerBackend.withAttributionContext(ServerBackend.scala:22)\n",
       "\tat com.databricks.logging.AttributionContextTracing.withAttributionTags(AttributionContextTracing.scala:96)\n",
       "\tat com.databricks.logging.AttributionContextTracing.withAttributionTags$(AttributionContextTracing.scala:77)\n",
       "\tat com.databricks.rpc.ServerBackend.withAttributionTags(ServerBackend.scala:22)\n",
       "\tat com.databricks.logging.UsageLogging.recordOperationWithResultTags(UsageLogging.scala:611)\n",
       "\tat com.databricks.logging.UsageLogging.recordOperationWithResultTags$(UsageLogging.scala:519)\n",
       "\tat com.databricks.rpc.ServerBackend.recordOperationWithResultTags(ServerBackend.scala:22)\n",
       "\tat com.databricks.logging.UsageLogging.recordOperation(UsageLogging.scala:511)\n",
       "\tat com.databricks.logging.UsageLogging.recordOperation$(UsageLogging.scala:475)\n",
       "\tat com.databricks.rpc.ServerBackend.recordOperation(ServerBackend.scala:22)\n",
       "\tat com.databricks.rpc.ServerBackend.internalReceive(ServerBackend.scala:146)\n",
       "\tat com.databricks.rpc.JettyServer$RequestManager.handleRPC(JettyServer.scala:1033)\n",
       "\tat com.databricks.rpc.JettyServer$RequestManager.handleRequestAndRespond(JettyServer.scala:953)\n",
       "\tat com.databricks.rpc.JettyServer$RequestManager.$anonfun$handleHttp$5(JettyServer.scala:548)\n",
       "\tat com.databricks.rpc.JettyServer$RequestManager.$anonfun$handleHttp$5$adapted(JettyServer.scala:513)\n",
       "\tat com.databricks.logging.activity.ActivityContextFactory$.$anonfun$withActivityInternal$13(ActivityContextFactory.scala:831)\n",
       "\tat com.databricks.logging.AttributionContextTracing.$anonfun$withAttributionContext$1(AttributionContextTracing.scala:49)\n",
       "\tat com.databricks.logging.AttributionContext$.$anonfun$withValue$1(AttributionContext.scala:293)\n",
       "\tat scala.util.DynamicVariable.withValue(DynamicVariable.scala:62)\n",
       "\tat com.databricks.logging.AttributionContext$.withValue(AttributionContext.scala:289)\n",
       "\tat com.databricks.logging.AttributionContextTracing.withAttributionContext(AttributionContextTracing.scala:47)\n",
       "\tat com.databricks.logging.AttributionContextTracing.withAttributionContext$(AttributionContextTracing.scala:44)\n",
       "\tat com.databricks.logging.activity.ActivityContextFactory$.withAttributionContext(ActivityContextFactory.scala:53)\n",
       "\tat com.databricks.logging.activity.ActivityContextFactory$.$anonfun$withActivityInternal$3(ActivityContextFactory.scala:831)\n",
       "\tat com.databricks.context.integrity.IntegrityCheckContext$ThreadLocalStorage$.withValue(IntegrityCheckContext.scala:73)\n",
       "\tat com.databricks.logging.activity.ActivityContextFactory$.withActivityInternal(ActivityContextFactory.scala:794)\n",
       "\tat com.databricks.logging.activity.ActivityContextFactory$.withActivityInternal(ActivityContextFactory.scala:776)\n",
       "\tat com.databricks.logging.activity.ActivityContextFactory$.$anonfun$withServiceRequestActivity$15(ActivityContextFactory.scala:285)\n",
       "\tat com.databricks.logging.AttributionContextTracing.$anonfun$withAttributionContext$1(AttributionContextTracing.scala:49)\n",
       "\tat com.databricks.logging.AttributionContext$.$anonfun$withValue$1(AttributionContext.scala:293)\n",
       "\tat scala.util.DynamicVariable.withValue(DynamicVariable.scala:62)\n",
       "\tat com.databricks.logging.AttributionContext$.withValue(AttributionContext.scala:289)\n",
       "\tat com.databricks.logging.AttributionContextTracing.withAttributionContext(AttributionContextTracing.scala:47)\n",
       "\tat com.databricks.logging.AttributionContextTracing.withAttributionContext$(AttributionContextTracing.scala:44)\n",
       "\tat com.databricks.logging.activity.ActivityContextFactory$.withAttributionContext(ActivityContextFactory.scala:53)\n",
       "\tat com.databricks.logging.activity.ActivityContextFactory$.withServiceRequestActivity(ActivityContextFactory.scala:285)\n",
       "\tat com.databricks.rpc.JettyServer$RequestManager.handleHttp(JettyServer.scala:513)\n",
       "\tat com.databricks.rpc.JettyServer$RequestManager.doPost(JettyServer.scala:408)\n",
       "\tat javax.servlet.http.HttpServlet.service(HttpServlet.java:665)\n",
       "\tat com.databricks.rpc.HttpServletWithPatch.service(HttpServletWithPatch.scala:33)\n",
       "\tat javax.servlet.http.HttpServlet.service(HttpServlet.java:750)\n",
       "\tat org.eclipse.jetty.servlet.ServletHolder.handle(ServletHolder.java:799)\n",
       "\tat org.eclipse.jetty.servlet.ServletHandler.doHandle(ServletHandler.java:554)\n",
       "\tat org.eclipse.jetty.server.handler.ScopedHandler.nextScope(ScopedHandler.java:190)\n",
       "\tat org.eclipse.jetty.servlet.ServletHandler.doScope(ServletHandler.java:505)\n",
       "\tat org.eclipse.jetty.server.handler.ScopedHandler.handle(ScopedHandler.java:141)\n",
       "\tat org.eclipse.jetty.server.handler.HandlerWrapper.handle(HandlerWrapper.java:127)\n",
       "\tat org.eclipse.jetty.server.Server.handle(Server.java:516)\n",
       "\tat org.eclipse.jetty.server.HttpChannel.lambda$handle$1(HttpChannel.java:487)\n",
       "\tat org.eclipse.jetty.server.HttpChannel.dispatch(HttpChannel.java:732)\n",
       "\tat org.eclipse.jetty.server.HttpChannel.handle(HttpChannel.java:479)\n",
       "\tat org.eclipse.jetty.server.HttpConnection.onFillable(HttpConnection.java:277)\n",
       "\tat org.eclipse.jetty.io.AbstractConnection$ReadCallback.succeeded(AbstractConnection.java:311)\n",
       "\tat org.eclipse.jetty.io.FillInterest.fillable(FillInterest.java:105)\n",
       "\tat org.eclipse.jetty.io.ssl.SslConnection$DecryptedEndPoint.onFillable(SslConnection.java:555)\n",
       "\tat org.eclipse.jetty.io.ssl.SslConnection.onFillable(SslConnection.java:410)\n",
       "\tat org.eclipse.jetty.io.ssl.SslConnection$2.succeeded(SslConnection.java:164)\n",
       "\tat org.eclipse.jetty.io.FillInterest.fillable(FillInterest.java:105)\n",
       "\tat org.eclipse.jetty.io.ChannelEndPoint$1.run(ChannelEndPoint.java:104)\n",
       "\tat org.eclipse.jetty.util.thread.strategy.EatWhatYouKill.runTask(EatWhatYouKill.java:338)\n",
       "\tat org.eclipse.jetty.util.thread.strategy.EatWhatYouKill.doProduce(EatWhatYouKill.java:315)\n",
       "\tat org.eclipse.jetty.util.thread.strategy.EatWhatYouKill.tryProduce(EatWhatYouKill.java:173)\n",
       "\tat org.eclipse.jetty.util.thread.strategy.EatWhatYouKill.run(EatWhatYouKill.java:131)\n",
       "\tat org.eclipse.jetty.util.thread.ReservedThreadExecutor$ReservedThread.run(ReservedThreadExecutor.java:409)\n",
       "\tat com.databricks.rpc.InstrumentedQueuedThreadPool$$anon$1.$anonfun$run$2(InstrumentedQueuedThreadPool.scala:110)\n",
       "\tat scala.runtime.java8.JFunction0$mcV$sp.apply(JFunction0$mcV$sp.java:23)\n",
       "\tat com.databricks.logging.AttributionContextTracing.$anonfun$withAttributionContext$1(AttributionContextTracing.scala:49)\n",
       "\tat com.databricks.logging.AttributionContext$.$anonfun$withValue$1(AttributionContext.scala:293)\n",
       "\tat scala.util.DynamicVariable.withValue(DynamicVariable.scala:62)\n",
       "\tat com.databricks.logging.AttributionContext$.withValue(AttributionContext.scala:289)\n",
       "\tat com.databricks.logging.AttributionContextTracing.withAttributionContext(AttributionContextTracing.scala:47)\n",
       "\tat com.databricks.logging.AttributionContextTracing.withAttributionContext$(AttributionContextTracing.scala:44)\n",
       "\tat com.databricks.rpc.InstrumentedQueuedThreadPool.withAttributionContext(InstrumentedQueuedThreadPool.scala:45)\n",
       "\tat com.databricks.rpc.InstrumentedQueuedThreadPool$$anon$1.$anonfun$run$1(InstrumentedQueuedThreadPool.scala:110)\n",
       "\tat scala.runtime.java8.JFunction0$mcV$sp.apply(JFunction0$mcV$sp.java:23)\n",
       "\tat com.databricks.instrumentation.QueuedThreadPoolInstrumenter.trackActiveThreads(QueuedThreadPoolInstrumenter.scala:132)\n",
       "\tat com.databricks.instrumentation.QueuedThreadPoolInstrumenter.trackActiveThreads$(QueuedThreadPoolInstrumenter.scala:129)\n",
       "\tat com.databricks.rpc.InstrumentedQueuedThreadPool.trackActiveThreads(InstrumentedQueuedThreadPool.scala:45)\n",
       "\tat com.databricks.rpc.InstrumentedQueuedThreadPool$$anon$1.run(InstrumentedQueuedThreadPool.scala:92)\n",
       "\tat org.eclipse.jetty.util.thread.QueuedThreadPool.runJob(QueuedThreadPool.java:883)\n",
       "\tat org.eclipse.jetty.util.thread.QueuedThreadPool$Runner.run(QueuedThreadPool.java:1034)\n",
       "\tat java.base/java.lang.Thread.run(Thread.java:840)"
      ]
     },
     "metadata": {
      "application/vnd.databricks.v1+output": {
       "addedWidgets": {},
       "arguments": {},
       "datasetInfos": [],
       "jupyterProps": null,
       "metadata": {
        "errorSummary": "Cancelled"
       },
       "removedWidgets": [],
       "sqlProps": null,
       "stackFrames": [
        "com.databricks.backend.common.rpc.CommandCancelledException",
        "\tat com.databricks.spark.chauffeur.SequenceExecutionState.$anonfun$cancel$5(SequenceExecutionState.scala:132)",
        "\tat scala.Option.getOrElse(Option.scala:189)",
        "\tat com.databricks.spark.chauffeur.SequenceExecutionState.$anonfun$cancel$3(SequenceExecutionState.scala:132)",
        "\tat com.databricks.spark.chauffeur.SequenceExecutionState.$anonfun$cancel$3$adapted(SequenceExecutionState.scala:129)",
        "\tat scala.collection.immutable.Range.foreach(Range.scala:158)",
        "\tat com.databricks.spark.chauffeur.SequenceExecutionState.cancel(SequenceExecutionState.scala:129)",
        "\tat com.databricks.spark.chauffeur.ExecContextState.cancelRunningSequence(ExecContextState.scala:715)",
        "\tat com.databricks.spark.chauffeur.ExecContextState.$anonfun$cancel$1(ExecContextState.scala:435)",
        "\tat scala.Option.getOrElse(Option.scala:189)",
        "\tat com.databricks.spark.chauffeur.ExecContextState.cancel(ExecContextState.scala:435)",
        "\tat com.databricks.spark.chauffeur.ExecutionContextManagerV1.cancelExecution(ExecutionContextManagerV1.scala:473)",
        "\tat com.databricks.spark.chauffeur.ChauffeurState.$anonfun$process$1(ChauffeurState.scala:750)",
        "\tat com.databricks.logging.UsageLogging.$anonfun$recordOperation$1(UsageLogging.scala:510)",
        "\tat com.databricks.logging.UsageLogging.executeThunkAndCaptureResultTags$1(UsageLogging.scala:616)",
        "\tat com.databricks.logging.UsageLogging.$anonfun$recordOperationWithResultTags$4(UsageLogging.scala:643)",
        "\tat com.databricks.logging.AttributionContextTracing.$anonfun$withAttributionContext$1(AttributionContextTracing.scala:49)",
        "\tat com.databricks.logging.AttributionContext$.$anonfun$withValue$1(AttributionContext.scala:293)",
        "\tat scala.util.DynamicVariable.withValue(DynamicVariable.scala:62)",
        "\tat com.databricks.logging.AttributionContext$.withValue(AttributionContext.scala:289)",
        "\tat com.databricks.logging.AttributionContextTracing.withAttributionContext(AttributionContextTracing.scala:47)",
        "\tat com.databricks.logging.AttributionContextTracing.withAttributionContext$(AttributionContextTracing.scala:44)",
        "\tat com.databricks.spark.chauffeur.ChauffeurState.withAttributionContext(ChauffeurState.scala:84)",
        "\tat com.databricks.logging.AttributionContextTracing.withAttributionTags(AttributionContextTracing.scala:96)",
        "\tat com.databricks.logging.AttributionContextTracing.withAttributionTags$(AttributionContextTracing.scala:77)",
        "\tat com.databricks.spark.chauffeur.ChauffeurState.withAttributionTags(ChauffeurState.scala:84)",
        "\tat com.databricks.logging.UsageLogging.recordOperationWithResultTags(UsageLogging.scala:611)",
        "\tat com.databricks.logging.UsageLogging.recordOperationWithResultTags$(UsageLogging.scala:519)",
        "\tat com.databricks.spark.chauffeur.ChauffeurState.recordOperationWithResultTags(ChauffeurState.scala:84)",
        "\tat com.databricks.logging.UsageLogging.recordOperation(UsageLogging.scala:511)",
        "\tat com.databricks.logging.UsageLogging.recordOperation$(UsageLogging.scala:475)",
        "\tat com.databricks.spark.chauffeur.ChauffeurState.recordOperation(ChauffeurState.scala:84)",
        "\tat com.databricks.spark.chauffeur.ChauffeurState.process(ChauffeurState.scala:728)",
        "\tat com.databricks.spark.chauffeur.Chauffeur$$anon$1$$anonfun$receive$1.handleDriverRequest$1(Chauffeur.scala:911)",
        "\tat com.databricks.spark.chauffeur.Chauffeur$$anon$1$$anonfun$receive$1.$anonfun$applyOrElse$4(Chauffeur.scala:937)",
        "\tat com.databricks.logging.UsageLogging.executeThunkAndCaptureResultTags$1(UsageLogging.scala:616)",
        "\tat com.databricks.logging.UsageLogging.$anonfun$recordOperationWithResultTags$4(UsageLogging.scala:643)",
        "\tat com.databricks.logging.AttributionContextTracing.$anonfun$withAttributionContext$1(AttributionContextTracing.scala:49)",
        "\tat com.databricks.logging.AttributionContext$.$anonfun$withValue$1(AttributionContext.scala:293)",
        "\tat scala.util.DynamicVariable.withValue(DynamicVariable.scala:62)",
        "\tat com.databricks.logging.AttributionContext$.withValue(AttributionContext.scala:289)",
        "\tat com.databricks.logging.AttributionContextTracing.withAttributionContext(AttributionContextTracing.scala:47)",
        "\tat com.databricks.logging.AttributionContextTracing.withAttributionContext$(AttributionContextTracing.scala:44)",
        "\tat com.databricks.rpc.ServerBackend.withAttributionContext(ServerBackend.scala:22)",
        "\tat com.databricks.logging.AttributionContextTracing.withAttributionTags(AttributionContextTracing.scala:96)",
        "\tat com.databricks.logging.AttributionContextTracing.withAttributionTags$(AttributionContextTracing.scala:77)",
        "\tat com.databricks.rpc.ServerBackend.withAttributionTags(ServerBackend.scala:22)",
        "\tat com.databricks.logging.UsageLogging.recordOperationWithResultTags(UsageLogging.scala:611)",
        "\tat com.databricks.logging.UsageLogging.recordOperationWithResultTags$(UsageLogging.scala:519)",
        "\tat com.databricks.rpc.ServerBackend.recordOperationWithResultTags(ServerBackend.scala:22)",
        "\tat com.databricks.spark.chauffeur.Chauffeur$$anon$1$$anonfun$receive$1.handleDriverRequestWithUsageLogging$1(Chauffeur.scala:936)",
        "\tat com.databricks.spark.chauffeur.Chauffeur$$anon$1$$anonfun$receive$1.applyOrElse(Chauffeur.scala:991)",
        "\tat com.databricks.spark.chauffeur.Chauffeur$$anon$1$$anonfun$receive$1.applyOrElse(Chauffeur.scala:776)",
        "\tat com.databricks.rpc.ServerBackend.$anonfun$internalReceive0$2(ServerBackend.scala:174)",
        "\tat com.databricks.rpc.ServerBackend$$anonfun$commonReceive$1.applyOrElse(ServerBackend.scala:200)",
        "\tat com.databricks.rpc.ServerBackend$$anonfun$commonReceive$1.applyOrElse(ServerBackend.scala:200)",
        "\tat com.databricks.rpc.ServerBackend.internalReceive0(ServerBackend.scala:171)",
        "\tat com.databricks.rpc.ServerBackend.$anonfun$internalReceive$1(ServerBackend.scala:147)",
        "\tat com.databricks.logging.UsageLogging.$anonfun$recordOperation$1(UsageLogging.scala:510)",
        "\tat com.databricks.logging.UsageLogging.executeThunkAndCaptureResultTags$1(UsageLogging.scala:616)",
        "\tat com.databricks.logging.UsageLogging.$anonfun$recordOperationWithResultTags$4(UsageLogging.scala:643)",
        "\tat com.databricks.logging.AttributionContextTracing.$anonfun$withAttributionContext$1(AttributionContextTracing.scala:49)",
        "\tat com.databricks.logging.AttributionContext$.$anonfun$withValue$1(AttributionContext.scala:293)",
        "\tat scala.util.DynamicVariable.withValue(DynamicVariable.scala:62)",
        "\tat com.databricks.logging.AttributionContext$.withValue(AttributionContext.scala:289)",
        "\tat com.databricks.logging.AttributionContextTracing.withAttributionContext(AttributionContextTracing.scala:47)",
        "\tat com.databricks.logging.AttributionContextTracing.withAttributionContext$(AttributionContextTracing.scala:44)",
        "\tat com.databricks.rpc.ServerBackend.withAttributionContext(ServerBackend.scala:22)",
        "\tat com.databricks.logging.AttributionContextTracing.withAttributionTags(AttributionContextTracing.scala:96)",
        "\tat com.databricks.logging.AttributionContextTracing.withAttributionTags$(AttributionContextTracing.scala:77)",
        "\tat com.databricks.rpc.ServerBackend.withAttributionTags(ServerBackend.scala:22)",
        "\tat com.databricks.logging.UsageLogging.recordOperationWithResultTags(UsageLogging.scala:611)",
        "\tat com.databricks.logging.UsageLogging.recordOperationWithResultTags$(UsageLogging.scala:519)",
        "\tat com.databricks.rpc.ServerBackend.recordOperationWithResultTags(ServerBackend.scala:22)",
        "\tat com.databricks.logging.UsageLogging.recordOperation(UsageLogging.scala:511)",
        "\tat com.databricks.logging.UsageLogging.recordOperation$(UsageLogging.scala:475)",
        "\tat com.databricks.rpc.ServerBackend.recordOperation(ServerBackend.scala:22)",
        "\tat com.databricks.rpc.ServerBackend.internalReceive(ServerBackend.scala:146)",
        "\tat com.databricks.rpc.JettyServer$RequestManager.handleRPC(JettyServer.scala:1033)",
        "\tat com.databricks.rpc.JettyServer$RequestManager.handleRequestAndRespond(JettyServer.scala:953)",
        "\tat com.databricks.rpc.JettyServer$RequestManager.$anonfun$handleHttp$5(JettyServer.scala:548)",
        "\tat com.databricks.rpc.JettyServer$RequestManager.$anonfun$handleHttp$5$adapted(JettyServer.scala:513)",
        "\tat com.databricks.logging.activity.ActivityContextFactory$.$anonfun$withActivityInternal$13(ActivityContextFactory.scala:831)",
        "\tat com.databricks.logging.AttributionContextTracing.$anonfun$withAttributionContext$1(AttributionContextTracing.scala:49)",
        "\tat com.databricks.logging.AttributionContext$.$anonfun$withValue$1(AttributionContext.scala:293)",
        "\tat scala.util.DynamicVariable.withValue(DynamicVariable.scala:62)",
        "\tat com.databricks.logging.AttributionContext$.withValue(AttributionContext.scala:289)",
        "\tat com.databricks.logging.AttributionContextTracing.withAttributionContext(AttributionContextTracing.scala:47)",
        "\tat com.databricks.logging.AttributionContextTracing.withAttributionContext$(AttributionContextTracing.scala:44)",
        "\tat com.databricks.logging.activity.ActivityContextFactory$.withAttributionContext(ActivityContextFactory.scala:53)",
        "\tat com.databricks.logging.activity.ActivityContextFactory$.$anonfun$withActivityInternal$3(ActivityContextFactory.scala:831)",
        "\tat com.databricks.context.integrity.IntegrityCheckContext$ThreadLocalStorage$.withValue(IntegrityCheckContext.scala:73)",
        "\tat com.databricks.logging.activity.ActivityContextFactory$.withActivityInternal(ActivityContextFactory.scala:794)",
        "\tat com.databricks.logging.activity.ActivityContextFactory$.withActivityInternal(ActivityContextFactory.scala:776)",
        "\tat com.databricks.logging.activity.ActivityContextFactory$.$anonfun$withServiceRequestActivity$15(ActivityContextFactory.scala:285)",
        "\tat com.databricks.logging.AttributionContextTracing.$anonfun$withAttributionContext$1(AttributionContextTracing.scala:49)",
        "\tat com.databricks.logging.AttributionContext$.$anonfun$withValue$1(AttributionContext.scala:293)",
        "\tat scala.util.DynamicVariable.withValue(DynamicVariable.scala:62)",
        "\tat com.databricks.logging.AttributionContext$.withValue(AttributionContext.scala:289)",
        "\tat com.databricks.logging.AttributionContextTracing.withAttributionContext(AttributionContextTracing.scala:47)",
        "\tat com.databricks.logging.AttributionContextTracing.withAttributionContext$(AttributionContextTracing.scala:44)",
        "\tat com.databricks.logging.activity.ActivityContextFactory$.withAttributionContext(ActivityContextFactory.scala:53)",
        "\tat com.databricks.logging.activity.ActivityContextFactory$.withServiceRequestActivity(ActivityContextFactory.scala:285)",
        "\tat com.databricks.rpc.JettyServer$RequestManager.handleHttp(JettyServer.scala:513)",
        "\tat com.databricks.rpc.JettyServer$RequestManager.doPost(JettyServer.scala:408)",
        "\tat javax.servlet.http.HttpServlet.service(HttpServlet.java:665)",
        "\tat com.databricks.rpc.HttpServletWithPatch.service(HttpServletWithPatch.scala:33)",
        "\tat javax.servlet.http.HttpServlet.service(HttpServlet.java:750)",
        "\tat org.eclipse.jetty.servlet.ServletHolder.handle(ServletHolder.java:799)",
        "\tat org.eclipse.jetty.servlet.ServletHandler.doHandle(ServletHandler.java:554)",
        "\tat org.eclipse.jetty.server.handler.ScopedHandler.nextScope(ScopedHandler.java:190)",
        "\tat org.eclipse.jetty.servlet.ServletHandler.doScope(ServletHandler.java:505)",
        "\tat org.eclipse.jetty.server.handler.ScopedHandler.handle(ScopedHandler.java:141)",
        "\tat org.eclipse.jetty.server.handler.HandlerWrapper.handle(HandlerWrapper.java:127)",
        "\tat org.eclipse.jetty.server.Server.handle(Server.java:516)",
        "\tat org.eclipse.jetty.server.HttpChannel.lambda$handle$1(HttpChannel.java:487)",
        "\tat org.eclipse.jetty.server.HttpChannel.dispatch(HttpChannel.java:732)",
        "\tat org.eclipse.jetty.server.HttpChannel.handle(HttpChannel.java:479)",
        "\tat org.eclipse.jetty.server.HttpConnection.onFillable(HttpConnection.java:277)",
        "\tat org.eclipse.jetty.io.AbstractConnection$ReadCallback.succeeded(AbstractConnection.java:311)",
        "\tat org.eclipse.jetty.io.FillInterest.fillable(FillInterest.java:105)",
        "\tat org.eclipse.jetty.io.ssl.SslConnection$DecryptedEndPoint.onFillable(SslConnection.java:555)",
        "\tat org.eclipse.jetty.io.ssl.SslConnection.onFillable(SslConnection.java:410)",
        "\tat org.eclipse.jetty.io.ssl.SslConnection$2.succeeded(SslConnection.java:164)",
        "\tat org.eclipse.jetty.io.FillInterest.fillable(FillInterest.java:105)",
        "\tat org.eclipse.jetty.io.ChannelEndPoint$1.run(ChannelEndPoint.java:104)",
        "\tat org.eclipse.jetty.util.thread.strategy.EatWhatYouKill.runTask(EatWhatYouKill.java:338)",
        "\tat org.eclipse.jetty.util.thread.strategy.EatWhatYouKill.doProduce(EatWhatYouKill.java:315)",
        "\tat org.eclipse.jetty.util.thread.strategy.EatWhatYouKill.tryProduce(EatWhatYouKill.java:173)",
        "\tat org.eclipse.jetty.util.thread.strategy.EatWhatYouKill.run(EatWhatYouKill.java:131)",
        "\tat org.eclipse.jetty.util.thread.ReservedThreadExecutor$ReservedThread.run(ReservedThreadExecutor.java:409)",
        "\tat com.databricks.rpc.InstrumentedQueuedThreadPool$$anon$1.$anonfun$run$2(InstrumentedQueuedThreadPool.scala:110)",
        "\tat scala.runtime.java8.JFunction0$mcV$sp.apply(JFunction0$mcV$sp.java:23)",
        "\tat com.databricks.logging.AttributionContextTracing.$anonfun$withAttributionContext$1(AttributionContextTracing.scala:49)",
        "\tat com.databricks.logging.AttributionContext$.$anonfun$withValue$1(AttributionContext.scala:293)",
        "\tat scala.util.DynamicVariable.withValue(DynamicVariable.scala:62)",
        "\tat com.databricks.logging.AttributionContext$.withValue(AttributionContext.scala:289)",
        "\tat com.databricks.logging.AttributionContextTracing.withAttributionContext(AttributionContextTracing.scala:47)",
        "\tat com.databricks.logging.AttributionContextTracing.withAttributionContext$(AttributionContextTracing.scala:44)",
        "\tat com.databricks.rpc.InstrumentedQueuedThreadPool.withAttributionContext(InstrumentedQueuedThreadPool.scala:45)",
        "\tat com.databricks.rpc.InstrumentedQueuedThreadPool$$anon$1.$anonfun$run$1(InstrumentedQueuedThreadPool.scala:110)",
        "\tat scala.runtime.java8.JFunction0$mcV$sp.apply(JFunction0$mcV$sp.java:23)",
        "\tat com.databricks.instrumentation.QueuedThreadPoolInstrumenter.trackActiveThreads(QueuedThreadPoolInstrumenter.scala:132)",
        "\tat com.databricks.instrumentation.QueuedThreadPoolInstrumenter.trackActiveThreads$(QueuedThreadPoolInstrumenter.scala:129)",
        "\tat com.databricks.rpc.InstrumentedQueuedThreadPool.trackActiveThreads(InstrumentedQueuedThreadPool.scala:45)",
        "\tat com.databricks.rpc.InstrumentedQueuedThreadPool$$anon$1.run(InstrumentedQueuedThreadPool.scala:92)",
        "\tat org.eclipse.jetty.util.thread.QueuedThreadPool.runJob(QueuedThreadPool.java:883)",
        "\tat org.eclipse.jetty.util.thread.QueuedThreadPool$Runner.run(QueuedThreadPool.java:1034)",
        "\tat java.base/java.lang.Thread.run(Thread.java:840)"
       ],
       "type": "baseError"
      }
     },
     "output_type": "display_data"
    }
   ],
   "source": [
    "customers_location(\n",
    "    df_orders=orders,\n",
    "    geodata=geodata,\n",
    "    table_gold=Gold_Location_Customers\n",
    ")"
   ]
  },
  {
   "cell_type": "markdown",
   "metadata": {
    "application/vnd.databricks.v1+cell": {
     "cellMetadata": {},
     "inputWidgets": {},
     "nuid": "2d78946a-08fd-41e4-aee7-5590c785af81",
     "showTitle": false,
     "tableResultSettingsMap": {},
     "title": ""
    }
   },
   "source": [
    "ASDSADASD"
   ]
  },
  {
   "cell_type": "code",
   "execution_count": 0,
   "metadata": {
    "application/vnd.databricks.v1+cell": {
     "cellMetadata": {
      "byteLimit": 2048000,
      "rowLimit": 10000
     },
     "inputWidgets": {},
     "nuid": "5592ea3e-3645-46dc-a028-298b88d8b82b",
     "showTitle": false,
     "tableResultSettingsMap": {},
     "title": ""
    }
   },
   "outputs": [
    {
     "data": {
      "text/html": [
       "<style scoped>\n",
       "  .ansiout {\n",
       "    display: block;\n",
       "    unicode-bidi: embed;\n",
       "    white-space: pre-wrap;\n",
       "    word-wrap: break-word;\n",
       "    word-break: break-all;\n",
       "    font-family: \"Menlo\", \"Monaco\", \"Consolas\", \"Ubuntu Mono\", \"Source Code Pro\", monospace;\n",
       "    font-size: 13px;\n",
       "    color: #555;\n",
       "    margin-left: 4px;\n",
       "    line-height: 19px;\n",
       "  }\n",
       "</style>"
      ]
     },
     "metadata": {
      "application/vnd.databricks.v1+output": {
       "arguments": {},
       "data": "",
       "errorSummary": "The cluster was unhealthy or has been terminated. Please restart the cluster or attach this notebook to a different cluster.",
       "errorTraceType": null,
       "metadata": {},
       "type": "ipynbError"
      }
     },
     "output_type": "display_data"
    }
   ],
   "source": [
    "from pyspark.sql.window import Window\n",
    "from pyspark.sql.functions import to_timestamp, row_number, sum as _sum, dense_rank\n",
    "\n",
    "\n",
    "orders = spark.table(Silver_Orders)\n",
    "print(orders.head())\n",
    "geodata = spark.table(Bronze_Geodata)\n",
    "print(geodata.head())\n",
    "geodata = geodata.select(\n",
    "    col('IDENTIFICACION').alias('district'),\n",
    "    col('NOMBRE').alias('neighborhood'),\n",
    "    'geometry'\n",
    ")\n",
    "print(geodata.head())\n",
    "\n",
    "df_orders=orders\n",
    "geodata=geodata\n",
    "table_gold=Gold_Location_Customers\n",
    "\n",
    "orders_filtered = df_orders.select('district',\n",
    "                                    'neighborhood',\n",
    "                                    'quantity_products')\n",
    "\n",
    "orders_grouped = orders_filtered.groupBy(\"district\", \"neighborhood\").agg(_sum(\"quantity_products\").alias(\"total_products\"))\n",
    "\n",
    "window_spec = Window.orderBy(col(\"total_products\").desc())\n",
    "orders_filtered_ranked = orders_grouped.withColumn(\"ranking\", dense_rank().over(window_spec))\n",
    "\n",
    "orders_with_geom = orders_filtered_ranked.join(\n",
    "    geodata,\n",
    "    on=[\"district\", \"neighborhood\"],\n",
    "    how=\"left\"\n",
    "    )\n",
    "    \n",
    "gdf_orders = spark_to_geopandas(orders_with_geom)\n",
    "gdf_orders = gdf_orders.set_crs(\"EPSG:3116\", allow_override=True)\n",
    "gdf_orders[\"centroid\"] = gdf_orders[\"geometry\"].centroid\n",
    "gdf_orders = gdf_orders.to_crs(\"EPSG:4326\")\n",
    "gdf_orders[\"longitude\"] = gdf_orders[\"centroid\"].x\n",
    "gdf_orders[\"latitude\"] = gdf_orders[\"centroid\"].y\n",
    "\n",
    "orders_enriched = spark.createDataFrame(gdf_orders.drop(columns=[\"geometry\", \"centroid\"]))\n",
    "orders_enriched = orders_enriched.orderBy(col(\"ranking\").asc())\n",
    "\n",
    "\n",
    "orders_enriched.write\\\n",
    "    .format(\"delta\")\\\n",
    "    .mode(\"overwrite\")\\\n",
    "    .option(\"overwriteSchema\", \"true\")\\\n",
    "    .saveAsTable(Gold_Location_Customers)"
   ]
  }
 ],
 "metadata": {
  "application/vnd.databricks.v1+notebook": {
   "computePreferences": null,
   "dashboards": [],
   "environmentMetadata": null,
   "inputWidgetPreferences": null,
   "language": "python",
   "notebookMetadata": {
    "pythonIndentUnit": 4
   },
   "notebookName": "Gold customers",
   "widgets": {}
  },
  "dependencies": {
   "environment": {
    "environmentId": "913dd7af-cd09-411a-93a1-ccfc2c7af3d7",
    "workspaceId": "19f7c29b-83a9-42bb-812f-ef7bfc71c961"
   },
   "lakehouse": {
    "default_lakehouse": "5d727189-ca80-47e8-b94d-a7289df703a2",
    "default_lakehouse_name": "unalwater",
    "default_lakehouse_workspace_id": "19f7c29b-83a9-42bb-812f-ef7bfc71c961",
    "known_lakehouses": [
     {
      "id": "5d727189-ca80-47e8-b94d-a7289df703a2"
     }
    ]
   }
  },
  "kernel_info": {
   "name": "synapse_pyspark"
  },
  "kernelspec": {
   "display_name": "synapse_pyspark",
   "name": "synapse_pyspark"
  },
  "language_info": {
   "name": "python"
  },
  "microsoft": {
   "language": "python",
   "language_group": "synapse_pyspark",
   "ms_spell_check": {
    "ms_spell_check_language": "es"
   }
  },
  "nteract": {
   "version": "nteract-front-end@1.0.0"
  },
  "spark_compute": {
   "compute_id": "/trident/default",
   "session_options": {
    "conf": {
     "spark.synapse.nbs.session.timeout": "1200000"
    }
   }
  },
  "synapse_widget": {
   "state": {
    "aa51f8a2-3168-4ef6-8bf9-68f67bc9cc78": {
     "persist_state": {
      "view": {
       "chartOptions": {
        "aggregationType": "sum",
        "binsNumber": 10,
        "categoryFieldKeys": [],
        "chartType": "bar",
        "isStacked": false,
        "seriesFieldKeys": [],
        "wordFrequency": "-1"
       },
       "tableOptions": {},
       "type": "details",
       "viewOptionsGroup": [
        {
         "tabItems": [
          {
           "key": "0",
           "name": "Table",
           "options": {},
           "type": "table"
          }
         ]
        }
       ]
      }
     },
     "sync_state": {
      "isSummary": false,
      "language": "scala",
      "table": {
       "rows": [
        {
         "0": "CORREGIMIENTO 90",
         "1": "CORREGIMIENTO DE SANTA ELENA",
         "2": "7386",
         "3": "1",
         "4": "-75.5166688424742",
         "5": "6.234924573430901"
        },
        {
         "0": "CORREGIMIENTO 80",
         "1": "CORREGIMIENTO DE SAN ANTONIO DE PRADO",
         "2": "5009",
         "3": "2",
         "4": "-75.67337742877989",
         "5": "6.21608429977638"
        },
        {
         "0": "CORREGIMIENTO 60",
         "1": "CORREGIMIENTO DE SAN CRISTÓBAL",
         "2": "4897",
         "3": "3",
         "4": "-75.63974865901069",
         "5": "6.290376945989241"
        },
        {
         "0": "CORREGIMIENTO 50",
         "1": "CORREGIMIENTO DE SAN SEBASTIÁN DE PALMITAS",
         "2": "4402",
         "3": "4",
         "4": "-75.68932896785299",
         "5": "6.3275828507211695"
        },
        {
         "0": "CORREGIMIENTO 70",
         "1": "CORREGIMIENTO DE ALTAVISTA",
         "2": "2790",
         "3": "5",
         "4": "-75.63506662339948",
         "5": "6.22721144636749"
        },
        {
         "0": "COMUNA 14",
         "1": "EL POBLADO",
         "2": "1409",
         "3": "6",
         "4": "-75.56638991566805",
         "5": "6.201086158371607"
        },
        {
         "0": "COMUNA 11",
         "1": "LAURELES ESTADIO",
         "2": "914",
         "3": "7",
         "4": "-75.59158021039198",
         "5": "6.250440142093694"
        },
        {
         "0": "COMUNA 16",
         "1": "BELÉN",
         "2": "818",
         "3": "8",
         "4": "-75.59939743976636",
         "5": "6.225502896001715"
        },
        {
         "0": "COMUNA 4",
         "1": "ARANJUEZ",
         "2": "659",
         "3": "9",
         "4": "-75.56155865539019",
         "5": "6.276145098803291"
        },
        {
         "0": "COMUNA 12",
         "1": "LA AMÉRICA",
         "2": "607",
         "3": "10",
         "4": "-75.6055417556248",
         "5": "6.2544853202770625"
        },
        {
         "0": "COMUNA 15",
         "1": "GUAYABAL",
         "2": "591",
         "3": "11",
         "4": "-75.58642579157872",
         "5": "6.213350152105648"
        },
        {
         "0": "COMUNA 5",
         "1": "CASTILLA",
         "2": "584",
         "3": "12",
         "4": "-75.5686569550063",
         "5": "6.292266461360864"
        },
        {
         "0": "COMUNA 7",
         "1": "ROBLEDO",
         "2": "583",
         "3": "13",
         "4": "-75.59232855066954",
         "5": "6.277940966906292"
        },
        {
         "0": "COMUNA 6",
         "1": "DOCE DE OCTUBRE",
         "2": "578",
         "3": "14",
         "4": "-75.57917245779299",
         "5": "6.299260691017542"
        },
        {
         "0": "COMUNA 13",
         "1": "SAN JAVIER",
         "2": "439",
         "3": "15",
         "4": "-75.61778085791504",
         "5": "6.256578361097964"
        },
        {
         "0": "COMUNA 10",
         "1": "LA CANDELARIA",
         "2": "434",
         "3": "16",
         "4": "-75.56806717180811",
         "5": "6.247662354795987"
        },
        {
         "0": "COMUNA 8",
         "1": "VILLA HERMOSA",
         "2": "428",
         "3": "17",
         "4": "-75.5442163202945",
         "5": "6.247402662495233"
        },
        {
         "0": "COMUNA 2",
         "1": "SANTA CRUZ",
         "2": "423",
         "3": "18",
         "4": "-75.5545146678205",
         "5": "6.2983596444057355"
        },
        {
         "0": "COMUNA 1",
         "1": "POPULAR",
         "2": "282",
         "3": "19",
         "4": "-75.54419036494255",
         "5": "6.293570132368429"
        },
        {
         "0": "COMUNA 3",
         "1": "MANRIQUE",
         "2": "218",
         "3": "20",
         "4": "-75.54528651840997",
         "5": "6.273127561970172"
        },
        {
         "0": "COMUNA 9",
         "1": "BUENOS AIRES",
         "2": "158",
         "3": "21",
         "4": "-75.55289350170001",
         "5": "6.231431747882738"
        },
        {
         "0": "DESCONOCIDA",
         "1": "DESCONOCIDO",
         "2": "35",
         "3": "22"
        },
        {
         "0": "None",
         "1": "None",
         "2": "31",
         "3": "23"
        }
       ],
       "schema": [
        {
         "key": "0",
         "name": "district",
         "type": "string"
        },
        {
         "key": "1",
         "name": "neighborhood",
         "type": "string"
        },
        {
         "key": "2",
         "name": "total_products",
         "type": "bigint"
        },
        {
         "key": "3",
         "name": "ranking",
         "type": "int"
        },
        {
         "key": "4",
         "name": "longitude",
         "type": "double"
        },
        {
         "key": "5",
         "name": "latitude",
         "type": "double"
        }
       ],
       "truncated": false
      },
      "wranglerEntryContext": {
       "candidateVariableNames": [
        "resultado"
       ],
       "dataframeType": "pyspark"
      }
     },
     "type": "Synapse.DataFrame"
    }
   },
   "version": "0.1"
  }
 },
 "nbformat": 4,
 "nbformat_minor": 0
}
