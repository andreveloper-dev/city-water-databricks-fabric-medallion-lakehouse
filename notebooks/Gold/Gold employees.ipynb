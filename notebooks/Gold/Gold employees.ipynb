{
 "cells": [
  {
   "cell_type": "markdown",
   "metadata": {
    "application/vnd.databricks.v1+cell": {
     "cellMetadata": {},
     "inputWidgets": {},
     "nuid": "449feb45-4a7b-4dda-acfa-09e8bfb8ebb3",
     "showTitle": false,
     "tableResultSettingsMap": {},
     "title": ""
    }
   },
   "source": [
    "# Notebook explanation\n",
    "\n",
    "This notebook performs the performance and location of employees from data of orders and employees stored in Delta Tables.\n",
    "\n",
    "## Workflow:\n",
    "\n",
    "1. ** Data load **  \n",
    "   The `Silver_orders` and` Silver_emplyees` tables are loaded in Dataframes Spark.\n",
    "\n",
    "2. ** Employee performance calculation **  \n",
    "   - Orders are added per employee to obtain the total of products sold.\n",
    "   - Performance quartiles are calculated according to the amount of products sold.\n",
    "   - A performance quartile is assigned to each employee.\n",
    "   - The amount of commission for each employee is calculated.\n",
    "   - The result is saved in the `Gold_performance_emplyees` table.\n",
    "\n",
    "3. ** Obtaining the last location of employees **  \n",
    "   - The last order of each employee is selected to obtain their last registered location.\n",
    "   - This information is joined with the personal data of the employee.\n",
    "   - The result is saved in the `Gold_location_emplyees` table.\n",
    "\n",
    "## Aim\n",
    "\n",
    "The objective is to generate two Gold tables:\n",
    "- One with the performance and commissions of employees.\n",
    "- Another with the last known location of each employee.\n",
    "\n",
    "Both tables can be used for subsequent analysis and visualizations."
   ]
  },
  {
   "cell_type": "code",
   "execution_count": 0,
   "metadata": {
    "application/vnd.databricks.v1+cell": {
     "cellMetadata": {
      "byteLimit": 2048000,
      "rowLimit": 10000
     },
     "inputWidgets": {},
     "nuid": "ad3972eb-c4bf-461c-b863-d7cdda0150e4",
     "showTitle": false,
     "tableResultSettingsMap": {},
     "title": ""
    },
    "microsoft": {
     "language": "python",
     "language_group": "synapse_pyspark"
    }
   },
   "outputs": [],
   "source": [
    "%run ../Transversal/config"
   ]
  },
  {
   "cell_type": "code",
   "execution_count": 0,
   "metadata": {
    "application/vnd.databricks.v1+cell": {
     "cellMetadata": {},
     "inputWidgets": {},
     "nuid": "08245638-05dd-4569-bdc7-381ee0587774",
     "showTitle": false,
     "tableResultSettingsMap": {},
     "title": ""
    },
    "microsoft": {
     "language": "python",
     "language_group": "synapse_pyspark"
    }
   },
   "outputs": [
    {
     "data": {
      "application/vnd.livy.statement-meta+json": {
       "execution_finish_time": "2025-07-28T17:00:14.1327361Z",
       "execution_start_time": "2025-07-28T17:00:01.0868526Z",
       "livy_statement_state": "available",
       "normalized_state": "finished",
       "parent_msg_id": "c3e7b218-b075-4648-890a-6d78606c8e6c",
       "queued_time": "2025-07-28T16:59:49.6416376Z",
       "session_id": "53572918-2d19-49e2-87ff-63a70071412f",
       "session_start_time": null,
       "spark_pool": null,
       "state": "finished",
       "statement_id": 6,
       "statement_ids": [
        6
       ]
      },
      "text/plain": [
       "StatementMeta(, 53572918-2d19-49e2-87ff-63a70071412f, 6, Finished, Available, Finished)"
      ]
     },
     "metadata": {},
     "output_type": "display_data"
    }
   ],
   "source": [
    "orders = spark.table(Silver_Orders)\n",
    "\n",
    "employees = spark.table(Silver_Employees)"
   ]
  },
  {
   "cell_type": "code",
   "execution_count": 0,
   "metadata": {
    "application/vnd.databricks.v1+cell": {
     "cellMetadata": {},
     "inputWidgets": {},
     "nuid": "71150769-c820-402a-b533-d353458656b1",
     "showTitle": false,
     "tableResultSettingsMap": {},
     "title": ""
    },
    "collapsed": false,
    "microsoft": {
     "language": "python",
     "language_group": "synapse_pyspark"
    }
   },
   "outputs": [
    {
     "data": {
      "application/vnd.livy.statement-meta+json": {
       "execution_finish_time": "2025-07-28T17:00:14.3925899Z",
       "execution_start_time": "2025-07-28T17:00:14.1349005Z",
       "livy_statement_state": "available",
       "normalized_state": "finished",
       "parent_msg_id": "237a6d62-1bbd-490f-ac4f-3cf377ca16cf",
       "queued_time": "2025-07-28T16:59:49.7769251Z",
       "session_id": "53572918-2d19-49e2-87ff-63a70071412f",
       "session_start_time": null,
       "spark_pool": null,
       "state": "finished",
       "statement_id": 7,
       "statement_ids": [
        7
       ]
      },
      "text/plain": [
       "StatementMeta(, 53572918-2d19-49e2-87ff-63a70071412f, 7, Finished, Available, Finished)"
      ]
     },
     "metadata": {},
     "output_type": "display_data"
    }
   ],
   "source": [
    "from pyspark.sql.functions import col, sum as _sum, when, round\n",
    "\n",
    "\n",
    "def performance_employees(df_orders, df_employees, bottle_price, table_gold):\n",
    "\n",
    "    orders_filtered = df_orders.select('employee_id', 'quantity_products')\n",
    "\n",
    "    orders_filtered_agg = orders_filtered.groupBy(\"employee_id\").agg(\n",
    "    _sum(\"quantity_products\").alias(\"total_products\"))\n",
    "\n",
    "    q1, q2, q3 = orders_filtered_agg.approxQuantile(\"total_products\", [0.25, 0.5, 0.75], 0.1)\n",
    "\n",
    "    orders_quartile = orders_filtered_agg.withColumn(\n",
    "        \"performance_quartile\",\n",
    "        when(col(\"total_products\") > q3, 1)\n",
    "        .when(col(\"total_products\") > q2, 2)\n",
    "        .when(col(\"total_products\") > q1, 3)\n",
    "        .otherwise(4))\n",
    "\n",
    "\n",
    "    employees_filtered = df_employees.select('employee_id', 'name', 'comission')\n",
    "\n",
    "    df_merged = orders_quartile.join(\n",
    "        employees_filtered,\n",
    "        on=\"employee_id\",\n",
    "        how=\"left\")\n",
    "    \n",
    "\n",
    "    df_performance_employees = df_merged.withColumn(\n",
    "        \"commission_amount\",\n",
    "        round(col(\"total_products\") * bottle_price * col(\"comission\"), 2)\n",
    "    ).orderBy(col(\"performance_quartile\").asc(), col(\"total_products\").desc())\n",
    "\n",
    "\n",
    "    df_performance_employees.write\\\n",
    "    .format(\"delta\")\\\n",
    "    .mode(\"overwrite\")\\\n",
    "    .option(\"overwriteSchema\", \"true\")\\\n",
    "    .saveAsTable(table_gold)\n",
    "\n",
    "    return df_performance_employees"
   ]
  },
  {
   "cell_type": "code",
   "execution_count": 0,
   "metadata": {
    "application/vnd.databricks.v1+cell": {
     "cellMetadata": {},
     "inputWidgets": {},
     "nuid": "0974d8d6-c33e-4672-91ae-245edc4f84b4",
     "showTitle": false,
     "tableResultSettingsMap": {},
     "title": ""
    },
    "microsoft": {
     "language": "python",
     "language_group": "synapse_pyspark"
    }
   },
   "outputs": [
    {
     "data": {
      "application/vnd.livy.statement-meta+json": {
       "execution_finish_time": "2025-07-28T17:00:14.6452443Z",
       "execution_start_time": "2025-07-28T17:00:14.3948116Z",
       "livy_statement_state": "available",
       "normalized_state": "finished",
       "parent_msg_id": "35ecee03-ed27-4f04-897b-b5fdd53a05a0",
       "queued_time": "2025-07-28T16:59:49.8540703Z",
       "session_id": "53572918-2d19-49e2-87ff-63a70071412f",
       "session_start_time": null,
       "spark_pool": null,
       "state": "finished",
       "statement_id": 8,
       "statement_ids": [
        8
       ]
      },
      "text/plain": [
       "StatementMeta(, 53572918-2d19-49e2-87ff-63a70071412f, 8, Finished, Available, Finished)"
      ]
     },
     "metadata": {},
     "output_type": "display_data"
    }
   ],
   "source": [
    "from pyspark.sql.window import Window\n",
    "from pyspark.sql.functions import to_timestamp, row_number\n",
    "\n",
    "\n",
    "def employees_location(df_orders, df_employees, table_gold):\n",
    "\n",
    "    orders_filtered = df_orders.select(\n",
    "        'employee_id',\n",
    "        'event_date',\n",
    "        'district',\n",
    "        'neighborhood',\n",
    "        'latitude',\n",
    "        'longitude')\n",
    "\n",
    "    orders_filtered = orders_filtered.withColumn(\"last_location\", to_timestamp(col(\"event_date\"), \"dd/MM/yyyy HH:mm:ss\"))\n",
    "\n",
    "    window_spec = Window.partitionBy(\"employee_id\").orderBy(col(\"last_location\").desc())\n",
    "    orders_filtered_sorted = orders_filtered.withColumn(\"row_num\", row_number().over(window_spec))\n",
    "\n",
    "    last_orders = orders_filtered_sorted.filter(col(\"row_num\") == 1).drop(\"row_num\", \"event_date\")\n",
    "\n",
    "    employees_filtered = df_employees.select('employee_id', 'name', 'phone', 'email')\n",
    "\n",
    "    df_employees_location = last_orders.join(\n",
    "        employees_filtered,\n",
    "        on=\"employee_id\",\n",
    "        how=\"left\")\n",
    "\n",
    "    df_employees_location.write\\\n",
    "    .format(\"delta\")\\\n",
    "    .mode(\"overwrite\")\\\n",
    "    .option(\"overwriteSchema\", \"true\")\\\n",
    "    .saveAsTable(table_gold)\n",
    "\n",
    "    return df_employees_location"
   ]
  },
  {
   "cell_type": "code",
   "execution_count": 0,
   "metadata": {
    "advisor": {
     "adviceMetadata": "{\"artifactId\":\"ef652b92-baf7-4c44-92e8-fac8917bd279\",\"activityId\":\"53572918-2d19-49e2-87ff-63a70071412f\",\"applicationId\":\"application_1753721243166_0001\",\"jobGroupId\":\"9\",\"advices\":{\"info\":2}}"
    },
    "application/vnd.databricks.v1+cell": {
     "cellMetadata": {},
     "inputWidgets": {},
     "nuid": "49022078-afcd-4acd-b5a9-aa4158e368a6",
     "showTitle": false,
     "tableResultSettingsMap": {},
     "title": ""
    },
    "microsoft": {
     "language": "python",
     "language_group": "synapse_pyspark"
    }
   },
   "outputs": [
    {
     "data": {
      "application/vnd.livy.statement-meta+json": {
       "execution_finish_time": "2025-07-28T17:01:05.3689599Z",
       "execution_start_time": "2025-07-28T17:00:14.6470636Z",
       "livy_statement_state": "available",
       "normalized_state": "finished",
       "parent_msg_id": "22edccef-8f4e-4447-9e7a-ec8c0e700f41",
       "queued_time": "2025-07-28T16:59:50.0316057Z",
       "session_id": "53572918-2d19-49e2-87ff-63a70071412f",
       "session_start_time": null,
       "spark_pool": null,
       "state": "finished",
       "statement_id": 9,
       "statement_ids": [
        9
       ]
      },
      "text/plain": [
       "StatementMeta(, 53572918-2d19-49e2-87ff-63a70071412f, 9, Finished, Available, Finished)"
      ]
     },
     "metadata": {},
     "output_type": "display_data"
    },
    {
     "data": {
      "text/plain": [
       "DataFrame[employee_id: string, district: string, neighborhood: string, latitude: double, longitude: double, last_location: timestamp, name: string, phone: string, email: string]"
      ]
     },
     "execution_count": 26,
     "metadata": {},
     "output_type": "execute_result"
    }
   ],
   "source": [
    "performance_employees(\n",
    "    df_orders=orders,\n",
    "    df_employees=employees,\n",
    "    bottle_price=bottle_price,\n",
    "    table_gold=Gold_Performance_Employees\n",
    "    )\n",
    "\n",
    "\n",
    "employees_location(\n",
    "    df_orders=orders,\n",
    "    df_employees=employees,\n",
    "    table_gold=Gold_Location_Employees\n",
    "    )"
   ]
  }
 ],
 "metadata": {
  "application/vnd.databricks.v1+notebook": {
   "computePreferences": null,
   "dashboards": [],
   "environmentMetadata": null,
   "inputWidgetPreferences": null,
   "language": "python",
   "notebookMetadata": {
    "pythonIndentUnit": 4
   },
   "notebookName": "Gold employees",
   "widgets": {}
  },
  "dependencies": {
   "lakehouse": {
    "default_lakehouse": "5d727189-ca80-47e8-b94d-a7289df703a2",
    "default_lakehouse_name": "unalwater",
    "default_lakehouse_workspace_id": "19f7c29b-83a9-42bb-812f-ef7bfc71c961",
    "known_lakehouses": [
     {
      "id": "5d727189-ca80-47e8-b94d-a7289df703a2"
     }
    ]
   }
  },
  "kernel_info": {
   "name": "synapse_pyspark"
  },
  "kernelspec": {
   "display_name": "synapse_pyspark",
   "name": "synapse_pyspark"
  },
  "language_info": {
   "name": "python"
  },
  "microsoft": {
   "language": "python",
   "language_group": "synapse_pyspark",
   "ms_spell_check": {
    "ms_spell_check_language": "es"
   }
  },
  "nteract": {
   "version": "nteract-front-end@1.0.0"
  },
  "spark_compute": {
   "compute_id": "/trident/default",
   "session_options": {
    "conf": {
     "spark.synapse.nbs.session.timeout": "1200000"
    }
   }
  },
  "synapse_widget": {
   "state": {},
   "version": "0.1"
  }
 },
 "nbformat": 4,
 "nbformat_minor": 0
}
