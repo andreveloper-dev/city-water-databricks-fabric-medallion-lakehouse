{
 "cells": [
  {
   "cell_type": "markdown",
   "metadata": {
    "application/vnd.databricks.v1+cell": {
     "cellMetadata": {},
     "inputWidgets": {},
     "nuid": "0c9b2193-0cc3-4ab5-b0d0-56fb8023558f",
     "showTitle": false,
     "tableResultSettingsMap": {},
     "title": ""
    }
   },
   "source": [
    "# Explanation of this notebook\n",
    "\n",
    "This notebook is designed to provide an overview and explanation of the concepts, processes and results presented. Here you will find detailed descriptions of each section, as well as the purpose and objectives of the analysis performed. Use this document as a guide to understand the workflow and logic behind each step implemented in the notebook."
   ]
  },
  {
   "cell_type": "code",
   "execution_count": 0,
   "metadata": {
    "application/vnd.databricks.v1+cell": {
     "cellMetadata": {
      "byteLimit": 2048000,
      "rowLimit": 10000
     },
     "inputWidgets": {},
     "nuid": "abf68efe-248b-45e5-b55f-b7b1c1b7f53e",
     "showTitle": false,
     "tableResultSettingsMap": {},
     "title": ""
    },
    "microsoft": {
     "language": "python",
     "language_group": "synapse_pyspark"
    }
   },
   "outputs": [],
   "source": [
    "%run ../Transversal/config"
   ]
  },
  {
   "cell_type": "code",
   "execution_count": 0,
   "metadata": {
    "application/vnd.databricks.v1+cell": {
     "cellMetadata": {},
     "inputWidgets": {},
     "nuid": "e1663c26-e350-4631-b945-1d683b783988",
     "showTitle": false,
     "tableResultSettingsMap": {},
     "title": ""
    },
    "microsoft": {
     "language": "python",
     "language_group": "synapse_pyspark"
    }
   },
   "outputs": [
    {
     "data": {
      "application/vnd.livy.statement-meta+json": {
       "execution_finish_time": "2025-07-28T23:49:05.8667384Z",
       "execution_start_time": "2025-07-28T23:48:54.2355963Z",
       "livy_statement_state": "available",
       "normalized_state": "finished",
       "parent_msg_id": "e157d8ac-680d-4b56-a163-02aafc87976c",
       "queued_time": "2025-07-28T23:48:54.2343471Z",
       "session_id": "eccefa97-dd8e-4132-a217-84543c132111",
       "session_start_time": null,
       "spark_pool": null,
       "state": "finished",
       "statement_id": 7,
       "statement_ids": [
        7
       ]
      },
      "text/plain": [
       "StatementMeta(, eccefa97-dd8e-4132-a217-84543c132111, 7, Finished, Available, Finished)"
      ]
     },
     "metadata": {},
     "output_type": "display_data"
    }
   ],
   "source": [
    "from pyspark.sql.functions import to_timestamp, to_date, col\n",
    "\n",
    "\n",
    "def data_preprocessing(table_silver):\n",
    "    \n",
    "    df = spark.table(table_silver)\n",
    "\n",
    "    df = df.dropDuplicates([\"order_id\"])\n",
    "\n",
    "    df = df.withColumn(\"approved_date\", to_timestamp(col(\"event_date\"), \"dd/MM/yyyy HH:mm:ss\"))\n",
    "    df = df.withColumn(\"approved_date\", to_date(col(\"approved_date\")))\n",
    "\n",
    "    return df\n",
    "\n",
    "\n",
    "silver_stream = data_preprocessing(table_silver=Silver_Orders)"
   ]
  },
  {
   "cell_type": "code",
   "execution_count": 0,
   "metadata": {
    "application/vnd.databricks.v1+cell": {
     "cellMetadata": {},
     "inputWidgets": {},
     "nuid": "67703ab0-d1e9-42b4-8d51-a66c66575815",
     "showTitle": false,
     "tableResultSettingsMap": {},
     "title": ""
    },
    "collapsed": false,
    "microsoft": {
     "language": "python",
     "language_group": "synapse_pyspark"
    }
   },
   "outputs": [
    {
     "data": {
      "application/vnd.livy.statement-meta+json": {
       "execution_finish_time": "2025-07-28T14:01:53.9516391Z",
       "execution_start_time": "2025-07-28T14:01:53.6826451Z",
       "livy_statement_state": "available",
       "normalized_state": "finished",
       "parent_msg_id": "905295f8-d677-4439-841a-bae5dde8db87",
       "queued_time": "2025-07-28T14:01:53.6813733Z",
       "session_id": "ed8ffedc-de3b-4346-80a6-beb1a0003b67",
       "session_start_time": null,
       "spark_pool": null,
       "state": "finished",
       "statement_id": 6,
       "statement_ids": [
        6
       ]
      },
      "text/plain": [
       "StatementMeta(, ed8ffedc-de3b-4346-80a6-beb1a0003b67, 6, Finished, Available, Finished)"
      ]
     },
     "metadata": {},
     "output_type": "display_data"
    }
   ],
   "source": [
    "from pyspark.sql.functions import col, count, sum as _sum, round\n",
    "\n",
    "\n",
    "def performace_operation_batch(table_silver, table_gold):\n",
    "\n",
    "    silver_stream_agg = table_silver.groupBy(\"approved_date\").agg(\n",
    "    count(\"order_id\").alias(\"total_orders\"),\n",
    "    _sum(\"quantity_products\").alias(\"total_products\"))\n",
    "\n",
    "    silver_stream_agg = silver_stream_agg.withColumn(\n",
    "        \"avg_products_per_order\",\n",
    "        round(col(\"total_products\") / col(\"total_orders\"), 2))\n",
    "\n",
    "    silver_stream_agg.write\\\n",
    "    .format(\"delta\")\\\n",
    "    .mode(\"overwrite\")\\\n",
    "    .option(\"overwriteSchema\", \"true\")\\\n",
    "    .saveAsTable(table_gold)\n",
    "\n",
    "    return silver_stream_agg"
   ]
  },
  {
   "cell_type": "code",
   "execution_count": 0,
   "metadata": {
    "application/vnd.databricks.v1+cell": {
     "cellMetadata": {},
     "inputWidgets": {},
     "nuid": "ed7b5932-30b2-4a64-9a74-8e2af089440a",
     "showTitle": false,
     "tableResultSettingsMap": {},
     "title": ""
    },
    "microsoft": {
     "language": "python",
     "language_group": "synapse_pyspark"
    }
   },
   "outputs": [
    {
     "data": {
      "application/vnd.livy.statement-meta+json": {
       "execution_finish_time": "2025-07-28T14:01:42.1503517Z",
       "execution_start_time": "2025-07-28T14:01:41.8608644Z",
       "livy_statement_state": "available",
       "normalized_state": "finished",
       "parent_msg_id": "d8c6d4ea-765c-4540-921a-8d4922555f0e",
       "queued_time": "2025-07-28T14:01:31.106029Z",
       "session_id": "ed8ffedc-de3b-4346-80a6-beb1a0003b67",
       "session_start_time": null,
       "spark_pool": null,
       "state": "finished",
       "statement_id": 4,
       "statement_ids": [
        4
       ]
      },
      "text/plain": [
       "StatementMeta(, ed8ffedc-de3b-4346-80a6-beb1a0003b67, 4, Finished, Available, Finished)"
      ]
     },
     "metadata": {},
     "output_type": "display_data"
    }
   ],
   "source": [
    "from pyspark.sql.functions import when\n",
    "\n",
    "\n",
    "def inconsistencies_report(table_silver, table_gold):\n",
    "\n",
    "    silver_stream_agg = table_silver.groupBy(\"approved_date\").agg(count(\"order_id\").alias(\"total_orders\"))\n",
    "\n",
    "    error_silver_stream = table_silver.filter((col(\"district\") == \"None\") | (col(\"district\") == \"DESCONOCIDA\"))\n",
    "    error_silver_agg = error_silver_stream.groupBy(\"approved_date\").agg(count(\"order_id\").alias(\"total_error_orders\"))\n",
    "\n",
    "    df_merged = silver_stream_agg.join(\n",
    "    error_silver_agg,\n",
    "    on=\"approved_date\",\n",
    "    how=\"left\"\n",
    "    )\n",
    "\n",
    "    df_final = df_merged.na.fill({\"total_error_orders\": 0})\n",
    "\n",
    "    df_final = df_final.withColumn(\n",
    "        \"percent_errors\",\n",
    "        round(when(col(\"total_orders\") != 0,\n",
    "                (col(\"total_error_orders\") / col(\"total_orders\"))\n",
    "            ).otherwise(0), 3))\n",
    "\n",
    "    df_final.write\\\n",
    "    .format(\"delta\")\\\n",
    "    .mode(\"overwrite\")\\\n",
    "    .option(\"overwriteSchema\", \"true\")\\\n",
    "    .saveAsTable(table_gold)\n",
    "\n",
    "    return df_final "
   ]
  },
  {
   "cell_type": "code",
   "execution_count": 0,
   "metadata": {
    "advisor": {
     "adviceMetadata": "{\"artifactId\":\"a3aa659a-c3cd-49d0-ba30-eb0f6716b901\",\"activityId\":\"ed8ffedc-de3b-4346-80a6-beb1a0003b67\",\"applicationId\":\"application_1753710621971_0001\",\"jobGroupId\":\"7\",\"advices\":{\"info\":1}}"
    },
    "application/vnd.databricks.v1+cell": {
     "cellMetadata": {},
     "inputWidgets": {},
     "nuid": "1b312fb0-0f5d-47b4-8abb-35eab8a1d664",
     "showTitle": false,
     "tableResultSettingsMap": {},
     "title": ""
    },
    "microsoft": {
     "language": "python",
     "language_group": "synapse_pyspark"
    }
   },
   "outputs": [
    {
     "data": {
      "application/vnd.livy.statement-meta+json": {
       "execution_finish_time": "2025-07-28T14:02:29.4030804Z",
       "execution_start_time": "2025-07-28T14:01:58.1118184Z",
       "livy_statement_state": "available",
       "normalized_state": "finished",
       "parent_msg_id": "45199d6f-a7ff-4a3d-a6fa-6ebdcec342d7",
       "queued_time": "2025-07-28T14:01:58.1105855Z",
       "session_id": "ed8ffedc-de3b-4346-80a6-beb1a0003b67",
       "session_start_time": null,
       "spark_pool": null,
       "state": "finished",
       "statement_id": 7,
       "statement_ids": [
        7
       ]
      },
      "text/plain": [
       "StatementMeta(, ed8ffedc-de3b-4346-80a6-beb1a0003b67, 7, Finished, Available, Finished)"
      ]
     },
     "metadata": {},
     "output_type": "display_data"
    },
    {
     "data": {
      "text/plain": [
       "DataFrame[approved_date: date, total_orders: bigint, total_error_orders: bigint, percent_errors: double]"
      ]
     },
     "execution_count": 20,
     "metadata": {},
     "output_type": "execute_result"
    }
   ],
   "source": [
    "performace_operation_batch(\n",
    "    table_silver=silver_stream,\n",
    "    table_gold=Gold_Performance_Operations\n",
    ")\n",
    "\n",
    "inconsistencies_report(\n",
    "    table_silver=silver_stream,\n",
    "    table_gold=Gold_Inconsistencies_Report\n",
    ")"
   ]
  }
 ],
 "metadata": {
  "application/vnd.databricks.v1+notebook": {
   "computePreferences": null,
   "dashboards": [],
   "environmentMetadata": null,
   "inputWidgetPreferences": null,
   "language": "python",
   "notebookMetadata": {
    "pythonIndentUnit": 4
   },
   "notebookName": "Gold performance_operation",
   "widgets": {}
  },
  "dependencies": {
   "lakehouse": {
    "default_lakehouse": "5d727189-ca80-47e8-b94d-a7289df703a2",
    "default_lakehouse_name": "unalwater",
    "default_lakehouse_workspace_id": "19f7c29b-83a9-42bb-812f-ef7bfc71c961",
    "known_lakehouses": [
     {
      "id": "5d727189-ca80-47e8-b94d-a7289df703a2"
     }
    ]
   }
  },
  "kernel_info": {
   "name": "synapse_pyspark"
  },
  "kernelspec": {
   "display_name": "synapse_pyspark",
   "name": "synapse_pyspark"
  },
  "language_info": {
   "name": "python"
  },
  "microsoft": {
   "language": "python",
   "language_group": "synapse_pyspark",
   "ms_spell_check": {
    "ms_spell_check_language": "es"
   }
  },
  "nteract": {
   "version": "nteract-front-end@1.0.0"
  },
  "spark_compute": {
   "compute_id": "/trident/default",
   "session_options": {
    "conf": {
     "spark.synapse.nbs.session.timeout": "1200000"
    }
   }
  },
  "synapse_widget": {
   "state": {},
   "version": "0.1"
  }
 },
 "nbformat": 4,
 "nbformat_minor": 0
}
