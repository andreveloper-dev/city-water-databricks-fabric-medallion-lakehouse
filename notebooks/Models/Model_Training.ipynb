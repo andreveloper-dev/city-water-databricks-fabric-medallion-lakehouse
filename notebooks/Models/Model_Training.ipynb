{
 "cells": [
  {
   "cell_type": "code",
   "execution_count": 0,
   "metadata": {
    "application/vnd.databricks.v1+cell": {
     "cellMetadata": {
      "byteLimit": 2048000,
      "rowLimit": 10000
     },
     "inputWidgets": {},
     "nuid": "6d3a7d10-122e-44e6-bada-0b3a28ffe14b",
     "showTitle": false,
     "tableResultSettingsMap": {},
     "title": ""
    },
    "microsoft": {
     "language": "python",
     "language_group": "synapse_pyspark"
    }
   },
   "outputs": [],
   "source": [
    "%run ../DataProcesing/Transversal/config"
   ]
  },
  {
   "cell_type": "code",
   "execution_count": 0,
   "metadata": {
    "application/vnd.databricks.v1+cell": {
     "cellMetadata": {
      "byteLimit": 2048000,
      "rowLimit": 10000
     },
     "inputWidgets": {},
     "nuid": "c43cf272-e4f4-468d-a103-194398c2fb28",
     "showTitle": false,
     "tableResultSettingsMap": {},
     "title": ""
    },
    "microsoft": {
     "language": "python",
     "language_group": "synapse_pyspark"
    }
   },
   "outputs": [
    {
     "data": {
      "application/vnd.databricks.v1+h3_hint": "",
      "text/plain": []
     },
     "metadata": {},
     "output_type": "display_data"
    }
   ],
   "source": [
    "%run ../DataProcesing/Transversal/utils"
   ]
  },
  {
   "cell_type": "code",
   "execution_count": 0,
   "metadata": {
    "application/vnd.databricks.v1+cell": {
     "cellMetadata": {
      "byteLimit": 2048000,
      "rowLimit": 10000
     },
     "inputWidgets": {},
     "nuid": "f9195c06-1533-4535-b976-0a449c3efe11",
     "showTitle": false,
     "tableResultSettingsMap": {},
     "title": ""
    },
    "microsoft": {
     "language": "python",
     "language_group": "synapse_pyspark"
    }
   },
   "outputs": [],
   "source": [
    "df = spark.table(Gold_Train_Model_Dataset).drop(\"event_date\")\n",
    "\n",
    "train, test = df.randomSplit([0.8, 0.2], seed=666)"
   ]
  },
  {
   "cell_type": "code",
   "execution_count": 0,
   "metadata": {
    "application/vnd.databricks.v1+cell": {
     "cellMetadata": {
      "byteLimit": 2048000,
      "rowLimit": 10000
     },
     "inputWidgets": {},
     "nuid": "07d912af-0bb9-436a-9488-e353d16a6bac",
     "showTitle": false,
     "tableResultSettingsMap": {},
     "title": ""
    },
    "microsoft": {
     "language": "python",
     "language_group": "synapse_pyspark"
    }
   },
   "outputs": [],
   "source": [
    "from pyspark.ml.feature import StringIndexer, OneHotEncoder, StandardScaler, VectorAssembler\n",
    "\n",
    "\n",
    "neighborhood_indexer = StringIndexer(inputCol=\"neighborhood\", outputCol=\"neighborhood_index\", handleInvalid=\"keep\")\n",
    "day_indexer = StringIndexer(inputCol=\"day_number\", outputCol=\"day_number_index\", handleInvalid=\"keep\")\n",
    "\n",
    "neighborhood_encoder = OneHotEncoder(inputCol=\"neighborhood_index\", outputCol=\"neighborhood_ohe\")\n",
    "day_encoder = OneHotEncoder(inputCol=\"day_number_index\", outputCol=\"day_number_ohe\")\n",
    "\n",
    "\n",
    "numeric_cols = [col for col in train.columns if col not in [\"neighborhood\", \"day_number\", \"quantity_products\", \"event_date\"]]\n",
    "\n",
    "vec_numeric = VectorAssembler(inputCols=numeric_cols, outputCol=\"numeric_features_vec\")\n",
    "scaler = StandardScaler(inputCol=\"numeric_features_vec\", outputCol=\"numeric_features_scaled\")\n",
    "\n",
    "assembler = VectorAssembler(\n",
    "    inputCols=[\"numeric_features_scaled\", \"neighborhood_ohe\", \"day_number_ohe\"],\n",
    "    outputCol=\"features\"\n",
    ")"
   ]
  },
  {
   "cell_type": "code",
   "execution_count": 0,
   "metadata": {
    "application/vnd.databricks.v1+cell": {
     "cellMetadata": {
      "byteLimit": 2048000,
      "rowLimit": 10000
     },
     "inputWidgets": {},
     "nuid": "28ae0c51-7b24-413c-9a78-4e30d6c386f9",
     "showTitle": false,
     "tableResultSettingsMap": {},
     "title": ""
    },
    "microsoft": {
     "language": "python",
     "language_group": "synapse_pyspark"
    }
   },
   "outputs": [],
   "source": [
    "from pyspark.ml.regression import LinearRegression, RandomForestRegressor, GBTRegressor\n",
    "from pyspark.ml.evaluation import RegressionEvaluator\n",
    "\n",
    "\n",
    "models = {\n",
    "    \"LinearRegression\": LinearRegression(featuresCol=\"features\", labelCol=\"quantity_products\"),\n",
    "    \"RandomForest\": RandomForestRegressor(featuresCol=\"features\", labelCol=\"quantity_products\", seed=666),\n",
    "    \"GradientBoostedTrees\": GBTRegressor(featuresCol=\"features\", labelCol=\"quantity_products\", seed=666)\n",
    "}\n",
    "\n",
    "\n",
    "evaluators = {\n",
    "    \"RMSE\": RegressionEvaluator(labelCol=\"quantity_products\", predictionCol=\"prediction\", metricName=\"rmse\"),\n",
    "    \"MAE\": RegressionEvaluator(labelCol=\"quantity_products\", predictionCol=\"prediction\", metricName=\"mae\"),\n",
    "    \"R2\": RegressionEvaluator(labelCol=\"quantity_products\", predictionCol=\"prediction\", metricName=\"r2\")\n",
    "}"
   ]
  },
  {
   "cell_type": "code",
   "execution_count": 0,
   "metadata": {
    "application/vnd.databricks.v1+cell": {
     "cellMetadata": {
      "byteLimit": 2048000,
      "rowLimit": 10000
     },
     "inputWidgets": {},
     "nuid": "3ea60dab-4541-47d0-a3a5-75c8750997b7",
     "showTitle": false,
     "tableResultSettingsMap": {},
     "title": ""
    },
    "microsoft": {
     "language": "python",
     "language_group": "synapse_pyspark"
    }
   },
   "outputs": [
    {
     "name": "stdout",
     "output_type": "stream",
     "text": [
      "\n",
      "Entrenando LinearRegression\n"
     ]
    },
    {
     "data": {
      "application/vnd.jupyter.widget-view+json": {
       "model_id": "554b391b4f4d432797c6d322e81725d0",
       "version_major": 2,
       "version_minor": 0
      },
      "text/plain": [
       "Downloading artifacts:   0%|          | 0/75 [00:00<?, ?it/s]"
      ]
     },
     "metadata": {},
     "output_type": "display_data"
    },
    {
     "data": {
      "application/vnd.jupyter.widget-view+json": {
       "model_id": "4e1527c3dbea4735970cf6633f8ea263",
       "version_major": 2,
       "version_minor": 0
      },
      "text/plain": [
       "Uploading artifacts:   0%|          | 0/4 [00:00<?, ?it/s]"
      ]
     },
     "metadata": {},
     "output_type": "display_data"
    },
    {
     "name": "stderr",
     "output_type": "stream",
     "text": [
      "/local_disk0/.ephemeral_nfs/cluster_libraries/python/lib/python3.12/site-packages/mlflow/types/utils.py:452: UserWarning: Hint: Inferred schema contains integer column(s). Integer columns in Python cannot represent missing values. If your input data contains missing values at inference time, it will be encoded as floats and will cause a schema enforcement error. The best way to avoid this problem is to infer the model schema based on a realistic data sample (training dataset) that includes missing values. Alternatively, you can declare integer columns as doubles (float64) whenever these columns may have missing values. See `Handling Integers With Missing Values <https://www.mlflow.org/docs/latest/models.html#handling-integers-with-missing-values>`_ for more details.\n",
      "  warnings.warn(\n",
      "2025/08/01 01:26:43 INFO mlflow.spark: Inferring pip requirements by reloading the logged model from the databricks artifact repository, which can be time-consuming. To speed up, explicitly specify the conda_env or pip_requirements when calling log_model().\n"
     ]
    },
    {
     "data": {
      "application/vnd.jupyter.widget-view+json": {
       "model_id": "2cc5ca5b2c3f4d38b5b07a69d0c96509",
       "version_major": 2,
       "version_minor": 0
      },
      "text/plain": [
       "Downloading artifacts:   0%|          | 0/75 [00:00<?, ?it/s]"
      ]
     },
     "metadata": {},
     "output_type": "display_data"
    },
    {
     "name": "stderr",
     "output_type": "stream",
     "text": [
      "2025/08/01 01:27:08 WARNING mlflow.utils.environment: Encountered an unexpected error while inferring pip requirements (model URI: dbfs:/databricks/mlflow-tracking/3371212633081647/19e4f908b2cb4ef3b9b62e8d777d39b8/artifacts/model/sparkml, flavor: spark). Fall back to return ['pyspark==3.5.2']. Set logging level to DEBUG to see the full traceback. \n"
     ]
    },
    {
     "data": {
      "application/vnd.jupyter.widget-view+json": {
       "model_id": "4dde6eeb1b74481a81d01e0fe6a67291",
       "version_major": 2,
       "version_minor": 0
      },
      "text/plain": [
       "Uploading artifacts:   0%|          | 0/4 [00:00<?, ?it/s]"
      ]
     },
     "metadata": {},
     "output_type": "display_data"
    },
    {
     "name": "stderr",
     "output_type": "stream",
     "text": [
      "Successfully registered model 'unalwater_v2.default.linearregression_v2'.\n"
     ]
    },
    {
     "data": {
      "application/vnd.jupyter.widget-view+json": {
       "model_id": "87c70fd346284baaa43ce0d0504903fa",
       "version_major": 2,
       "version_minor": 0
      },
      "text/plain": [
       "Downloading artifacts:   0%|          | 0/79 [00:00<?, ?it/s]"
      ]
     },
     "metadata": {},
     "output_type": "display_data"
    },
    {
     "data": {
      "application/vnd.jupyter.widget-view+json": {
       "model_id": "ba7e558bdfa14643b21d770305dd3abd",
       "version_major": 2,
       "version_minor": 0
      },
      "text/plain": [
       "Uploading artifacts:   0%|          | 0/79 [00:00<?, ?it/s]"
      ]
     },
     "metadata": {},
     "output_type": "display_data"
    },
    {
     "name": "stderr",
     "output_type": "stream",
     "text": [
      "🔗 Created version '1' of model 'unalwater_v2.default.linearregression_v2': https://dbc-e9915cc8-6c3e.cloud.databricks.com/explore/data/models/unalwater_v2/default/linearregression_v2/version/1?o=841556636100288\n"
     ]
    },
    {
     "name": "stdout",
     "output_type": "stream",
     "text": [
      "\n",
      "Entrenando RandomForest\n"
     ]
    },
    {
     "data": {
      "application/vnd.jupyter.widget-view+json": {
       "model_id": "c0d6053996a3492bb5acb8ea1d0c944d",
       "version_major": 2,
       "version_minor": 0
      },
      "text/plain": [
       "Downloading artifacts:   0%|          | 0/80 [00:00<?, ?it/s]"
      ]
     },
     "metadata": {},
     "output_type": "display_data"
    },
    {
     "data": {
      "application/vnd.jupyter.widget-view+json": {
       "model_id": "8d38cb594f0a424b87c8e02f38c7cb78",
       "version_major": 2,
       "version_minor": 0
      },
      "text/plain": [
       "Uploading artifacts:   0%|          | 0/4 [00:00<?, ?it/s]"
      ]
     },
     "metadata": {},
     "output_type": "display_data"
    },
    {
     "name": "stderr",
     "output_type": "stream",
     "text": [
      "/local_disk0/.ephemeral_nfs/cluster_libraries/python/lib/python3.12/site-packages/mlflow/types/utils.py:452: UserWarning: Hint: Inferred schema contains integer column(s). Integer columns in Python cannot represent missing values. If your input data contains missing values at inference time, it will be encoded as floats and will cause a schema enforcement error. The best way to avoid this problem is to infer the model schema based on a realistic data sample (training dataset) that includes missing values. Alternatively, you can declare integer columns as doubles (float64) whenever these columns may have missing values. See `Handling Integers With Missing Values <https://www.mlflow.org/docs/latest/models.html#handling-integers-with-missing-values>`_ for more details.\n",
      "  warnings.warn(\n",
      "2025/08/01 01:29:25 INFO mlflow.spark: Inferring pip requirements by reloading the logged model from the databricks artifact repository, which can be time-consuming. To speed up, explicitly specify the conda_env or pip_requirements when calling log_model().\n"
     ]
    },
    {
     "data": {
      "application/vnd.jupyter.widget-view+json": {
       "model_id": "3ba8b60a006840c1ab1240954c47d520",
       "version_major": 2,
       "version_minor": 0
      },
      "text/plain": [
       "Downloading artifacts:   0%|          | 0/80 [00:00<?, ?it/s]"
      ]
     },
     "metadata": {},
     "output_type": "display_data"
    },
    {
     "name": "stderr",
     "output_type": "stream",
     "text": [
      "2025/08/01 01:29:50 WARNING mlflow.utils.environment: Encountered an unexpected error while inferring pip requirements (model URI: dbfs:/databricks/mlflow-tracking/3371212633081647/961d98386983486f9f77dce75be89840/artifacts/model/sparkml, flavor: spark). Fall back to return ['pyspark==3.5.2']. Set logging level to DEBUG to see the full traceback. \n"
     ]
    },
    {
     "data": {
      "application/vnd.jupyter.widget-view+json": {
       "model_id": "cc103c0a2bc84f5282f1d9adaafc0ea2",
       "version_major": 2,
       "version_minor": 0
      },
      "text/plain": [
       "Uploading artifacts:   0%|          | 0/4 [00:00<?, ?it/s]"
      ]
     },
     "metadata": {},
     "output_type": "display_data"
    },
    {
     "name": "stderr",
     "output_type": "stream",
     "text": [
      "Successfully registered model 'unalwater_v2.default.randomforest_v2'.\n"
     ]
    },
    {
     "data": {
      "application/vnd.jupyter.widget-view+json": {
       "model_id": "7fcaca3d658847b1961b8f05e1c166c7",
       "version_major": 2,
       "version_minor": 0
      },
      "text/plain": [
       "Downloading artifacts:   0%|          | 0/84 [00:00<?, ?it/s]"
      ]
     },
     "metadata": {},
     "output_type": "display_data"
    },
    {
     "data": {
      "application/vnd.jupyter.widget-view+json": {
       "model_id": "428db5f0d97147c0a25964aa9a966b5a",
       "version_major": 2,
       "version_minor": 0
      },
      "text/plain": [
       "Uploading artifacts:   0%|          | 0/84 [00:00<?, ?it/s]"
      ]
     },
     "metadata": {},
     "output_type": "display_data"
    },
    {
     "name": "stderr",
     "output_type": "stream",
     "text": [
      "🔗 Created version '1' of model 'unalwater_v2.default.randomforest_v2': https://dbc-e9915cc8-6c3e.cloud.databricks.com/explore/data/models/unalwater_v2/default/randomforest_v2/version/1?o=841556636100288\n"
     ]
    },
    {
     "name": "stdout",
     "output_type": "stream",
     "text": [
      "\n",
      "Entrenando GradientBoostedTrees\n"
     ]
    },
    {
     "data": {
      "application/vnd.jupyter.widget-view+json": {
       "model_id": "2285a4a3246348f1ae4f8734e73f4ef6",
       "version_major": 2,
       "version_minor": 0
      },
      "text/plain": [
       "Downloading artifacts:   0%|          | 0/80 [00:00<?, ?it/s]"
      ]
     },
     "metadata": {},
     "output_type": "display_data"
    },
    {
     "data": {
      "application/vnd.jupyter.widget-view+json": {
       "model_id": "9bc7061103c54efd9a22bde726fcb526",
       "version_major": 2,
       "version_minor": 0
      },
      "text/plain": [
       "Uploading artifacts:   0%|          | 0/4 [00:00<?, ?it/s]"
      ]
     },
     "metadata": {},
     "output_type": "display_data"
    },
    {
     "name": "stderr",
     "output_type": "stream",
     "text": [
      "/local_disk0/.ephemeral_nfs/cluster_libraries/python/lib/python3.12/site-packages/mlflow/types/utils.py:452: UserWarning: Hint: Inferred schema contains integer column(s). Integer columns in Python cannot represent missing values. If your input data contains missing values at inference time, it will be encoded as floats and will cause a schema enforcement error. The best way to avoid this problem is to infer the model schema based on a realistic data sample (training dataset) that includes missing values. Alternatively, you can declare integer columns as doubles (float64) whenever these columns may have missing values. See `Handling Integers With Missing Values <https://www.mlflow.org/docs/latest/models.html#handling-integers-with-missing-values>`_ for more details.\n",
      "  warnings.warn(\n",
      "2025/08/01 01:32:18 INFO mlflow.spark: Inferring pip requirements by reloading the logged model from the databricks artifact repository, which can be time-consuming. To speed up, explicitly specify the conda_env or pip_requirements when calling log_model().\n"
     ]
    },
    {
     "data": {
      "application/vnd.jupyter.widget-view+json": {
       "model_id": "ba582007b2d349b6b1f6e3fb04edcaed",
       "version_major": 2,
       "version_minor": 0
      },
      "text/plain": [
       "Downloading artifacts:   0%|          | 0/80 [00:00<?, ?it/s]"
      ]
     },
     "metadata": {},
     "output_type": "display_data"
    },
    {
     "name": "stderr",
     "output_type": "stream",
     "text": [
      "2025/08/01 01:32:51 WARNING mlflow.utils.environment: Encountered an unexpected error while inferring pip requirements (model URI: dbfs:/databricks/mlflow-tracking/3371212633081647/3861c9027584400e84ec9785fd53552f/artifacts/model/sparkml, flavor: spark). Fall back to return ['pyspark==3.5.2']. Set logging level to DEBUG to see the full traceback. \n"
     ]
    },
    {
     "data": {
      "application/vnd.jupyter.widget-view+json": {
       "model_id": "d376921f28b24f06ae06d1cbcb471f23",
       "version_major": 2,
       "version_minor": 0
      },
      "text/plain": [
       "Uploading artifacts:   0%|          | 0/4 [00:00<?, ?it/s]"
      ]
     },
     "metadata": {},
     "output_type": "display_data"
    },
    {
     "name": "stderr",
     "output_type": "stream",
     "text": [
      "Successfully registered model 'unalwater_v2.default.gradientboostedtrees_v2'.\n"
     ]
    },
    {
     "data": {
      "application/vnd.jupyter.widget-view+json": {
       "model_id": "88ea7b7d3b70436db522d8cab9f4dc5f",
       "version_major": 2,
       "version_minor": 0
      },
      "text/plain": [
       "Downloading artifacts:   0%|          | 0/84 [00:00<?, ?it/s]"
      ]
     },
     "metadata": {},
     "output_type": "display_data"
    },
    {
     "data": {
      "application/vnd.jupyter.widget-view+json": {
       "model_id": "7344788fb6a44600aa0534ef1572b1dc",
       "version_major": 2,
       "version_minor": 0
      },
      "text/plain": [
       "Uploading artifacts:   0%|          | 0/84 [00:00<?, ?it/s]"
      ]
     },
     "metadata": {},
     "output_type": "display_data"
    },
    {
     "name": "stderr",
     "output_type": "stream",
     "text": [
      "🔗 Created version '1' of model 'unalwater_v2.default.gradientboostedtrees_v2': https://dbc-e9915cc8-6c3e.cloud.databricks.com/explore/data/models/unalwater_v2/default/gradientboostedtrees_v2/version/1?o=841556636100288\n"
     ]
    }
   ],
   "source": [
    "from pyspark.ml import Pipeline\n",
    "from mlflow.models.signature import infer_signature\n",
    "import mlflow\n",
    "import mlflow.spark\n",
    "\n",
    "\n",
    "results = {}\n",
    "trained_models = {}\n",
    "\n",
    "for model_name, model in models.items():\n",
    "    print(f\"\\nEntrenando {model_name}\")\n",
    "    \n",
    "    pipeline = Pipeline(stages=[\n",
    "        neighborhood_indexer,\n",
    "        day_indexer,\n",
    "        neighborhood_encoder,\n",
    "        day_encoder,\n",
    "        vec_numeric,\n",
    "        scaler,\n",
    "        assembler,\n",
    "        model])\n",
    "        \n",
    "    pipeline_model = pipeline.fit(train)\n",
    "    trained_models[model_name] = pipeline_model\n",
    "\n",
    "    predictions = pipeline_model.transform(test)\n",
    "    \n",
    "    metrics = {}\n",
    "    for metric_name, evaluator in evaluators.items():\n",
    "        metrics[metric_name] = evaluator.evaluate(predictions)\n",
    "    \n",
    "    results[model_name] = metrics\n",
    "\n",
    "    predictions_train = pipeline_model.transform(train)\n",
    "    signature = infer_signature(train.drop(\"quantity_products\"), predictions_train.select(\"prediction\"))\n",
    "\n",
    "    with mlflow.start_run(run_name=f\"{model_name}_run\"):\n",
    "        mlflow.spark.log_model(\n",
    "            pipeline_model,\n",
    "            artifact_path=\"model\",\n",
    "            registered_model_name=f\"{model_name}_v2\",\n",
    "            signature=signature\n",
    "        )"
   ]
  },
  {
   "cell_type": "code",
   "execution_count": 0,
   "metadata": {
    "application/vnd.databricks.v1+cell": {
     "cellMetadata": {
      "byteLimit": 2048000,
      "rowLimit": 10000
     },
     "inputWidgets": {},
     "nuid": "372d8638-97eb-41ad-bb7c-280c5022454b",
     "showTitle": false,
     "tableResultSettingsMap": {},
     "title": ""
    },
    "microsoft": {
     "language": "python",
     "language_group": "synapse_pyspark"
    }
   },
   "outputs": [
    {
     "name": "stdout",
     "output_type": "stream",
     "text": [
      "Modelo               RMSE       MAE        R2        \n",
      "LinearRegression     194.07     147.42     0.8991    \n",
      "RandomForest         206.55     142.68     0.8857    \n",
      "GradientBoostedTrees 279.40     179.56     0.7909    \n",
      "\n",
      "MEJOR MODELO: LinearRegression\n"
     ]
    }
   ],
   "source": [
    "print(f\"{'Modelo':<20} {'RMSE':<10} {'MAE':<10} {'R2':<10}\")\n",
    "\n",
    "for model_name, metrics in results.items():\n",
    "\n",
    "    print(f\"{model_name:<20} {metrics['RMSE']:<10.2f} {metrics['MAE']:<10.2f} \"\n",
    "          f\"{metrics['R2']:<10.4f}\")\n",
    "\n",
    "sorted_models = sorted(results.items(), key=lambda item: item[1]['RMSE'])\n",
    "best_model_name = sorted_models[0][0]\n",
    "best_model = trained_models[best_model_name]\n",
    "\n",
    "print(f\"\\nMEJOR MODELO: {best_model_name}\")"
   ]
  },
  {
   "cell_type": "code",
   "execution_count": 0,
   "metadata": {
    "application/vnd.databricks.v1+cell": {
     "cellMetadata": {
      "byteLimit": 2048000,
      "rowLimit": 10000
     },
     "inputWidgets": {},
     "nuid": "8962d387-0237-41f5-b72c-e174c837f889",
     "showTitle": false,
     "tableResultSettingsMap": {},
     "title": ""
    },
    "collapsed": false,
    "microsoft": {
     "language": "python",
     "language_group": "synapse_pyspark"
    }
   },
   "outputs": [],
   "source": [
    "best_predictions = best_model.transform(df)\n",
    "\n",
    "bias_by_neighborhood = calculate_bias_by_neighborhood(dataset=best_predictions)"
   ]
  },
  {
   "cell_type": "code",
   "execution_count": 0,
   "metadata": {
    "application/vnd.databricks.v1+cell": {
     "cellMetadata": {
      "byteLimit": 2048000,
      "rowLimit": 10000
     },
     "inputWidgets": {},
     "nuid": "efd113ab-1bc6-4392-b8c5-6d3808d7f2b1",
     "showTitle": false,
     "tableResultSettingsMap": {},
     "title": ""
    }
   },
   "outputs": [],
   "source": [
    "mlflow.spark.save_model(\n",
    "    spark_model=best_model,\n",
    "    path=\"/Volumes/unalwater_v2/default/files/model_test/\"\n",
    ")\n"
   ]
  }
 ],
 "metadata": {
  "application/vnd.databricks.v1+notebook": {
   "computePreferences": null,
   "dashboards": [],
   "environmentMetadata": null,
   "inputWidgetPreferences": null,
   "language": "python",
   "notebookMetadata": {
    "pythonIndentUnit": 4
   },
   "notebookName": "Model_Training",
   "widgets": {}
  },
  "dependencies": {
   "lakehouse": {
    "default_lakehouse": "5d727189-ca80-47e8-b94d-a7289df703a2",
    "default_lakehouse_name": "unalwater",
    "default_lakehouse_workspace_id": "19f7c29b-83a9-42bb-812f-ef7bfc71c961",
    "known_lakehouses": [
     {
      "id": "5d727189-ca80-47e8-b94d-a7289df703a2"
     }
    ]
   }
  },
  "kernel_info": {
   "name": "synapse_pyspark"
  },
  "kernelspec": {
   "display_name": "synapse_pyspark",
   "name": "synapse_pyspark"
  },
  "language_info": {
   "name": "python"
  },
  "microsoft": {
   "language": "python",
   "language_group": "synapse_pyspark",
   "ms_spell_check": {
    "ms_spell_check_language": "es"
   }
  },
  "nteract": {
   "version": "nteract-front-end@1.0.0"
  },
  "spark_compute": {
   "compute_id": "/trident/default",
   "session_options": {
    "conf": {
     "spark.synapse.nbs.session.timeout": "1200000"
    }
   }
  },
  "synapse_widget": {
   "state": {
    "cbfdd224-7bf3-44c4-8a50-dd2102adb1cb": {
     "persist_state": {
      "view": {
       "chartOptions": {
        "aggregationType": "sum",
        "binsNumber": 10,
        "categoryFieldKeys": [],
        "chartType": "bar",
        "isStacked": false,
        "seriesFieldKeys": [],
        "wordFrequency": "-1"
       },
       "tableOptions": {},
       "type": "details",
       "viewOptionsGroup": [
        {
         "tabItems": [
          {
           "key": "0",
           "name": "Table",
           "options": {},
           "type": "table"
          }
         ]
        }
       ]
      }
     },
     "sync_state": {
      "isSummary": false,
      "language": "scala",
      "table": {
       "rows": [
        {
         "0": "ARANJUEZ",
         "1": "236.0",
         "2": "236.00002332727848",
         "3": "2.3327278483975533E-5"
        },
        {
         "0": "BELÉN",
         "1": "175.83333333333334",
         "2": "175.83334033841115",
         "3": "7.005077804933535E-6"
        },
        {
         "0": "BUENOS AIRES",
         "1": "128.25",
         "2": "128.2499975261155",
         "3": "-2.473884507026014E-6"
        },
        {
         "0": "CASTILLA",
         "1": "191.6",
         "2": "191.60000019557725",
         "3": "1.9557725750019017E-7"
        },
        {
         "0": "CORREGIMIENTO DE ALTAVISTA",
         "1": "740.5",
         "2": "775.4325876330095",
         "3": "34.93258763300946"
        },
        {
         "0": "CORREGIMIENTO DE SAN ANTONIO DE PRADO",
         "1": "1383.3333333333333",
         "2": "1331.3155017681513",
         "3": "-52.01783156518195"
        },
        {
         "0": "CORREGIMIENTO DE SAN CRISTÓBAL",
         "1": "1275.0",
         "2": "1211.0025137548712",
         "3": "-63.99748624512881"
        },
        {
         "0": "CORREGIMIENTO DE SAN SEBASTIÁN DE PALMITAS",
         "1": "1136.0",
         "2": "1135.9999750031718",
         "3": "-2.4996828187795472E-5"
        },
        {
         "0": "CORREGIMIENTO DE SANTA ELENA",
         "1": "1784.0",
         "2": "1783.999965381164",
         "3": "-3.4618836025401833E-5"
        },
        {
         "0": "DOCE DE OCTUBRE",
         "1": "200.4",
         "2": "200.4000098092869",
         "3": "9.809286893869285E-6"
        },
        {
         "0": "EL POBLADO",
         "1": "392.8333333333333",
         "2": "431.40258096862317",
         "3": "38.569247635289855"
        },
        {
         "0": "GUAYABAL",
         "1": "127.2",
         "2": "127.19999569971678",
         "3": "-4.300283222846701E-6"
        },
        {
         "0": "LA AMÉRICA",
         "1": "137.16666666666666",
         "2": "143.30422804579743",
         "3": "6.137561379130773"
        },
        {
         "0": "LA CANDELARIA",
         "1": "199.25",
         "2": "148.02060448859373",
         "3": "-51.22939551140627"
        },
        {
         "0": "LAURELES ESTADIO",
         "1": "172.16666666666666",
         "2": "172.1666703372225",
         "3": "3.6705558557059703E-6"
        },
        {
         "0": "MANRIQUE",
         "1": "90.0",
         "2": "98.98557404667545",
         "3": "8.985574046675453"
        },
        {
         "0": "POPULAR",
         "1": "86.8",
         "2": "101.2394165888373",
         "3": "14.439416588837304"
        },
        {
         "0": "ROBLEDO",
         "1": "196.66666666666666",
         "2": "269.5686231304419",
         "3": "72.90195646377524"
        },
        {
         "0": "SAN JAVIER",
         "1": "110.8",
         "2": "136.67365054338242",
         "3": "25.873650543382425"
        },
        {
         "0": "SANTA CRUZ",
         "1": "100.8",
         "2": "114.89096616856928",
         "3": "14.090966168569281"
        },
        {
         "0": "VILLA HERMOSA",
         "1": "147.0",
         "2": "146.06720452038616",
         "3": "-0.9327954796138442"
        }
       ],
       "schema": [
        {
         "key": "0",
         "name": "neighborhood",
         "type": "string"
        },
        {
         "key": "1",
         "name": "avg_real",
         "type": "double"
        },
        {
         "key": "2",
         "name": "avg_predicted",
         "type": "double"
        },
        {
         "key": "3",
         "name": "avg_bias",
         "type": "double"
        }
       ],
       "truncated": false
      },
      "wranglerEntryContext": {
       "candidateVariableNames": [
        "bias_by_neighborhood"
       ],
       "dataframeType": "pyspark"
      }
     },
     "type": "Synapse.DataFrame"
    }
   },
   "version": "0.1"
  }
 },
 "nbformat": 4,
 "nbformat_minor": 0
}
