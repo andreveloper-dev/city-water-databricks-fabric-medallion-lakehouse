{
 "cells": [
  {
   "cell_type": "code",
   "execution_count": 0,
   "metadata": {
    "application/vnd.databricks.v1+cell": {
     "cellMetadata": {
      "byteLimit": 2048000,
      "rowLimit": 10000
     },
     "inputWidgets": {},
     "nuid": "a371aaf1-31af-4ad2-8acc-35fe11187f4d",
     "showTitle": false,
     "tableResultSettingsMap": {},
     "title": ""
    },
    "microsoft": {
     "language": "python",
     "language_group": "synapse_pyspark"
    }
   },
   "outputs": [],
   "source": [
    "%run ../DataProcesing/Transversal/config"
   ]
  },
  {
   "cell_type": "code",
   "execution_count": 0,
   "metadata": {
    "application/vnd.databricks.v1+cell": {
     "cellMetadata": {
      "byteLimit": 2048000,
      "rowLimit": 10000
     },
     "inputWidgets": {},
     "nuid": "47d62a61-efb0-4638-894d-0f49f45f6660",
     "showTitle": false,
     "tableResultSettingsMap": {},
     "title": ""
    },
    "microsoft": {
     "language": "python",
     "language_group": "synapse_pyspark"
    }
   },
   "outputs": [],
   "source": [
    "%run ../DataProcesing/Transversal/utils"
   ]
  },
  {
   "cell_type": "code",
   "execution_count": 0,
   "metadata": {
    "application/vnd.databricks.v1+cell": {
     "cellMetadata": {
      "byteLimit": 2048000,
      "rowLimit": 10000
     },
     "inputWidgets": {},
     "nuid": "3bf9d78e-b2ec-4915-ba35-9def999e39e5",
     "showTitle": false,
     "tableResultSettingsMap": {},
     "title": ""
    },
    "microsoft": {
     "language": "python",
     "language_group": "synapse_pyspark"
    }
   },
   "outputs": [],
   "source": [
    "training_dataset = spark.table(Gold_Train_Model_Dataset)"
   ]
  },
  {
   "cell_type": "code",
   "execution_count": 0,
   "metadata": {
    "application/vnd.databricks.v1+cell": {
     "cellMetadata": {
      "byteLimit": 2048000,
      "rowLimit": 10000
     },
     "inputWidgets": {},
     "nuid": "cf0ce0b3-4cf0-44e0-8251-62dac0054ad3",
     "showTitle": false,
     "tableResultSettingsMap": {},
     "title": ""
    },
    "microsoft": {
     "language": "python",
     "language_group": "synapse_pyspark"
    }
   },
   "outputs": [],
   "source": [
    "from datetime import datetime, timedelta\n",
    "\n",
    "tomorrow = datetime.now(horario_colombia) + timedelta(days=1)\n",
    "\n",
    "day_number_tomorrow = (tomorrow.weekday() + 2)\n",
    "\n",
    "if day_number_tomorrow > 7:\n",
    "    day_number_tomorrow -= 7"
   ]
  },
  {
   "cell_type": "code",
   "execution_count": 0,
   "metadata": {
    "application/vnd.databricks.v1+cell": {
     "cellMetadata": {
      "byteLimit": 2048000,
      "rowLimit": 10000
     },
     "inputWidgets": {},
     "nuid": "c23e3b5d-c16b-46fb-9dfd-5edb4da9d443",
     "showTitle": false,
     "tableResultSettingsMap": {},
     "title": ""
    },
    "microsoft": {
     "language": "python",
     "language_group": "synapse_pyspark"
    }
   },
   "outputs": [],
   "source": [
    "from pyspark.sql.window import Window\n",
    "from pyspark.sql.functions import col, row_number, lit\n",
    "\n",
    "\n",
    "window = Window.partitionBy(\"neighborhood\").orderBy(col(\"event_date\").desc())\n",
    "\n",
    "df_latest = training_dataset.withColumn(\"row_num\", row_number().over(window))\\\n",
    "                            .filter(col(\"row_num\") == 1)\\\n",
    "                            .drop(\"row_num\")\n",
    "\n",
    "df_pred = df_latest.withColumn(\"day_number\", lit(day_number_tomorrow))\\\n",
    "                   .drop(*[\"event_date\", \"quantity_products\"])"
   ]
  },
  {
   "cell_type": "code",
   "execution_count": 0,
   "metadata": {
    "application/vnd.databricks.v1+cell": {
     "cellMetadata": {
      "byteLimit": 2048000,
      "rowLimit": 10000
     },
     "inputWidgets": {},
     "nuid": "bb4ae1f8-9f64-485f-adae-ce1af19e68ec",
     "showTitle": false,
     "tableResultSettingsMap": {},
     "title": ""
    }
   },
   "outputs": [],
   "source": [
    "import mlflow.pyfunc\n",
    "from pyspark.ml import PipelineModel\n",
    "\n",
    "# Load the model as Pyfunc\n",
    "model_uri = \"/Volumes/unalwater_v2/default/files/Model\"\n",
    "# Model = mlflow.pyfun.load_model (Model_uri)\n",
    "model = mlflow.spark.load_model(model_uri)\n",
    "\n",
    "df_result  = model.transform(df_pred)"
   ]
  },
  {
   "cell_type": "code",
   "execution_count": 0,
   "metadata": {
    "application/vnd.databricks.v1+cell": {
     "cellMetadata": {
      "byteLimit": 2048000,
      "rowLimit": 10000
     },
     "inputWidgets": {},
     "nuid": "d1bcfbbe-d302-47e3-bab3-066e3d80136a",
     "showTitle": false,
     "tableResultSettingsMap": {},
     "title": ""
    },
    "microsoft": {
     "language": "python",
     "language_group": "synapse_pyspark"
    }
   },
   "outputs": [],
   "source": [
    "# Training_dataset_pd = Training_dataset.Topandas ()\n",
    "predictions = model.transform(training_dataset)\n",
    "\n",
    "bias_by_neighborhood = calculate_bias_by_neighborhood(dataset=predictions)"
   ]
  },
  {
   "cell_type": "code",
   "execution_count": 0,
   "metadata": {
    "application/vnd.databricks.v1+cell": {
     "cellMetadata": {
      "byteLimit": 2048000,
      "rowLimit": 10000
     },
     "inputWidgets": {},
     "nuid": "c72e350f-64d6-475b-99af-b1b0af0f25c5",
     "showTitle": false,
     "tableResultSettingsMap": {},
     "title": ""
    }
   },
   "outputs": [],
   "source": [
    "df_result_with_bias = df_result.join(\n",
    "    bias_by_neighborhood.select(\"neighborhood\", \"avg_bias\", \"bias_percentage\"),\n",
    "    on=\"neighborhood\",\n",
    "    how=\"left\"\n",
    ")\n",
    "\n",
    "df_final = df_result_with_bias.select(\n",
    "    \"neighborhood\",\n",
    "    \"prediction\",\n",
    "    \"avg_bias\",\n",
    "    \"bias_percentage\"\n",
    ")"
   ]
  },
  {
   "cell_type": "code",
   "execution_count": 0,
   "metadata": {
    "application/vnd.databricks.v1+cell": {
     "cellMetadata": {
      "byteLimit": 2048000,
      "rowLimit": 10000
     },
     "inputWidgets": {},
     "nuid": "820a18ce-418a-40d5-ae01-754da06f7ed5",
     "showTitle": false,
     "tableResultSettingsMap": {},
     "title": ""
    },
    "microsoft": {
     "language": "python",
     "language_group": "synapse_pyspark"
    }
   },
   "outputs": [],
   "source": [
    "df_final.write.format('delta').mode(\"overwrite\").save(Gold_Demand_Prediction)"
   ]
  },
  {
   "cell_type": "code",
   "execution_count": 0,
   "metadata": {
    "application/vnd.databricks.v1+cell": {
     "cellMetadata": {
      "byteLimit": 2048000,
      "rowLimit": 10000
     },
     "inputWidgets": {},
     "nuid": "6594b46e-c40a-4885-a178-675297be8588",
     "showTitle": false,
     "tableResultSettingsMap": {},
     "title": ""
    }
   },
   "outputs": [],
   "source": [
    "df_final.write.mode(\"overwrite\").saveAsTable(\"gold_demand_prediction\")\n"
   ]
  }
 ],
 "metadata": {
  "application/vnd.databricks.v1+notebook": {
   "computePreferences": null,
   "dashboards": [],
   "environmentMetadata": null,
   "inputWidgetPreferences": null,
   "language": "python",
   "notebookMetadata": {
    "pythonIndentUnit": 4
   },
   "notebookName": "Demand prediction",
   "widgets": {}
  },
  "dependencies": {
   "environment": {
    "environmentId": "913dd7af-cd09-411a-93a1-ccfc2c7af3d7",
    "workspaceId": "19f7c29b-83a9-42bb-812f-ef7bfc71c961"
   },
   "lakehouse": {
    "default_lakehouse": "5d727189-ca80-47e8-b94d-a7289df703a2",
    "default_lakehouse_name": "unalwater",
    "default_lakehouse_workspace_id": "19f7c29b-83a9-42bb-812f-ef7bfc71c961",
    "known_lakehouses": [
     {
      "id": "5d727189-ca80-47e8-b94d-a7289df703a2"
     }
    ]
   }
  },
  "kernel_info": {
   "name": "synapse_pyspark"
  },
  "kernelspec": {
   "display_name": "synapse_pyspark",
   "name": "synapse_pyspark"
  },
  "language_info": {
   "name": "python"
  },
  "microsoft": {
   "language": "python",
   "language_group": "synapse_pyspark",
   "ms_spell_check": {
    "ms_spell_check_language": "es"
   }
  },
  "nteract": {
   "version": "nteract-front-end@1.0.0"
  },
  "spark_compute": {
   "compute_id": "/trident/default",
   "session_options": {
    "conf": {
     "spark.synapse.nbs.session.timeout": "1200000"
    }
   }
  },
  "synapse_widget": {
   "state": {
    "77571965-7a16-4fcf-b52d-76e835fb28e3": {
     "persist_state": {
      "view": {
       "chartOptions": {
        "aggregationType": "sum",
        "binsNumber": 10,
        "categoryFieldKeys": [],
        "chartType": "bar",
        "isStacked": false,
        "seriesFieldKeys": [],
        "wordFrequency": "-1"
       },
       "tableOptions": {},
       "type": "details",
       "viewOptionsGroup": [
        {
         "tabItems": [
          {
           "key": "0",
           "name": "Table",
           "options": {},
           "type": "table"
          }
         ]
        }
       ]
      }
     },
     "sync_state": {
      "isSummary": false,
      "language": "scala",
      "table": {
       "rows": [
        {
         "0": "ARANJUEZ",
         "1": "4",
         "2": "96",
         "3": "373",
         "4": "234.5"
        },
        {
         "0": "BELÉN",
         "1": "4",
         "2": "49",
         "3": "110",
         "4": "79.5"
        },
        {
         "0": "BUENOS AIRES",
         "1": "4",
         "2": "214",
         "3": "56",
         "4": "135.0"
        },
        {
         "0": "CASTILLA",
         "1": "4",
         "2": "164",
         "3": "144",
         "4": "154.0"
        },
        {
         "0": "CORREGIMIENTO DE ALTAVISTA",
         "1": "4",
         "2": "1135",
         "3": "993",
         "4": "1064.0"
        },
        {
         "0": "CORREGIMIENTO DE SAN ANTONIO DE PRADO",
         "1": "4",
         "2": "1644",
         "3": "1687",
         "4": "1665.5"
        },
        {
         "0": "CORREGIMIENTO DE SAN CRISTÓBAL",
         "1": "4",
         "2": "1325",
         "3": "918",
         "4": "1121.5"
        },
        {
         "0": "CORREGIMIENTO DE SAN SEBASTIÁN DE PALMITAS",
         "1": "4",
         "2": "1788",
         "3": "868",
         "4": "1328.0"
        },
        {
         "0": "CORREGIMIENTO DE SANTA ELENA",
         "1": "4",
         "2": "1249",
         "3": "2218",
         "4": "1733.5"
        },
        {
         "0": "DOCE DE OCTUBRE",
         "1": "4",
         "2": "258",
         "3": "100",
         "4": "179.0"
        },
        {
         "0": "EL POBLADO",
         "1": "4",
         "2": "396",
         "3": "204",
         "4": "300.0"
        },
        {
         "0": "GUAYABAL",
         "1": "4",
         "2": "170",
         "3": "181",
         "4": "175.5"
        },
        {
         "0": "LA AMÉRICA",
         "1": "4",
         "2": "97",
         "3": "299",
         "4": "198.0"
        },
        {
         "0": "LA CANDELARIA",
         "1": "4",
         "2": "120",
         "3": "122",
         "4": "121.0"
        },
        {
         "0": "LAURELES ESTADIO",
         "1": "4",
         "2": "91",
         "3": "171",
         "4": "131.0"
        },
        {
         "0": "MANRIQUE",
         "1": "4",
         "2": "77",
         "3": "17",
         "4": "47.0"
        },
        {
         "0": "POPULAR",
         "1": "4",
         "2": "42",
         "3": "67",
         "4": "54.5"
        },
        {
         "0": "ROBLEDO",
         "1": "4",
         "2": "98",
         "3": "147",
         "4": "122.5"
        },
        {
         "0": "SAN JAVIER",
         "1": "4",
         "2": "45",
         "3": "150",
         "4": "97.5"
        },
        {
         "0": "SANTA CRUZ",
         "1": "4",
         "2": "56",
         "3": "163",
         "4": "109.5"
        },
        {
         "0": "VILLA HERMOSA",
         "1": "4",
         "2": "163",
         "3": "192",
         "4": "177.5"
        }
       ],
       "schema": [
        {
         "key": "0",
         "name": "neighborhood",
         "type": "string"
        },
        {
         "key": "1",
         "name": "day_number",
         "type": "int"
        },
        {
         "key": "2",
         "name": "demand_lag_1",
         "type": "bigint"
        },
        {
         "key": "3",
         "name": "demand_lag_2",
         "type": "bigint"
        },
        {
         "key": "4",
         "name": "avg_demand_2d",
         "type": "double"
        }
       ],
       "truncated": false
      },
      "wranglerEntryContext": {
       "candidateVariableNames": [
        "df_pred"
       ],
       "dataframeType": "pyspark"
      }
     },
     "type": "Synapse.DataFrame"
    }
   },
   "version": "0.1"
  },
  "widgets": {
   "application/vnd.jupyter.widget-state+json": {
    "state": {
     "0134bb6e0fef44559cba1758fba81c61": {
      "model_module": "@jupyter-widgets/controls",
      "model_module_version": "2.0.0",
      "model_name": "ProgressStyleModel",
      "state": {
       "description_width": ""
      }
     },
     "12c22f419a9941ad94adf49557262bf9": {
      "model_module": "@jupyter-widgets/base",
      "model_module_version": "2.0.0",
      "model_name": "LayoutModel",
      "state": {}
     },
     "838c5e1960274f93973361e1e755694e": {
      "model_module": "@jupyter-widgets/controls",
      "model_module_version": "2.0.0",
      "model_name": "HTMLModel",
      "state": {
       "layout": "IPY_MODEL_12c22f419a9941ad94adf49557262bf9",
       "style": "IPY_MODEL_8d225af078f4496681fe6fbfdd010ca0",
       "value": "Downloading artifacts: 100%"
      }
     },
     "88d44b605eaa468580c75729bcac7d5c": {
      "model_module": "@jupyter-widgets/controls",
      "model_module_version": "2.0.0",
      "model_name": "HTMLModel",
      "state": {
       "layout": "IPY_MODEL_e602a06d582d400282a2b5aa41719af3",
       "style": "IPY_MODEL_d54e4788a82a416fb3214579b219ddb5",
       "value": " 53/53 [00:00&lt;00:00, 1850.83it/s]"
      }
     },
     "8d225af078f4496681fe6fbfdd010ca0": {
      "model_module": "@jupyter-widgets/controls",
      "model_module_version": "2.0.0",
      "model_name": "HTMLStyleModel",
      "state": {
       "description_width": "",
       "font_size": null,
       "text_color": null
      }
     },
     "b9f13e28d30947d9b8238e3e8fb71a61": {
      "model_module": "@jupyter-widgets/controls",
      "model_module_version": "2.0.0",
      "model_name": "HBoxModel",
      "state": {
       "children": [
        "IPY_MODEL_838c5e1960274f93973361e1e755694e",
        "IPY_MODEL_e7b2ae057e5d4cebb6dba8efe7516c9f",
        "IPY_MODEL_88d44b605eaa468580c75729bcac7d5c"
       ],
       "layout": "IPY_MODEL_f7bfd5b405b44df78212f8bd051e243c"
      }
     },
     "cb58b9c7dc0642c98112a9e251e6de5d": {
      "model_module": "@jupyter-widgets/base",
      "model_module_version": "2.0.0",
      "model_name": "LayoutModel",
      "state": {}
     },
     "d54e4788a82a416fb3214579b219ddb5": {
      "model_module": "@jupyter-widgets/controls",
      "model_module_version": "2.0.0",
      "model_name": "HTMLStyleModel",
      "state": {
       "description_width": "",
       "font_size": null,
       "text_color": null
      }
     },
     "e602a06d582d400282a2b5aa41719af3": {
      "model_module": "@jupyter-widgets/base",
      "model_module_version": "2.0.0",
      "model_name": "LayoutModel",
      "state": {}
     },
     "e7b2ae057e5d4cebb6dba8efe7516c9f": {
      "model_module": "@jupyter-widgets/controls",
      "model_module_version": "2.0.0",
      "model_name": "FloatProgressModel",
      "state": {
       "bar_style": "success",
       "layout": "IPY_MODEL_cb58b9c7dc0642c98112a9e251e6de5d",
       "max": 53,
       "style": "IPY_MODEL_0134bb6e0fef44559cba1758fba81c61",
       "value": 53
      }
     },
     "f7bfd5b405b44df78212f8bd051e243c": {
      "model_module": "@jupyter-widgets/base",
      "model_module_version": "2.0.0",
      "model_name": "LayoutModel",
      "state": {}
     }
    },
    "version_major": 2,
    "version_minor": 0
   }
  }
 },
 "nbformat": 4,
 "nbformat_minor": 0
}
